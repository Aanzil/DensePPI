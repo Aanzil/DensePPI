{
 "cells": [
  {
   "cell_type": "code",
   "execution_count": 1,
   "metadata": {},
   "outputs": [],
   "source": [
    "lr = 1e-4\n",
    "bs = 32\n",
    "val_split = 0.2\n",
    "num_epochs = 10\n",
    "num_classes = 2\n",
    "MOMENTUM = 0.9\n",
    "epochs = 10"
   ]
  },
  {
   "cell_type": "code",
   "execution_count": 2,
   "metadata": {},
   "outputs": [
    {
     "name": "stdout",
     "output_type": "stream",
     "text": [
      "cuda:0\n"
     ]
    }
   ],
   "source": [
    "import gc\n",
    "import torch\n",
    "import torch.nn as nn\n",
    "import torch.nn.functional as F\n",
    "import torch.optim as optim\n",
    "from torch.optim import lr_scheduler\n",
    "from torch.utils import data\n",
    "import numpy as np\n",
    "import torchvision\n",
    "from  numpy import exp, absolute, asarray\n",
    "from torchvision import datasets, transforms\n",
    "import matplotlib.pyplot as plt\n",
    "import time, os, json, random, gc, copy, math, multiprocessing\n",
    "from sklearn import svm\n",
    "import sklearn.model_selection as model_selection\n",
    "from sklearn.metrics import accuracy_score,f1_score,precision_score ,recall_score \n",
    "from PIL import Image\n",
    "from pathlib import Path\n",
    "\n",
    "device = torch.device(\"cuda:0\" if torch.cuda.is_available() else \"cpu\")\n",
    "print(device)"
   ]
  },
  {
   "cell_type": "code",
   "execution_count": 3,
   "metadata": {},
   "outputs": [],
   "source": [
    "data_dir = str(Path().resolve().parent.parent.parent) + \"/Datasets/Independent Datasets/E.Coli/sub/\""
   ]
  },
  {
   "cell_type": "code",
   "execution_count": 4,
   "metadata": {},
   "outputs": [
    {
     "name": "stdout",
     "output_type": "stream",
     "text": [
      "{'pos_sub': 0}\n"
     ]
    }
   ],
   "source": [
    "ho_transforms = transforms.Compose([transforms.ToTensor()])\n",
    "ho_data = datasets.ImageFolder(data_dir, transform=ho_transforms)\n",
    "holoader = torch.utils.data.DataLoader(ho_data, batch_size=bs)\n",
    "print(ho_data.class_to_idx)"
   ]
  },
  {
   "cell_type": "code",
   "execution_count": 5,
   "metadata": {},
   "outputs": [],
   "source": [
    "model = torch.load(str(Path().resolve().parent.parent) + \"/Benchmark/S.Cervisiae/\" + \"finalmodel-full.pth\")"
   ]
  },
  {
   "cell_type": "code",
   "execution_count": 6,
   "metadata": {},
   "outputs": [
    {
     "name": "stdout",
     "output_type": "stream",
     "text": [
      "1920\n"
     ]
    }
   ],
   "source": [
    "print(model.classifier.in_features)"
   ]
  },
  {
   "cell_type": "code",
   "execution_count": 7,
   "metadata": {},
   "outputs": [],
   "source": [
    "criterion = nn.CrossEntropyLoss()\n",
    "optimizer = optim.SGD(model.parameters(), lr=1e-4, momentum=0.9)"
   ]
  },
  {
   "cell_type": "code",
   "execution_count": 8,
   "metadata": {},
   "outputs": [
    {
     "name": "stdout",
     "output_type": "stream",
     "text": [
      "Test loss: 5.322.. Test accuracy: 0.096\n"
     ]
    }
   ],
   "source": [
    "ho_loss = 0\n",
    "ho_accuracy = 0\n",
    "res = []\n",
    "orig_labels = []\n",
    "model.eval()\n",
    "with torch.no_grad():\n",
    "    for inputs, labels in holoader:\n",
    "        inputs = inputs.to(device)\n",
    "        #labels = labels.type(torch.LongTensor) # <---- Here (casting)\n",
    "        labels = labels.to(device)\n",
    "        logps = model.forward(inputs)\n",
    "        batch_loss = criterion(logps, labels)\n",
    "        ho_loss += batch_loss.item()\n",
    "\n",
    "        ps = torch.exp(logps)\n",
    "        top_p, top_class = ps.topk(1, dim=1)\n",
    "        equals = top_class == labels.view(*top_class.shape)\n",
    "        res.extend(top_class)\n",
    "        orig_labels.extend(labels)\n",
    "        ho_accuracy += torch.mean(equals.type(torch.FloatTensor)).item()                \n",
    "print(f\"Test loss: {ho_loss/len(holoader):.3f}.. \"\n",
    "      f\"Test accuracy: {ho_accuracy/len(holoader):.3f}\")"
   ]
  },
  {
   "cell_type": "code",
   "execution_count": 9,
   "metadata": {},
   "outputs": [],
   "source": [
    "import pickle\n",
    "import json\n",
    "\n",
    "f = open(str(Path().resolve().parent.parent.parent) + \"/Datasets/Independent Datasets/E.Coli/pimage_dict.json\")\n",
    "p_data = json.load(f)\n",
    "f.close()"
   ]
  },
  {
   "cell_type": "code",
   "execution_count": 10,
   "metadata": {},
   "outputs": [],
   "source": [
    "fin_op = []\n",
    "fin_ip = []\n",
    "for img in p_data:\n",
    "    if(p_data[img]):\n",
    "        outputs = [res[i - 1].item() for i in p_data[img]]\n",
    "        fin_op.append(1 if np.mean(outputs)>=0.5 else 0)\n",
    "        fin_ip.append(1)"
   ]
  },
  {
   "cell_type": "code",
   "execution_count": 11,
   "metadata": {},
   "outputs": [
    {
     "name": "stdout",
     "output_type": "stream",
     "text": [
      "4049 4049\n"
     ]
    }
   ],
   "source": [
    "print(len(fin_op), len(fin_ip))"
   ]
  },
  {
   "cell_type": "code",
   "execution_count": 12,
   "metadata": {},
   "outputs": [
    {
     "name": "stdout",
     "output_type": "stream",
     "text": [
      "0.9972832798221783\n"
     ]
    }
   ],
   "source": [
    "correct = (np.array(fin_op) == np.array(fin_ip))\n",
    "accuracy = correct.sum() / correct.size\n",
    "print(accuracy)"
   ]
  },
  {
   "cell_type": "code",
   "execution_count": null,
   "metadata": {},
   "outputs": [],
   "source": []
  }
 ],
 "metadata": {
  "kernelspec": {
   "display_name": "Python 3 (ipykernel)",
   "language": "python",
   "name": "python3"
  },
  "language_info": {
   "codemirror_mode": {
    "name": "ipython",
    "version": 3
   },
   "file_extension": ".py",
   "mimetype": "text/x-python",
   "name": "python",
   "nbconvert_exporter": "python",
   "pygments_lexer": "ipython3",
   "version": "3.8.5"
  }
 },
 "nbformat": 4,
 "nbformat_minor": 2
}
