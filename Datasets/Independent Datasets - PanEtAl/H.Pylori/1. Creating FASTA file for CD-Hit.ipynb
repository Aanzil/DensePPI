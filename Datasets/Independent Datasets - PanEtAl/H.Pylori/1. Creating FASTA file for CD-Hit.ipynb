{
 "cells": [
  {
   "cell_type": "code",
   "execution_count": 1,
   "metadata": {},
   "outputs": [],
   "source": [
    "import pandas as pd\n",
    "import numpy as np\n",
    "import math\n",
    "import json\n",
    "import os\n",
    "import scipy.io, random\n",
    "from pathlib import Path\n",
    "import itertools\n",
    "\n",
    "abs_path = os.getcwd()\n",
    "\n",
    "data_path = str(Path().resolve().parent) + \"/PPI_sequence/\""
   ]
  },
  {
   "cell_type": "code",
   "execution_count": 2,
   "metadata": {},
   "outputs": [
    {
     "data": {
      "text/plain": [
       "'/mnt/a8fe2bcf-9383-4903-9155-05f77b84ac2b/DensePPI/Datasets/Independent Datasets - PanEtAl/PPI_sequence/'"
      ]
     },
     "execution_count": 2,
     "metadata": {},
     "output_type": "execute_result"
    }
   ],
   "source": [
    "data_path"
   ]
  },
  {
   "cell_type": "code",
   "execution_count": 3,
   "metadata": {},
   "outputs": [],
   "source": [
    "PAmat = scipy.io.loadmat(data_path + 'Mix_Hpylo_data.mat')\n",
    "PBmat = scipy.io.loadmat(data_path + 'Mix_Hpylo_data.mat')"
   ]
  },
  {
   "cell_type": "code",
   "execution_count": 4,
   "metadata": {},
   "outputs": [],
   "source": [
    "P1 = [PAmat['protein_A'][i, 0][0] for i in range(len(PAmat['protein_A']))]\n",
    "P2 = [PBmat['protein_B'][i, 0][0] for i in range(len(PBmat['protein_B']))]"
   ]
  },
  {
   "cell_type": "code",
   "execution_count": 5,
   "metadata": {},
   "outputs": [],
   "source": [
    "unique = list(dict.fromkeys(list(itertools.chain(P1, P2))))"
   ]
  },
  {
   "cell_type": "code",
   "execution_count": 6,
   "metadata": {},
   "outputs": [],
   "source": [
    "protdict = {}\n",
    "for i in range(len(unique)):\n",
    "    protdict[unique[i]] = \"P\" + str(i)"
   ]
  },
  {
   "cell_type": "code",
   "execution_count": 7,
   "metadata": {},
   "outputs": [],
   "source": [
    "PA = [protdict[prot] for prot in P1]\n",
    "PB = [protdict[prot] for prot in P2]"
   ]
  },
  {
   "cell_type": "code",
   "execution_count": 8,
   "metadata": {},
   "outputs": [],
   "source": [
    "#rand_nums = random.sample(list(range(len(NAmat['N_protein_a']))), len(PAmat['P_protein_a']))\n",
    "#N1 = [NAmat['N_protein_a'][i, 0][0] for i in rand_nums]\n",
    "#N2 = [NBmat['N_protein_b'][i, 0][0] for i in rand_nums]"
   ]
  },
  {
   "cell_type": "code",
   "execution_count": 9,
   "metadata": {},
   "outputs": [],
   "source": [
    "pdict = [{'pA': pA, 'pB': pB} for pA, pB in zip(PA, PB)]"
   ]
  },
  {
   "cell_type": "code",
   "execution_count": 10,
   "metadata": {},
   "outputs": [],
   "source": [
    "protdict_map = {v: k for k, v in protdict.items()}"
   ]
  },
  {
   "cell_type": "code",
   "execution_count": 11,
   "metadata": {},
   "outputs": [],
   "source": [
    "with open(\"positive.json\", 'w') as outfile:\n",
    "    json.dump(pdict, outfile)   "
   ]
  },
  {
   "cell_type": "code",
   "execution_count": 12,
   "metadata": {},
   "outputs": [],
   "source": [
    "df_pos = pd.read_pickle(str(Path().resolve().parent.parent) + \"/Benchmark/PanEtAl/positive.pkl\")\n",
    "df_neg = pd.read_pickle(str(Path().resolve().parent.parent) + \"/Benchmark/PanEtAl/negative.pkl\")\n",
    "\n",
    "total_proteins_bench = set(df_neg['Protein_1']) | set(df_pos['Protein_1']) | set(df_neg['Protein_2']\n",
    "                                                                                ) | set(df_pos['Protein_2'])\n",
    "\n",
    "total_proteins_bench = list(total_proteins_bench)\n",
    "len(total_proteins_bench)\n",
    "\n",
    "new_df = df_neg[['Protein_1', 'Protein_seq1']]\n",
    "new_df.columns = ['ID', 'Sequence']\n",
    "temp = df_neg[['Protein_2', 'Protein_seq2']]\n",
    "temp.columns = ['ID', 'Sequence']\n",
    "new_df = new_df.append(temp, ignore_index = True)\n",
    "temp = df_pos[['Protein_1', 'Protein_seq1']]\n",
    "temp.columns = ['ID', 'Sequence']\n",
    "new_df = new_df.append(temp, ignore_index = True)\n",
    "temp = df_pos[['Protein_2', 'Protein_seq2']]\n",
    "temp.columns = ['ID', 'Sequence']\n",
    "new_df = new_df.append(temp, ignore_index = True)\n",
    "\n",
    "benchdict = new_df.set_index('ID')['Sequence'].to_dict()"
   ]
  },
  {
   "cell_type": "code",
   "execution_count": 13,
   "metadata": {},
   "outputs": [],
   "source": [
    "res = {**benchdict, **protdict_map}\n",
    "\n",
    "ofile = open(\"bench_hpylori.fasta\", \"w\")\n",
    "\n",
    "for protein in res.keys():\n",
    "    ofile.write(\">\" + protein + \"\\n\" + res[protein] + \"\\n\")\n",
    "\n",
    "ofile.close()"
   ]
  },
  {
   "cell_type": "code",
   "execution_count": 14,
   "metadata": {},
   "outputs": [],
   "source": [
    "with open(\"seq.json\", 'w') as outfile:\n",
    "    json.dump(res, outfile)"
   ]
  },
  {
   "cell_type": "markdown",
   "metadata": {},
   "source": [
    "# For 40%\n",
    "http://weizhong-lab.ucsd.edu/cdhit_suite/cgi-bin/result.cgi?JOBID=1654178430"
   ]
  },
  {
   "cell_type": "code",
   "execution_count": null,
   "metadata": {},
   "outputs": [],
   "source": []
  }
 ],
 "metadata": {
  "kernelspec": {
   "display_name": "Python 3 (ipykernel)",
   "language": "python",
   "name": "python3"
  },
  "language_info": {
   "codemirror_mode": {
    "name": "ipython",
    "version": 3
   },
   "file_extension": ".py",
   "mimetype": "text/x-python",
   "name": "python",
   "nbconvert_exporter": "python",
   "pygments_lexer": "ipython3",
   "version": "3.8.5"
  }
 },
 "nbformat": 4,
 "nbformat_minor": 2
}
