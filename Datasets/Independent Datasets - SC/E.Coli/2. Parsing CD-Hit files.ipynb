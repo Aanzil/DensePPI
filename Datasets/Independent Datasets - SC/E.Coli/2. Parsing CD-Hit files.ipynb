{
 "cells": [
  {
   "cell_type": "code",
   "execution_count": 1,
   "metadata": {},
   "outputs": [],
   "source": [
    "import re, json\n",
    "import pandas as pd\n",
    "import pickle\n",
    "import networkx as nx"
   ]
  },
  {
   "cell_type": "code",
   "execution_count": 2,
   "metadata": {},
   "outputs": [],
   "source": [
    "file1 = open('1651461104.result/1651461104.fas.1.clstr.sorted', 'r')\n",
    "Lines = file1.readlines()"
   ]
  },
  {
   "cell_type": "code",
   "execution_count": 3,
   "metadata": {},
   "outputs": [],
   "source": [
    "LineIndex = 0\n",
    "cd_hit_dict = {}\n",
    "while LineIndex < len(Lines):\n",
    "    FF = re.search(r'^(>Cluster.*)', Lines[LineIndex])\n",
    "    if FF != None:\n",
    "        LineIndex += 1\n",
    "        li = []\n",
    "        dkey = ''\n",
    "        while LineIndex < len(Lines):\n",
    "            KK = re.search(r'^(.*\\*)', Lines[LineIndex])\n",
    "            if KK != None:\n",
    "                dkey = KK.group()\n",
    "                dkey = re.sub(r'.*>','',dkey)\n",
    "                dkey = re.sub(r'\\.\\.\\. \\*','',dkey)\n",
    "            else:\n",
    "                KK = re.search(r'^(.*\\.\\.\\.)', Lines[LineIndex])\n",
    "                dval = KK.group()\n",
    "                dval = re.sub(r'.*>','',dval)\n",
    "                dval = re.sub(r'\\.\\.\\.','',dval)\n",
    "                li.append(dval)\n",
    "            if(LineIndex == len(Lines)-1):\n",
    "                break\n",
    "            FF = re.search(r'^(>Cluster.*)', Lines[LineIndex + 1])\n",
    "            if (FF == None):\n",
    "                LineIndex += 1\n",
    "            else:\n",
    "                break\n",
    "        cd_hit_dict.update({dkey: li})\n",
    "    LineIndex += 1"
   ]
  },
  {
   "cell_type": "code",
   "execution_count": 4,
   "metadata": {},
   "outputs": [
    {
     "data": {
      "text/plain": [
       "1748"
      ]
     },
     "execution_count": 4,
     "metadata": {},
     "output_type": "execute_result"
    }
   ],
   "source": [
    "li = []\n",
    "for k in cd_hit_dict.keys():\n",
    "    if(k.startswith('P')):\n",
    "        if(not(cd_hit_dict[k])):\n",
    "            li.append(k)\n",
    "        elif(all(protein.startswith('P') for protein in cd_hit_dict[k])):\n",
    "            li.append(k)\n",
    "            li.extend(cd_hit_dict[k])\n",
    "len(li)"
   ]
  },
  {
   "cell_type": "code",
   "execution_count": 5,
   "metadata": {},
   "outputs": [],
   "source": [
    "f = open ('positive.json', \"r\")\n",
    " \n",
    "p_data = json.load(f)\n",
    "\n",
    "f.close()"
   ]
  },
  {
   "cell_type": "code",
   "execution_count": 6,
   "metadata": {},
   "outputs": [],
   "source": [
    "pA = []\n",
    "pB = []\n",
    "pgr = nx.Graph()\n",
    "for i in range(len(p_data)):\n",
    "    pA.append(p_data[i]['pA'])\n",
    "    pB.append(p_data[i]['pB'])\n",
    "    pgr.add_edge(p_data[i]['pA'], p_data[i]['pB'])"
   ]
  },
  {
   "cell_type": "code",
   "execution_count": 7,
   "metadata": {},
   "outputs": [],
   "source": [
    "to_remove = list(set(list(pgr.nodes())) - set(li))"
   ]
  },
  {
   "cell_type": "code",
   "execution_count": 8,
   "metadata": {},
   "outputs": [],
   "source": [
    "for i in range(len(to_remove)):\n",
    "    pgr.remove_node(to_remove[i])"
   ]
  },
  {
   "cell_type": "code",
   "execution_count": 9,
   "metadata": {},
   "outputs": [],
   "source": [
    "f = open ('seq.json', \"r\")\n",
    " \n",
    "seq_dict = json.load(f)\n",
    "\n",
    "f.close()"
   ]
  },
  {
   "cell_type": "code",
   "execution_count": 10,
   "metadata": {},
   "outputs": [],
   "source": [
    "seq_selected = {x : seq_dict[x] for x in li}"
   ]
  },
  {
   "cell_type": "code",
   "execution_count": 11,
   "metadata": {},
   "outputs": [
    {
     "data": {
      "text/html": [
       "<div>\n",
       "<style scoped>\n",
       "    .dataframe tbody tr th:only-of-type {\n",
       "        vertical-align: middle;\n",
       "    }\n",
       "\n",
       "    .dataframe tbody tr th {\n",
       "        vertical-align: top;\n",
       "    }\n",
       "\n",
       "    .dataframe thead th {\n",
       "        text-align: right;\n",
       "    }\n",
       "</style>\n",
       "<table border=\"1\" class=\"dataframe\">\n",
       "  <thead>\n",
       "    <tr style=\"text-align: right;\">\n",
       "      <th></th>\n",
       "      <th>source</th>\n",
       "      <th>target</th>\n",
       "    </tr>\n",
       "  </thead>\n",
       "  <tbody>\n",
       "    <tr>\n",
       "      <th>0</th>\n",
       "      <td>P2</td>\n",
       "      <td>P1</td>\n",
       "    </tr>\n",
       "    <tr>\n",
       "      <th>1</th>\n",
       "      <td>P2</td>\n",
       "      <td>P3</td>\n",
       "    </tr>\n",
       "    <tr>\n",
       "      <th>2</th>\n",
       "      <td>P2</td>\n",
       "      <td>P1525</td>\n",
       "    </tr>\n",
       "    <tr>\n",
       "      <th>3</th>\n",
       "      <td>P2</td>\n",
       "      <td>P4</td>\n",
       "    </tr>\n",
       "    <tr>\n",
       "      <th>4</th>\n",
       "      <td>P2</td>\n",
       "      <td>P1266</td>\n",
       "    </tr>\n",
       "    <tr>\n",
       "      <th>...</th>\n",
       "      <td>...</td>\n",
       "      <td>...</td>\n",
       "    </tr>\n",
       "    <tr>\n",
       "      <th>5774</th>\n",
       "      <td>P1517</td>\n",
       "      <td>P1517</td>\n",
       "    </tr>\n",
       "    <tr>\n",
       "      <th>5775</th>\n",
       "      <td>P1518</td>\n",
       "      <td>P1519</td>\n",
       "    </tr>\n",
       "    <tr>\n",
       "      <th>5776</th>\n",
       "      <td>P1519</td>\n",
       "      <td>P1519</td>\n",
       "    </tr>\n",
       "    <tr>\n",
       "      <th>5777</th>\n",
       "      <td>P1523</td>\n",
       "      <td>P1523</td>\n",
       "    </tr>\n",
       "    <tr>\n",
       "      <th>5778</th>\n",
       "      <td>P1523</td>\n",
       "      <td>P1524</td>\n",
       "    </tr>\n",
       "  </tbody>\n",
       "</table>\n",
       "<p>5779 rows × 2 columns</p>\n",
       "</div>"
      ],
      "text/plain": [
       "     source target\n",
       "0        P2     P1\n",
       "1        P2     P3\n",
       "2        P2  P1525\n",
       "3        P2     P4\n",
       "4        P2  P1266\n",
       "...     ...    ...\n",
       "5774  P1517  P1517\n",
       "5775  P1518  P1519\n",
       "5776  P1519  P1519\n",
       "5777  P1523  P1523\n",
       "5778  P1523  P1524\n",
       "\n",
       "[5779 rows x 2 columns]"
      ]
     },
     "execution_count": 11,
     "metadata": {},
     "output_type": "execute_result"
    }
   ],
   "source": [
    "nx.to_pandas_edgelist(pgr)"
   ]
  },
  {
   "cell_type": "code",
   "execution_count": 12,
   "metadata": {},
   "outputs": [],
   "source": [
    "with open('ecolilr.pkl', 'wb') as f:\n",
    "    pickle.dump([nx.to_pandas_edgelist(pgr), seq_dict], f)"
   ]
  },
  {
   "cell_type": "code",
   "execution_count": null,
   "metadata": {},
   "outputs": [],
   "source": []
  }
 ],
 "metadata": {
  "kernelspec": {
   "display_name": "Python 3 (ipykernel)",
   "language": "python",
   "name": "python3"
  },
  "language_info": {
   "codemirror_mode": {
    "name": "ipython",
    "version": 3
   },
   "file_extension": ".py",
   "mimetype": "text/x-python",
   "name": "python",
   "nbconvert_exporter": "python",
   "pygments_lexer": "ipython3",
   "version": "3.8.5"
  }
 },
 "nbformat": 4,
 "nbformat_minor": 2
}
