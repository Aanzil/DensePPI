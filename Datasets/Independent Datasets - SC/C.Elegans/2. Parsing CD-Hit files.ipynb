{
 "cells": [
  {
   "cell_type": "code",
   "execution_count": 1,
   "metadata": {},
   "outputs": [],
   "source": [
    "import re, json\n",
    "import pandas as pd\n",
    "import pickle\n",
    "import networkx as nx"
   ]
  },
  {
   "cell_type": "code",
   "execution_count": 2,
   "metadata": {},
   "outputs": [],
   "source": [
    "file1 = open('1651385533.result/1651385533.fas.1.clstr.sorted', 'r')\n",
    "Lines = file1.readlines()"
   ]
  },
  {
   "cell_type": "code",
   "execution_count": 3,
   "metadata": {},
   "outputs": [],
   "source": [
    "LineIndex = 0\n",
    "cd_hit_dict = {}\n",
    "while LineIndex < len(Lines):\n",
    "    FF = re.search(r'^(>Cluster.*)', Lines[LineIndex])\n",
    "    if FF != None:\n",
    "        LineIndex += 1\n",
    "        li = []\n",
    "        dkey = ''\n",
    "        while LineIndex < len(Lines):\n",
    "            KK = re.search(r'^(.*\\*)', Lines[LineIndex])\n",
    "            if KK != None:\n",
    "                dkey = KK.group()\n",
    "                dkey = re.sub(r'.*>','',dkey)\n",
    "                dkey = re.sub(r'\\.\\.\\. \\*','',dkey)\n",
    "            else:\n",
    "                KK = re.search(r'^(.*\\.\\.\\.)', Lines[LineIndex])\n",
    "                dval = KK.group()\n",
    "                dval = re.sub(r'.*>','',dval)\n",
    "                dval = re.sub(r'\\.\\.\\.','',dval)\n",
    "                li.append(dval)\n",
    "            if(LineIndex == len(Lines)-1):\n",
    "                break\n",
    "            FF = re.search(r'^(>Cluster.*)', Lines[LineIndex + 1])\n",
    "            if (FF == None):\n",
    "                LineIndex += 1\n",
    "            else:\n",
    "                break\n",
    "        cd_hit_dict.update({dkey: li})\n",
    "    LineIndex += 1"
   ]
  },
  {
   "cell_type": "code",
   "execution_count": 4,
   "metadata": {},
   "outputs": [
    {
     "data": {
      "text/plain": [
       "2422"
      ]
     },
     "execution_count": 4,
     "metadata": {},
     "output_type": "execute_result"
    }
   ],
   "source": [
    "li = []\n",
    "for k in cd_hit_dict.keys():\n",
    "    if(k.startswith('P')):\n",
    "        if(not(cd_hit_dict[k])):\n",
    "            li.append(k)\n",
    "        elif(all(protein.startswith('P') for protein in cd_hit_dict[k])):\n",
    "            li.append(k)\n",
    "            li.extend(cd_hit_dict[k])\n",
    "len(li)"
   ]
  },
  {
   "cell_type": "code",
   "execution_count": 5,
   "metadata": {},
   "outputs": [],
   "source": [
    "f = open ('positive.json', \"r\")\n",
    " \n",
    "p_data = json.load(f)\n",
    "\n",
    "f.close()"
   ]
  },
  {
   "cell_type": "code",
   "execution_count": 6,
   "metadata": {},
   "outputs": [],
   "source": [
    "pA = []\n",
    "pB = []\n",
    "pgr = nx.Graph()\n",
    "for i in range(len(p_data)):\n",
    "    pA.append(p_data[i]['pA'])\n",
    "    pB.append(p_data[i]['pB'])\n",
    "    pgr.add_edge(p_data[i]['pA'], p_data[i]['pB'])"
   ]
  },
  {
   "cell_type": "code",
   "execution_count": 7,
   "metadata": {},
   "outputs": [],
   "source": [
    "to_remove = list(set(list(pgr.nodes())) - set(li))"
   ]
  },
  {
   "cell_type": "code",
   "execution_count": 8,
   "metadata": {},
   "outputs": [],
   "source": [
    "for i in range(len(to_remove)):\n",
    "    pgr.remove_node(to_remove[i])"
   ]
  },
  {
   "cell_type": "code",
   "execution_count": 9,
   "metadata": {},
   "outputs": [],
   "source": [
    "f = open ('seq.json', \"r\")\n",
    " \n",
    "seq_dict = json.load(f)\n",
    "\n",
    "f.close()"
   ]
  },
  {
   "cell_type": "code",
   "execution_count": 10,
   "metadata": {},
   "outputs": [],
   "source": [
    "seq_selected = {x : seq_dict[x] for x in li}"
   ]
  },
  {
   "cell_type": "code",
   "execution_count": 11,
   "metadata": {},
   "outputs": [
    {
     "data": {
      "text/html": [
       "<div>\n",
       "<style scoped>\n",
       "    .dataframe tbody tr th:only-of-type {\n",
       "        vertical-align: middle;\n",
       "    }\n",
       "\n",
       "    .dataframe tbody tr th {\n",
       "        vertical-align: top;\n",
       "    }\n",
       "\n",
       "    .dataframe thead th {\n",
       "        text-align: right;\n",
       "    }\n",
       "</style>\n",
       "<table border=\"1\" class=\"dataframe\">\n",
       "  <thead>\n",
       "    <tr style=\"text-align: right;\">\n",
       "      <th></th>\n",
       "      <th>source</th>\n",
       "      <th>target</th>\n",
       "    </tr>\n",
       "  </thead>\n",
       "  <tbody>\n",
       "    <tr>\n",
       "      <th>0</th>\n",
       "      <td>P0</td>\n",
       "      <td>P1729</td>\n",
       "    </tr>\n",
       "    <tr>\n",
       "      <th>1</th>\n",
       "      <td>P0</td>\n",
       "      <td>P1008</td>\n",
       "    </tr>\n",
       "    <tr>\n",
       "      <th>2</th>\n",
       "      <td>P0</td>\n",
       "      <td>P209</td>\n",
       "    </tr>\n",
       "    <tr>\n",
       "      <th>3</th>\n",
       "      <td>P0</td>\n",
       "      <td>P1730</td>\n",
       "    </tr>\n",
       "    <tr>\n",
       "      <th>4</th>\n",
       "      <td>P0</td>\n",
       "      <td>P618</td>\n",
       "    </tr>\n",
       "    <tr>\n",
       "      <th>...</th>\n",
       "      <td>...</td>\n",
       "      <td>...</td>\n",
       "    </tr>\n",
       "    <tr>\n",
       "      <th>3398</th>\n",
       "      <td>P1717</td>\n",
       "      <td>P2623</td>\n",
       "    </tr>\n",
       "    <tr>\n",
       "      <th>3399</th>\n",
       "      <td>P1723</td>\n",
       "      <td>P2625</td>\n",
       "    </tr>\n",
       "    <tr>\n",
       "      <th>3400</th>\n",
       "      <td>P1723</td>\n",
       "      <td>P1724</td>\n",
       "    </tr>\n",
       "    <tr>\n",
       "      <th>3401</th>\n",
       "      <td>P1725</td>\n",
       "      <td>P1727</td>\n",
       "    </tr>\n",
       "    <tr>\n",
       "      <th>3402</th>\n",
       "      <td>P1728</td>\n",
       "      <td>P2628</td>\n",
       "    </tr>\n",
       "  </tbody>\n",
       "</table>\n",
       "<p>3403 rows × 2 columns</p>\n",
       "</div>"
      ],
      "text/plain": [
       "     source target\n",
       "0        P0  P1729\n",
       "1        P0  P1008\n",
       "2        P0   P209\n",
       "3        P0  P1730\n",
       "4        P0   P618\n",
       "...     ...    ...\n",
       "3398  P1717  P2623\n",
       "3399  P1723  P2625\n",
       "3400  P1723  P1724\n",
       "3401  P1725  P1727\n",
       "3402  P1728  P2628\n",
       "\n",
       "[3403 rows x 2 columns]"
      ]
     },
     "execution_count": 11,
     "metadata": {},
     "output_type": "execute_result"
    }
   ],
   "source": [
    "nx.to_pandas_edgelist(pgr)"
   ]
  },
  {
   "cell_type": "code",
   "execution_count": 12,
   "metadata": {},
   "outputs": [],
   "source": [
    "with open('celeganslr.pkl', 'wb') as f:\n",
    "    pickle.dump([nx.to_pandas_edgelist(pgr), seq_dict], f)"
   ]
  },
  {
   "cell_type": "code",
   "execution_count": null,
   "metadata": {},
   "outputs": [],
   "source": []
  }
 ],
 "metadata": {
  "kernelspec": {
   "display_name": "Python 3 (ipykernel)",
   "language": "python",
   "name": "python3"
  },
  "language_info": {
   "codemirror_mode": {
    "name": "ipython",
    "version": 3
   },
   "file_extension": ".py",
   "mimetype": "text/x-python",
   "name": "python",
   "nbconvert_exporter": "python",
   "pygments_lexer": "ipython3",
   "version": "3.8.5"
  }
 },
 "nbformat": 4,
 "nbformat_minor": 2
}
