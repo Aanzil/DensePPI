{
 "cells": [
  {
   "cell_type": "code",
   "execution_count": 1,
   "metadata": {},
   "outputs": [],
   "source": [
    "import pandas as pd\n",
    "import numpy as np\n",
    "import math\n",
    "import json\n",
    "import os\n",
    "import scipy.io, random\n",
    "from pathlib import Path\n",
    "import itertools\n",
    "\n",
    "abs_path = os.getcwd()\n",
    "\n",
    "data_path = str(Path().resolve().parent) + \"/PPI_sequence/\""
   ]
  },
  {
   "cell_type": "code",
   "execution_count": 2,
   "metadata": {},
   "outputs": [
    {
     "data": {
      "text/plain": [
       "'/mnt/a8fe2bcf-9383-4903-9155-05f77b84ac2b/DensePPI/Datasets/Independent Datasets/PPI_sequence/'"
      ]
     },
     "execution_count": 2,
     "metadata": {},
     "output_type": "execute_result"
    }
   ],
   "source": [
    "data_path"
   ]
  },
  {
   "cell_type": "code",
   "execution_count": 3,
   "metadata": {},
   "outputs": [],
   "source": [
    "PAmat = scipy.io.loadmat(data_path + 'Mix_Hsapi_data.mat')\n",
    "PBmat = scipy.io.loadmat(data_path + 'Mix_Hsapi_data.mat')"
   ]
  },
  {
   "cell_type": "code",
   "execution_count": 4,
   "metadata": {},
   "outputs": [],
   "source": [
    "P1 = [PAmat['protein_A'][i, 0][0] for i in range(len(PAmat['protein_A']))]\n",
    "P2 = [PBmat['protein_B'][i, 0][0] for i in range(len(PBmat['protein_B']))]"
   ]
  },
  {
   "cell_type": "code",
   "execution_count": 6,
   "metadata": {},
   "outputs": [],
   "source": [
    "unique = list(dict.fromkeys(list(itertools.chain(P1, P2))))"
   ]
  },
  {
   "cell_type": "code",
   "execution_count": 7,
   "metadata": {},
   "outputs": [],
   "source": [
    "protdict = {}\n",
    "for i in range(len(unique)):\n",
    "    protdict[unique[i]] = \"P\" + str(i)"
   ]
  },
  {
   "cell_type": "code",
   "execution_count": 8,
   "metadata": {},
   "outputs": [],
   "source": [
    "PA = [protdict[prot] for prot in P1]\n",
    "PB = [protdict[prot] for prot in P2]"
   ]
  },
  {
   "cell_type": "code",
   "execution_count": 9,
   "metadata": {},
   "outputs": [],
   "source": [
    "#rand_nums = random.sample(list(range(len(NAmat['N_protein_a']))), len(PAmat['P_protein_a']))\n",
    "#N1 = [NAmat['N_protein_a'][i, 0][0] for i in rand_nums]\n",
    "#N2 = [NBmat['N_protein_b'][i, 0][0] for i in rand_nums]"
   ]
  },
  {
   "cell_type": "code",
   "execution_count": 10,
   "metadata": {},
   "outputs": [],
   "source": [
    "pdict = [{'pA': pA, 'pB': pB} for pA, pB in zip(PA, PB)]"
   ]
  },
  {
   "cell_type": "code",
   "execution_count": 11,
   "metadata": {},
   "outputs": [],
   "source": [
    "protdict_map = {v: k for k, v in protdict.items()}"
   ]
  },
  {
   "cell_type": "code",
   "execution_count": 12,
   "metadata": {},
   "outputs": [],
   "source": [
    "with open(\"seq.json\", 'w') as outfile:\n",
    "    json.dump(protdict_map, outfile)\n",
    "\n",
    "with open(\"positive.json\", 'w') as outfile:\n",
    "    json.dump(pdict, outfile)   "
   ]
  },
  {
   "cell_type": "code",
   "execution_count": 13,
   "metadata": {},
   "outputs": [
    {
     "data": {
      "text/plain": [
       "'/mnt/a8fe2bcf-9383-4903-9155-05f77b84ac2b/DensePPI/Datasets/Benchmark/S.Cervisiae/'"
      ]
     },
     "execution_count": 13,
     "metadata": {},
     "output_type": "execute_result"
    }
   ],
   "source": [
    "data_path = str(Path().resolve().parent.parent) + \"/Benchmark/S.Cervisiae/\"\n",
    "data_path"
   ]
  },
  {
   "cell_type": "code",
   "execution_count": 14,
   "metadata": {},
   "outputs": [],
   "source": [
    "NAmat = scipy.io.loadmat(data_path + 'N_protein_A.mat')\n",
    "NBmat = scipy.io.loadmat(data_path + 'N_protein_B.mat')\n",
    "PAmat = scipy.io.loadmat(data_path + 'P_protein_A.mat')\n",
    "PBmat = scipy.io.loadmat(data_path + 'P_protein_B.mat')\n",
    "\n",
    "P1 = [PAmat['P_protein_A'][i, 0][0] for i in range(len(PAmat['P_protein_A']))]\n",
    "P2 = [PBmat['P_protein_B'][i, 0][0] for i in range(len(PBmat['P_protein_B']))]\n",
    "N1 = [NAmat['N_protein_A'][i, 0][0] for i in range(len(NAmat['N_protein_A']))]\n",
    "N2 = [NBmat['N_protein_B'][i, 0][0] for i in range(len(NBmat['N_protein_B']))]\n",
    "\n",
    "unique = list(dict.fromkeys(list(itertools.chain(P1, P2, N1, N2))))\n",
    "\n",
    "benchdict = {}\n",
    "for i in range(len(unique)):\n",
    "    benchdict[\"BENCH\" + str(i)] = unique[i]"
   ]
  },
  {
   "cell_type": "code",
   "execution_count": 15,
   "metadata": {},
   "outputs": [],
   "source": [
    "res = {**benchdict, **protdict_map}\n",
    "\n",
    "ofile = open(\"bench_Hsapi.fasta\", \"w\")\n",
    "\n",
    "for protein in res.keys():\n",
    "    ofile.write(\">\" + protein + \"\\n\" + res[protein] + \"\\n\")\n",
    "\n",
    "ofile.close()"
   ]
  },
  {
   "cell_type": "markdown",
   "metadata": {},
   "source": [
    "# For 40%\n",
    "http://weizhong-lab.ucsd.edu/cdhit_suite/cgi-bin/result.cgi?JOBID=1651459681"
   ]
  },
  {
   "cell_type": "code",
   "execution_count": null,
   "metadata": {},
   "outputs": [],
   "source": []
  }
 ],
 "metadata": {
  "kernelspec": {
   "display_name": "Python 3 (ipykernel)",
   "language": "python",
   "name": "python3"
  },
  "language_info": {
   "codemirror_mode": {
    "name": "ipython",
    "version": 3
   },
   "file_extension": ".py",
   "mimetype": "text/x-python",
   "name": "python",
   "nbconvert_exporter": "python",
   "pygments_lexer": "ipython3",
   "version": "3.8.5"
  }
 },
 "nbformat": 4,
 "nbformat_minor": 2
}
