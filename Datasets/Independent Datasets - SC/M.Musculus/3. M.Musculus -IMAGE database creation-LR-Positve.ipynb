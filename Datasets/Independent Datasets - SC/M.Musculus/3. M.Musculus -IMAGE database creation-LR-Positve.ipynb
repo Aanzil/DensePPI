{
 "cells": [
  {
   "cell_type": "code",
   "execution_count": 1,
   "metadata": {},
   "outputs": [],
   "source": [
    "import pandas as pd\n",
    "import numpy as np\n",
    "import os\n",
    "import pickle"
   ]
  },
  {
   "cell_type": "code",
   "execution_count": 2,
   "metadata": {},
   "outputs": [],
   "source": [
    "with open('mmusculuslr.pkl', 'rb') as f:\n",
    "    pos_interactions, seq_dict = pickle.load(f)"
   ]
  },
  {
   "cell_type": "code",
   "execution_count": 3,
   "metadata": {},
   "outputs": [],
   "source": [
    "import matplotlib.pyplot as plt\n",
    "\n",
    "seq = [\"M\",\"D\",\"A\",\"K\",\"R\",\"G\",\"L\",\"C\",\"V\",\"F\",\"S\",\"P\",\"Q\",\"E\",\"I\"\n",
    "           ,\"H\",\"Y\",\"T\",\"W\",\"N\", \"O\", \"U\", \"B\", \"Z\", \"X\", \"J\"]\n",
    "look_up_table =  np.zeros((len(seq), len(seq), 3))\n",
    "\n",
    "map_LUT = dict(zip(seq, range(0, len(seq))))\n",
    "\n",
    "colours = [\"#FFCC99\",\"#F0A3FF\",\"#990000\",\"#808080\",\"#003380\",\"#191919\",\"#00998F\",\n",
    "           \"#740AFF\",\"#005C31\",\"#94FFB5\",\"#FFA405\",\"#8F7C00\",\"#FFFF80\",\"#993F00\",\n",
    "           \"#FFFF00\",\"#C20088\",\"#4C005C\",\"#2BCE48\",\"#FFFFFF\",\"#FF5005\",\"#0075DC\",\n",
    "           \"#9DCC00\",\"#FFA8BB\",\"#426600\",\"#FF0010\",\"#5EF1F2\"]"
   ]
  },
  {
   "cell_type": "code",
   "execution_count": 4,
   "metadata": {},
   "outputs": [
    {
     "data": {
      "text/plain": [
       "<matplotlib.image.AxesImage at 0x7f589a336340>"
      ]
     },
     "execution_count": 4,
     "metadata": {},
     "output_type": "execute_result"
    },
    {
     "data": {
      "image/png": "[encoded data removed]",
      "text/plain": [
       "<Figure size 432x288 with 1 Axes>"
      ]
     },
     "metadata": {
      "needs_background": "light"
     },
     "output_type": "display_data"
    }
   ],
   "source": [
    "import math\n",
    "for i in range(len(seq)):\n",
    "    for j in range(len(seq)):\n",
    "        cola = colours[map_LUT[seq[i]]].lstrip('#')\n",
    "        colb = colours[map_LUT[seq[j]]].lstrip('#')\n",
    "        r1, g1, b1 = tuple(int(cola[i:i+2], 16) for i in (0, 2, 4))\n",
    "        r2, g2, b2 = tuple(int(colb[i:i+2], 16) for i in (0, 2, 4))\n",
    "        look_up_table[i, j, 0] = math.sqrt((r1**2 + r2**2)/2)/255\n",
    "        look_up_table[i, j, 1] = math.sqrt((g1**2 + g2**2)/2)/255\n",
    "        look_up_table[i, j, 2] = math.sqrt((b1**2 + b2**2)/2)/255\n",
    "\n",
    "plt.imshow(look_up_table)"
   ]
  },
  {
   "cell_type": "code",
   "execution_count": 5,
   "metadata": {},
   "outputs": [],
   "source": [
    "from pathlib import Path\n",
    "Path(os.getcwd()+\"/positiveLR\").mkdir(parents=True, exist_ok=True)"
   ]
  },
  {
   "cell_type": "code",
   "execution_count": 6,
   "metadata": {},
   "outputs": [
    {
     "data": {
      "text/html": [
       "<div>\n",
       "<style scoped>\n",
       "    .dataframe tbody tr th:only-of-type {\n",
       "        vertical-align: middle;\n",
       "    }\n",
       "\n",
       "    .dataframe tbody tr th {\n",
       "        vertical-align: top;\n",
       "    }\n",
       "\n",
       "    .dataframe thead th {\n",
       "        text-align: right;\n",
       "    }\n",
       "</style>\n",
       "<table border=\"1\" class=\"dataframe\">\n",
       "  <thead>\n",
       "    <tr style=\"text-align: right;\">\n",
       "      <th></th>\n",
       "      <th>source</th>\n",
       "      <th>target</th>\n",
       "    </tr>\n",
       "  </thead>\n",
       "  <tbody>\n",
       "    <tr>\n",
       "      <th>0</th>\n",
       "      <td>P1</td>\n",
       "      <td>P1</td>\n",
       "    </tr>\n",
       "    <tr>\n",
       "      <th>1</th>\n",
       "      <td>P3</td>\n",
       "      <td>P226</td>\n",
       "    </tr>\n",
       "    <tr>\n",
       "      <th>2</th>\n",
       "      <td>P3</td>\n",
       "      <td>P100</td>\n",
       "    </tr>\n",
       "    <tr>\n",
       "      <th>3</th>\n",
       "      <td>P4</td>\n",
       "      <td>P5</td>\n",
       "    </tr>\n",
       "    <tr>\n",
       "      <th>4</th>\n",
       "      <td>P5</td>\n",
       "      <td>P227</td>\n",
       "    </tr>\n",
       "    <tr>\n",
       "      <th>...</th>\n",
       "      <td>...</td>\n",
       "      <td>...</td>\n",
       "    </tr>\n",
       "    <tr>\n",
       "      <th>251</th>\n",
       "      <td>P218</td>\n",
       "      <td>P351</td>\n",
       "    </tr>\n",
       "    <tr>\n",
       "      <th>252</th>\n",
       "      <td>P219</td>\n",
       "      <td>P220</td>\n",
       "    </tr>\n",
       "    <tr>\n",
       "      <th>253</th>\n",
       "      <td>P220</td>\n",
       "      <td>P352</td>\n",
       "    </tr>\n",
       "    <tr>\n",
       "      <th>254</th>\n",
       "      <td>P221</td>\n",
       "      <td>P353</td>\n",
       "    </tr>\n",
       "    <tr>\n",
       "      <th>255</th>\n",
       "      <td>P353</td>\n",
       "      <td>P222</td>\n",
       "    </tr>\n",
       "  </tbody>\n",
       "</table>\n",
       "<p>256 rows × 2 columns</p>\n",
       "</div>"
      ],
      "text/plain": [
       "    source target\n",
       "0       P1     P1\n",
       "1       P3   P226\n",
       "2       P3   P100\n",
       "3       P4     P5\n",
       "4       P5   P227\n",
       "..     ...    ...\n",
       "251   P218   P351\n",
       "252   P219   P220\n",
       "253   P220   P352\n",
       "254   P221   P353\n",
       "255   P353   P222\n",
       "\n",
       "[256 rows x 2 columns]"
      ]
     },
     "execution_count": 6,
     "metadata": {},
     "output_type": "execute_result"
    }
   ],
   "source": [
    "pos_interactions"
   ]
  },
  {
   "cell_type": "code",
   "execution_count": 7,
   "metadata": {},
   "outputs": [
    {
     "name": "stdout",
     "output_type": "stream",
     "text": [
      "[]\n"
     ]
    }
   ],
   "source": [
    "discarded_images = list()\n",
    "\n",
    "for it in range(len(pos_interactions)):\n",
    "    seq1 = seq_dict[pos_interactions.loc[it][0]]\n",
    "    seq2 = seq_dict[pos_interactions.loc[it][1]]\n",
    "    if (len(seq1) > 20000 or len(seq2) > 20000):\n",
    "        discarded_images.append(it)\n",
    "        continue\n",
    "    else:  \n",
    "        fin_img = np.zeros((len(seq1), len(seq2), 3))\n",
    "        \n",
    "        for i in range(len(seq1)):\n",
    "            for j in range(len(seq2)):\n",
    "                fin_img[i, j, ] = look_up_table[map_LUT[seq1[i]], map_LUT[seq2[j]],]\n",
    "        \n",
    "        file_name = str(os.getcwd()+\"/positiveLR/\" + str(it+1) + \"_\" + pos_interactions.loc[it][0]\n",
    "                        + \"_\" + pos_interactions.loc[it][1] + \".png\")\n",
    "        plt.imsave(file_name, fin_img)\n",
    "\n",
    "print(discarded_images)"
   ]
  },
  {
   "cell_type": "code",
   "execution_count": null,
   "metadata": {},
   "outputs": [],
   "source": []
  }
 ],
 "metadata": {
  "kernelspec": {
   "display_name": "Python 3 (ipykernel)",
   "language": "python",
   "name": "python3"
  },
  "language_info": {
   "codemirror_mode": {
    "name": "ipython",
    "version": 3
   },
   "file_extension": ".py",
   "mimetype": "text/x-python",
   "name": "python",
   "nbconvert_exporter": "python",
   "pygments_lexer": "ipython3",
   "version": "3.8.5"
  }
 },
 "nbformat": 4,
 "nbformat_minor": 2
}
