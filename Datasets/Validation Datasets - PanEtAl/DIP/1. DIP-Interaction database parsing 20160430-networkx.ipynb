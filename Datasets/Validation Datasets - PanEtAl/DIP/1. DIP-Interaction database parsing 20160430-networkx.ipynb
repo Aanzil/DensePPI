{
 "cells": [
  {
   "cell_type": "code",
   "execution_count": 1,
   "metadata": {},
   "outputs": [],
   "source": [
    "import pandas as pd\n",
    "import re\n",
    "from Bio import SeqIO\n",
    "import pickle\n",
    "import networkx as nx"
   ]
  },
  {
   "cell_type": "code",
   "execution_count": 2,
   "metadata": {},
   "outputs": [],
   "source": [
    "diptab = pd.read_csv(\"Hsapi20160430CR.txt\", sep=\"\\t\", \n",
    "                     usecols=[0,1], header=0, index_col=False)"
   ]
  },
  {
   "cell_type": "code",
   "execution_count": 3,
   "metadata": {},
   "outputs": [],
   "source": [
    "p1 = [re.search(r'^DIP-[0-9]+N', entry).group() for entry in diptab['ID interactor A'].tolist()]\n",
    "p2 = [re.search(r'^DIP-[0-9]+N', entry).group() for entry in diptab['ID interactor B'].tolist()]"
   ]
  },
  {
   "cell_type": "code",
   "execution_count": 4,
   "metadata": {},
   "outputs": [],
   "source": [
    "dip_interactions = pd.DataFrame({'Protein A': p1, 'Protein B': p2})"
   ]
  },
  {
   "cell_type": "code",
   "execution_count": 5,
   "metadata": {
    "scrolled": false
   },
   "outputs": [
    {
     "data": {
      "text/html": [
       "<div>\n",
       "<style scoped>\n",
       "    .dataframe tbody tr th:only-of-type {\n",
       "        vertical-align: middle;\n",
       "    }\n",
       "\n",
       "    .dataframe tbody tr th {\n",
       "        vertical-align: top;\n",
       "    }\n",
       "\n",
       "    .dataframe thead th {\n",
       "        text-align: right;\n",
       "    }\n",
       "</style>\n",
       "<table border=\"1\" class=\"dataframe\">\n",
       "  <thead>\n",
       "    <tr style=\"text-align: right;\">\n",
       "      <th></th>\n",
       "      <th>Protein A</th>\n",
       "      <th>Protein B</th>\n",
       "    </tr>\n",
       "  </thead>\n",
       "  <tbody>\n",
       "    <tr>\n",
       "      <th>0</th>\n",
       "      <td>DIP-617N</td>\n",
       "      <td>DIP-617N</td>\n",
       "    </tr>\n",
       "    <tr>\n",
       "      <th>1</th>\n",
       "      <td>DIP-493N</td>\n",
       "      <td>DIP-147N</td>\n",
       "    </tr>\n",
       "    <tr>\n",
       "      <th>2</th>\n",
       "      <td>DIP-582N</td>\n",
       "      <td>DIP-472N</td>\n",
       "    </tr>\n",
       "    <tr>\n",
       "      <th>3</th>\n",
       "      <td>DIP-1078N</td>\n",
       "      <td>DIP-51N</td>\n",
       "    </tr>\n",
       "    <tr>\n",
       "      <th>4</th>\n",
       "      <td>DIP-189N</td>\n",
       "      <td>DIP-199N</td>\n",
       "    </tr>\n",
       "    <tr>\n",
       "      <th>...</th>\n",
       "      <td>...</td>\n",
       "      <td>...</td>\n",
       "    </tr>\n",
       "    <tr>\n",
       "      <th>6908</th>\n",
       "      <td>DIP-50081N</td>\n",
       "      <td>DIP-29011N</td>\n",
       "    </tr>\n",
       "    <tr>\n",
       "      <th>6909</th>\n",
       "      <td>DIP-29011N</td>\n",
       "      <td>DIP-39768N</td>\n",
       "    </tr>\n",
       "    <tr>\n",
       "      <th>6910</th>\n",
       "      <td>DIP-39768N</td>\n",
       "      <td>DIP-48673N</td>\n",
       "    </tr>\n",
       "    <tr>\n",
       "      <th>6911</th>\n",
       "      <td>DIP-46409N</td>\n",
       "      <td>DIP-46411N</td>\n",
       "    </tr>\n",
       "    <tr>\n",
       "      <th>6912</th>\n",
       "      <td>DIP-34800N</td>\n",
       "      <td>DIP-46409N</td>\n",
       "    </tr>\n",
       "  </tbody>\n",
       "</table>\n",
       "<p>6913 rows × 2 columns</p>\n",
       "</div>"
      ],
      "text/plain": [
       "       Protein A   Protein B\n",
       "0       DIP-617N    DIP-617N\n",
       "1       DIP-493N    DIP-147N\n",
       "2       DIP-582N    DIP-472N\n",
       "3      DIP-1078N     DIP-51N\n",
       "4       DIP-189N    DIP-199N\n",
       "...          ...         ...\n",
       "6908  DIP-50081N  DIP-29011N\n",
       "6909  DIP-29011N  DIP-39768N\n",
       "6910  DIP-39768N  DIP-48673N\n",
       "6911  DIP-46409N  DIP-46411N\n",
       "6912  DIP-34800N  DIP-46409N\n",
       "\n",
       "[6913 rows x 2 columns]"
      ]
     },
     "execution_count": 5,
     "metadata": {},
     "output_type": "execute_result"
    }
   ],
   "source": [
    "dip_interactions"
   ]
  },
  {
   "cell_type": "code",
   "execution_count": 6,
   "metadata": {},
   "outputs": [],
   "source": [
    "dipgr = nx.from_pandas_edgelist(dip_interactions, 'Protein A', 'Protein B')"
   ]
  },
  {
   "cell_type": "code",
   "execution_count": 7,
   "metadata": {},
   "outputs": [],
   "source": [
    "dipgr.remove_edges_from(nx.selfloop_edges(dipgr))"
   ]
  },
  {
   "cell_type": "code",
   "execution_count": 8,
   "metadata": {},
   "outputs": [
    {
     "name": "stdout",
     "output_type": "stream",
     "text": [
      "6426\n",
      "4491\n"
     ]
    }
   ],
   "source": [
    "print(dipgr.number_of_edges())\n",
    "print(dipgr.number_of_nodes())"
   ]
  },
  {
   "cell_type": "code",
   "execution_count": 9,
   "metadata": {},
   "outputs": [],
   "source": [
    "dip_seq_dict = {re.search(r'DIP-[0-9]+N', str(rec.id)).group() : str(rec.seq) \n",
    "                for rec in SeqIO.parse(\"fasta20160501.seq\", \"fasta\")}"
   ]
  },
  {
   "cell_type": "code",
   "execution_count": 10,
   "metadata": {},
   "outputs": [],
   "source": [
    "final_seq_dict_dip_le1200 = {k : dip_seq_dict[k] for k in dip_seq_dict.keys() if \n",
    "                             (len(dip_seq_dict[k]) <= 1200 and len(dip_seq_dict[k]) > 50)}"
   ]
  },
  {
   "cell_type": "code",
   "execution_count": 11,
   "metadata": {},
   "outputs": [
    {
     "data": {
      "text/plain": [
       "True"
      ]
     },
     "execution_count": 11,
     "metadata": {},
     "output_type": "execute_result"
    }
   ],
   "source": [
    "not_including_list = list(set(list(dipgr.nodes)) - set(final_seq_dict_dip_le1200.keys()))\n",
    "all(proteins in list(dipgr.nodes) for proteins in not_including_list)"
   ]
  },
  {
   "cell_type": "code",
   "execution_count": 12,
   "metadata": {},
   "outputs": [
    {
     "data": {
      "text/plain": [
       "686"
      ]
     },
     "execution_count": 12,
     "metadata": {},
     "output_type": "execute_result"
    }
   ],
   "source": [
    "len(not_including_list)"
   ]
  },
  {
   "cell_type": "code",
   "execution_count": 13,
   "metadata": {},
   "outputs": [],
   "source": [
    "for i in range(len(not_including_list)):\n",
    "    dipgr.remove_node(not_including_list[i])"
   ]
  },
  {
   "cell_type": "code",
   "execution_count": 14,
   "metadata": {},
   "outputs": [
    {
     "name": "stdout",
     "output_type": "stream",
     "text": [
      "4839\n",
      "3805\n"
     ]
    }
   ],
   "source": [
    "print(dipgr.number_of_edges())\n",
    "print(dipgr.number_of_nodes())"
   ]
  },
  {
   "cell_type": "code",
   "execution_count": 15,
   "metadata": {},
   "outputs": [
    {
     "data": {
      "text/html": [
       "<div>\n",
       "<style scoped>\n",
       "    .dataframe tbody tr th:only-of-type {\n",
       "        vertical-align: middle;\n",
       "    }\n",
       "\n",
       "    .dataframe tbody tr th {\n",
       "        vertical-align: top;\n",
       "    }\n",
       "\n",
       "    .dataframe thead th {\n",
       "        text-align: right;\n",
       "    }\n",
       "</style>\n",
       "<table border=\"1\" class=\"dataframe\">\n",
       "  <thead>\n",
       "    <tr style=\"text-align: right;\">\n",
       "      <th></th>\n",
       "      <th>source</th>\n",
       "      <th>target</th>\n",
       "    </tr>\n",
       "  </thead>\n",
       "  <tbody>\n",
       "    <tr>\n",
       "      <th>0</th>\n",
       "      <td>DIP-617N</td>\n",
       "      <td>DIP-58525N</td>\n",
       "    </tr>\n",
       "    <tr>\n",
       "      <th>1</th>\n",
       "      <td>DIP-617N</td>\n",
       "      <td>DIP-58999N</td>\n",
       "    </tr>\n",
       "    <tr>\n",
       "      <th>2</th>\n",
       "      <td>DIP-617N</td>\n",
       "      <td>DIP-61424N</td>\n",
       "    </tr>\n",
       "    <tr>\n",
       "      <th>3</th>\n",
       "      <td>DIP-493N</td>\n",
       "      <td>DIP-421N</td>\n",
       "    </tr>\n",
       "    <tr>\n",
       "      <th>4</th>\n",
       "      <td>DIP-493N</td>\n",
       "      <td>DIP-922N</td>\n",
       "    </tr>\n",
       "    <tr>\n",
       "      <th>...</th>\n",
       "      <td>...</td>\n",
       "      <td>...</td>\n",
       "    </tr>\n",
       "    <tr>\n",
       "      <th>4834</th>\n",
       "      <td>DIP-56235N</td>\n",
       "      <td>DIP-53227N</td>\n",
       "    </tr>\n",
       "    <tr>\n",
       "      <th>4835</th>\n",
       "      <td>DIP-61775N</td>\n",
       "      <td>DIP-61776N</td>\n",
       "    </tr>\n",
       "    <tr>\n",
       "      <th>4836</th>\n",
       "      <td>DIP-37618N</td>\n",
       "      <td>DIP-41076N</td>\n",
       "    </tr>\n",
       "    <tr>\n",
       "      <th>4837</th>\n",
       "      <td>DIP-34542N</td>\n",
       "      <td>DIP-37882N</td>\n",
       "    </tr>\n",
       "    <tr>\n",
       "      <th>4838</th>\n",
       "      <td>DIP-61851N</td>\n",
       "      <td>DIP-41652N</td>\n",
       "    </tr>\n",
       "  </tbody>\n",
       "</table>\n",
       "<p>4839 rows × 2 columns</p>\n",
       "</div>"
      ],
      "text/plain": [
       "          source      target\n",
       "0       DIP-617N  DIP-58525N\n",
       "1       DIP-617N  DIP-58999N\n",
       "2       DIP-617N  DIP-61424N\n",
       "3       DIP-493N    DIP-421N\n",
       "4       DIP-493N    DIP-922N\n",
       "...          ...         ...\n",
       "4834  DIP-56235N  DIP-53227N\n",
       "4835  DIP-61775N  DIP-61776N\n",
       "4836  DIP-37618N  DIP-41076N\n",
       "4837  DIP-34542N  DIP-37882N\n",
       "4838  DIP-61851N  DIP-41652N\n",
       "\n",
       "[4839 rows x 2 columns]"
      ]
     },
     "execution_count": 15,
     "metadata": {},
     "output_type": "execute_result"
    }
   ],
   "source": [
    "nx.to_pandas_edgelist(dipgr)"
   ]
  },
  {
   "cell_type": "code",
   "execution_count": 16,
   "metadata": {},
   "outputs": [],
   "source": [
    "seq_dict = {x : final_seq_dict_dip_le1200[x] for x in list(dipgr.nodes)}"
   ]
  },
  {
   "cell_type": "code",
   "execution_count": 17,
   "metadata": {},
   "outputs": [
    {
     "data": {
      "text/plain": [
       "3805"
      ]
     },
     "execution_count": 17,
     "metadata": {},
     "output_type": "execute_result"
    }
   ],
   "source": [
    "len(seq_dict)"
   ]
  },
  {
   "cell_type": "code",
   "execution_count": 18,
   "metadata": {},
   "outputs": [],
   "source": [
    "with open('dip_int_and_dict.pkl', 'wb') as f:\n",
    "    pickle.dump([nx.to_pandas_edgelist(dipgr), seq_dict], f)"
   ]
  },
  {
   "cell_type": "code",
   "execution_count": null,
   "metadata": {},
   "outputs": [],
   "source": []
  }
 ],
 "metadata": {
  "kernelspec": {
   "display_name": "Python 3 (ipykernel)",
   "language": "python",
   "name": "python3"
  },
  "language_info": {
   "codemirror_mode": {
    "name": "ipython",
    "version": 3
   },
   "file_extension": ".py",
   "mimetype": "text/x-python",
   "name": "python",
   "nbconvert_exporter": "python",
   "pygments_lexer": "ipython3",
   "version": "3.8.5"
  }
 },
 "nbformat": 4,
 "nbformat_minor": 2
}
