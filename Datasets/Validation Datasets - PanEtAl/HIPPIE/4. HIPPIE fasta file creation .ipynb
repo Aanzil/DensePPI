{
 "cells": [
  {
   "cell_type": "code",
   "execution_count": 1,
   "metadata": {},
   "outputs": [],
   "source": [
    "import pandas as pd\n",
    "import pickle\n",
    "from pathlib import Path"
   ]
  },
  {
   "cell_type": "code",
   "execution_count": 2,
   "metadata": {},
   "outputs": [],
   "source": [
    "with open('hippiehqgr_int_and_dict.pkl', 'rb') as f:\n",
    "    hippiehq_interactions, seq_dict = pickle.load(f)"
   ]
  },
  {
   "cell_type": "code",
   "execution_count": 3,
   "metadata": {},
   "outputs": [],
   "source": [
    "df_pos = pd.read_pickle(str(Path().resolve().parent.parent) + \"/Benchmark/PanEtAl/positive.pkl\")\n",
    "df_neg = pd.read_pickle(str(Path().resolve().parent.parent) + \"/Benchmark/PanEtAl/negative.pkl\")"
   ]
  },
  {
   "cell_type": "code",
   "execution_count": 4,
   "metadata": {},
   "outputs": [],
   "source": [
    "total_proteins_bench = set(df_neg['Protein_1']) | set(df_pos['Protein_1']) | set(df_neg['Protein_2']\n",
    "                                                                                ) | set(df_pos['Protein_2'])"
   ]
  },
  {
   "cell_type": "code",
   "execution_count": 5,
   "metadata": {},
   "outputs": [
    {
     "data": {
      "text/plain": [
       "10364"
      ]
     },
     "execution_count": 5,
     "metadata": {},
     "output_type": "execute_result"
    }
   ],
   "source": [
    "total_proteins_bench = list(total_proteins_bench)\n",
    "len(total_proteins_bench)"
   ]
  },
  {
   "cell_type": "code",
   "execution_count": 6,
   "metadata": {},
   "outputs": [],
   "source": [
    "new_df = df_neg[['Protein_1', 'Protein_seq1']]\n",
    "new_df.columns = ['ID', 'Sequence']"
   ]
  },
  {
   "cell_type": "code",
   "execution_count": 7,
   "metadata": {},
   "outputs": [],
   "source": [
    "temp = df_neg[['Protein_2', 'Protein_seq2']]\n",
    "temp.columns = ['ID', 'Sequence']\n",
    "new_df = new_df.append(temp, ignore_index = True)"
   ]
  },
  {
   "cell_type": "code",
   "execution_count": 8,
   "metadata": {},
   "outputs": [],
   "source": [
    "temp = df_pos[['Protein_1', 'Protein_seq1']]\n",
    "temp.columns = ['ID', 'Sequence']\n",
    "new_df = new_df.append(temp, ignore_index = True)\n",
    "temp = df_pos[['Protein_2', 'Protein_seq2']]\n",
    "temp.columns = ['ID', 'Sequence']\n",
    "new_df = new_df.append(temp, ignore_index = True)"
   ]
  },
  {
   "cell_type": "code",
   "execution_count": 9,
   "metadata": {},
   "outputs": [],
   "source": [
    "bench_protein_seq = new_df.set_index('ID')['Sequence'].to_dict()"
   ]
  },
  {
   "cell_type": "code",
   "execution_count": 10,
   "metadata": {},
   "outputs": [],
   "source": [
    "res = {**bench_protein_seq, **seq_dict}"
   ]
  },
  {
   "cell_type": "code",
   "execution_count": 11,
   "metadata": {},
   "outputs": [],
   "source": [
    "ofile = open(\"bench_hippiehq.fasta\", \"w\")\n",
    "\n",
    "for protein in res.keys():\n",
    "    ofile.write(\">\" + protein + \"\\n\" + res[protein] + \"\\n\")\n",
    "\n",
    "ofile.close()"
   ]
  },
  {
   "cell_type": "code",
   "execution_count": 12,
   "metadata": {},
   "outputs": [],
   "source": [
    "with open('hippielqgr_int_and_dict.pkl', 'rb') as f:\n",
    "    hippielq_interactions, seq_dict = pickle.load(f)\n",
    "\n",
    "res = {**bench_protein_seq, **seq_dict}\n",
    "ofile = open(\"bench_hippielq.fasta\", \"w\")\n",
    "\n",
    "for protein in res.keys():\n",
    "    ofile.write(\">\" + protein + \"\\n\" + res[protein] + \"\\n\")\n",
    "\n",
    "ofile.close()"
   ]
  },
  {
   "cell_type": "markdown",
   "metadata": {},
   "source": [
    "# CD-Hit 40%\n",
    "\n",
    "# HQ\n",
    "http://weizhong-lab.ucsd.edu/cdhit_suite/cgi-bin/result.cgi?JOBID=1651225716\n",
    "\n",
    "# LQ\n",
    "http://weizhong-lab.ucsd.edu/cdhit_suite/cgi-bin/result.cgi?JOBID=1651225759"
   ]
  },
  {
   "cell_type": "code",
   "execution_count": null,
   "metadata": {},
   "outputs": [],
   "source": []
  }
 ],
 "metadata": {
  "kernelspec": {
   "display_name": "Python 3 (ipykernel)",
   "language": "python",
   "name": "python3"
  },
  "language_info": {
   "codemirror_mode": {
    "name": "ipython",
    "version": 3
   },
   "file_extension": ".py",
   "mimetype": "text/x-python",
   "name": "python",
   "nbconvert_exporter": "python",
   "pygments_lexer": "ipython3",
   "version": "3.8.5"
  }
 },
 "nbformat": 4,
 "nbformat_minor": 2
}
