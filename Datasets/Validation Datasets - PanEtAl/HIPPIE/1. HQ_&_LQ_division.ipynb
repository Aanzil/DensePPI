{
 "cells": [
  {
   "cell_type": "code",
   "execution_count": 1,
   "metadata": {},
   "outputs": [],
   "source": [
    "import pandas as pd"
   ]
  },
  {
   "cell_type": "code",
   "execution_count": 2,
   "metadata": {},
   "outputs": [],
   "source": [
    "hippie_df = pd.read_csv('hippie_v2_0.txt', sep = '\\t', header=None)"
   ]
  },
  {
   "cell_type": "code",
   "execution_count": 3,
   "metadata": {},
   "outputs": [
    {
     "data": {
      "text/html": [
       "<div>\n",
       "<style scoped>\n",
       "    .dataframe tbody tr th:only-of-type {\n",
       "        vertical-align: middle;\n",
       "    }\n",
       "\n",
       "    .dataframe tbody tr th {\n",
       "        vertical-align: top;\n",
       "    }\n",
       "\n",
       "    .dataframe thead th {\n",
       "        text-align: right;\n",
       "    }\n",
       "</style>\n",
       "<table border=\"1\" class=\"dataframe\">\n",
       "  <thead>\n",
       "    <tr style=\"text-align: right;\">\n",
       "      <th></th>\n",
       "      <th>0</th>\n",
       "      <th>1</th>\n",
       "      <th>2</th>\n",
       "      <th>3</th>\n",
       "      <th>4</th>\n",
       "      <th>5</th>\n",
       "    </tr>\n",
       "  </thead>\n",
       "  <tbody>\n",
       "    <tr>\n",
       "      <th>0</th>\n",
       "      <td>AL1A1_HUMAN</td>\n",
       "      <td>216</td>\n",
       "      <td>AL1A1_HUMAN</td>\n",
       "      <td>216</td>\n",
       "      <td>0.76</td>\n",
       "      <td>experiments:in vivo,Two-hybrid;pmids:12081471,...</td>\n",
       "    </tr>\n",
       "    <tr>\n",
       "      <th>1</th>\n",
       "      <td>ITA7_HUMAN</td>\n",
       "      <td>3679</td>\n",
       "      <td>ACHA_HUMAN</td>\n",
       "      <td>1134</td>\n",
       "      <td>0.73</td>\n",
       "      <td>experiments:in vivo,Affinity Capture-Western,a...</td>\n",
       "    </tr>\n",
       "    <tr>\n",
       "      <th>2</th>\n",
       "      <td>NEB1_HUMAN</td>\n",
       "      <td>55607</td>\n",
       "      <td>ACTG_HUMAN</td>\n",
       "      <td>71</td>\n",
       "      <td>0.65</td>\n",
       "      <td>experiments:in vitro,in vivo;pmids:9362513,120...</td>\n",
       "    </tr>\n",
       "    <tr>\n",
       "      <th>3</th>\n",
       "      <td>SRGN_HUMAN</td>\n",
       "      <td>5552</td>\n",
       "      <td>CD44_HUMAN</td>\n",
       "      <td>960</td>\n",
       "      <td>0.63</td>\n",
       "      <td>experiments:in vivo;pmids:9334256,16189514,167...</td>\n",
       "    </tr>\n",
       "    <tr>\n",
       "      <th>4</th>\n",
       "      <td>GRB7_HUMAN</td>\n",
       "      <td>2886</td>\n",
       "      <td>ERBB2_HUMAN</td>\n",
       "      <td>2064</td>\n",
       "      <td>0.90</td>\n",
       "      <td>experiments:in vitro,in vivo,Reconstituted Com...</td>\n",
       "    </tr>\n",
       "    <tr>\n",
       "      <th>...</th>\n",
       "      <td>...</td>\n",
       "      <td>...</td>\n",
       "      <td>...</td>\n",
       "      <td>...</td>\n",
       "      <td>...</td>\n",
       "      <td>...</td>\n",
       "    </tr>\n",
       "    <tr>\n",
       "      <th>287352</th>\n",
       "      <td>JUN_HUMAN</td>\n",
       "      <td>3725</td>\n",
       "      <td>FIP1_HUMAN</td>\n",
       "      <td>81608</td>\n",
       "      <td>0.63</td>\n",
       "      <td>experiments:anti bait coimmunoprecipitation;pm...</td>\n",
       "    </tr>\n",
       "    <tr>\n",
       "      <th>287353</th>\n",
       "      <td>APC15_HUMAN</td>\n",
       "      <td>25906</td>\n",
       "      <td>PRDX1_HUMAN</td>\n",
       "      <td>5052</td>\n",
       "      <td>0.63</td>\n",
       "      <td>experiments:anti tag coimmunoprecipitation;pmi...</td>\n",
       "    </tr>\n",
       "    <tr>\n",
       "      <th>287354</th>\n",
       "      <td>MTR1B_HUMAN</td>\n",
       "      <td>4544</td>\n",
       "      <td>EBP_HUMAN</td>\n",
       "      <td>10682</td>\n",
       "      <td>0.63</td>\n",
       "      <td>experiments:ubiquitin reconstruction;pmids:265...</td>\n",
       "    </tr>\n",
       "    <tr>\n",
       "      <th>287355</th>\n",
       "      <td>FAKD3_HUMAN</td>\n",
       "      <td>79072</td>\n",
       "      <td>RT29_HUMAN</td>\n",
       "      <td>7818</td>\n",
       "      <td>0.63</td>\n",
       "      <td>experiments:tandem affinity purification;pmids...</td>\n",
       "    </tr>\n",
       "    <tr>\n",
       "      <th>287356</th>\n",
       "      <td>MMGT1_HUMAN</td>\n",
       "      <td>93380</td>\n",
       "      <td>COX2_HUMAN</td>\n",
       "      <td>4513</td>\n",
       "      <td>0.63</td>\n",
       "      <td>experiments:anti tag coimmunoprecipitation;pmi...</td>\n",
       "    </tr>\n",
       "  </tbody>\n",
       "</table>\n",
       "<p>287357 rows × 6 columns</p>\n",
       "</div>"
      ],
      "text/plain": [
       "                  0      1            2      3     4  \\\n",
       "0       AL1A1_HUMAN    216  AL1A1_HUMAN    216  0.76   \n",
       "1        ITA7_HUMAN   3679   ACHA_HUMAN   1134  0.73   \n",
       "2        NEB1_HUMAN  55607   ACTG_HUMAN     71  0.65   \n",
       "3        SRGN_HUMAN   5552   CD44_HUMAN    960  0.63   \n",
       "4        GRB7_HUMAN   2886  ERBB2_HUMAN   2064  0.90   \n",
       "...             ...    ...          ...    ...   ...   \n",
       "287352    JUN_HUMAN   3725   FIP1_HUMAN  81608  0.63   \n",
       "287353  APC15_HUMAN  25906  PRDX1_HUMAN   5052  0.63   \n",
       "287354  MTR1B_HUMAN   4544    EBP_HUMAN  10682  0.63   \n",
       "287355  FAKD3_HUMAN  79072   RT29_HUMAN   7818  0.63   \n",
       "287356  MMGT1_HUMAN  93380   COX2_HUMAN   4513  0.63   \n",
       "\n",
       "                                                        5  \n",
       "0       experiments:in vivo,Two-hybrid;pmids:12081471,...  \n",
       "1       experiments:in vivo,Affinity Capture-Western,a...  \n",
       "2       experiments:in vitro,in vivo;pmids:9362513,120...  \n",
       "3       experiments:in vivo;pmids:9334256,16189514,167...  \n",
       "4       experiments:in vitro,in vivo,Reconstituted Com...  \n",
       "...                                                   ...  \n",
       "287352  experiments:anti bait coimmunoprecipitation;pm...  \n",
       "287353  experiments:anti tag coimmunoprecipitation;pmi...  \n",
       "287354  experiments:ubiquitin reconstruction;pmids:265...  \n",
       "287355  experiments:tandem affinity purification;pmids...  \n",
       "287356  experiments:anti tag coimmunoprecipitation;pmi...  \n",
       "\n",
       "[287357 rows x 6 columns]"
      ]
     },
     "execution_count": 3,
     "metadata": {},
     "output_type": "execute_result"
    }
   ],
   "source": [
    "hippie_df"
   ]
  },
  {
   "cell_type": "code",
   "execution_count": 4,
   "metadata": {},
   "outputs": [
    {
     "data": {
      "text/html": [
       "<div>\n",
       "<style scoped>\n",
       "    .dataframe tbody tr th:only-of-type {\n",
       "        vertical-align: middle;\n",
       "    }\n",
       "\n",
       "    .dataframe tbody tr th {\n",
       "        vertical-align: top;\n",
       "    }\n",
       "\n",
       "    .dataframe thead th {\n",
       "        text-align: right;\n",
       "    }\n",
       "</style>\n",
       "<table border=\"1\" class=\"dataframe\">\n",
       "  <thead>\n",
       "    <tr style=\"text-align: right;\">\n",
       "      <th></th>\n",
       "      <th>Protein_1</th>\n",
       "      <th>Protein_2</th>\n",
       "      <th>Score</th>\n",
       "    </tr>\n",
       "  </thead>\n",
       "  <tbody>\n",
       "    <tr>\n",
       "      <th>0</th>\n",
       "      <td>AL1A1_HUMAN</td>\n",
       "      <td>AL1A1_HUMAN</td>\n",
       "      <td>0.76</td>\n",
       "    </tr>\n",
       "    <tr>\n",
       "      <th>1</th>\n",
       "      <td>ITA7_HUMAN</td>\n",
       "      <td>ACHA_HUMAN</td>\n",
       "      <td>0.73</td>\n",
       "    </tr>\n",
       "    <tr>\n",
       "      <th>2</th>\n",
       "      <td>NEB1_HUMAN</td>\n",
       "      <td>ACTG_HUMAN</td>\n",
       "      <td>0.65</td>\n",
       "    </tr>\n",
       "    <tr>\n",
       "      <th>3</th>\n",
       "      <td>SRGN_HUMAN</td>\n",
       "      <td>CD44_HUMAN</td>\n",
       "      <td>0.63</td>\n",
       "    </tr>\n",
       "    <tr>\n",
       "      <th>4</th>\n",
       "      <td>GRB7_HUMAN</td>\n",
       "      <td>ERBB2_HUMAN</td>\n",
       "      <td>0.90</td>\n",
       "    </tr>\n",
       "    <tr>\n",
       "      <th>...</th>\n",
       "      <td>...</td>\n",
       "      <td>...</td>\n",
       "      <td>...</td>\n",
       "    </tr>\n",
       "    <tr>\n",
       "      <th>287352</th>\n",
       "      <td>JUN_HUMAN</td>\n",
       "      <td>FIP1_HUMAN</td>\n",
       "      <td>0.63</td>\n",
       "    </tr>\n",
       "    <tr>\n",
       "      <th>287353</th>\n",
       "      <td>APC15_HUMAN</td>\n",
       "      <td>PRDX1_HUMAN</td>\n",
       "      <td>0.63</td>\n",
       "    </tr>\n",
       "    <tr>\n",
       "      <th>287354</th>\n",
       "      <td>MTR1B_HUMAN</td>\n",
       "      <td>EBP_HUMAN</td>\n",
       "      <td>0.63</td>\n",
       "    </tr>\n",
       "    <tr>\n",
       "      <th>287355</th>\n",
       "      <td>FAKD3_HUMAN</td>\n",
       "      <td>RT29_HUMAN</td>\n",
       "      <td>0.63</td>\n",
       "    </tr>\n",
       "    <tr>\n",
       "      <th>287356</th>\n",
       "      <td>MMGT1_HUMAN</td>\n",
       "      <td>COX2_HUMAN</td>\n",
       "      <td>0.63</td>\n",
       "    </tr>\n",
       "  </tbody>\n",
       "</table>\n",
       "<p>287357 rows × 3 columns</p>\n",
       "</div>"
      ],
      "text/plain": [
       "          Protein_1    Protein_2  Score\n",
       "0       AL1A1_HUMAN  AL1A1_HUMAN   0.76\n",
       "1        ITA7_HUMAN   ACHA_HUMAN   0.73\n",
       "2        NEB1_HUMAN   ACTG_HUMAN   0.65\n",
       "3        SRGN_HUMAN   CD44_HUMAN   0.63\n",
       "4        GRB7_HUMAN  ERBB2_HUMAN   0.90\n",
       "...             ...          ...    ...\n",
       "287352    JUN_HUMAN   FIP1_HUMAN   0.63\n",
       "287353  APC15_HUMAN  PRDX1_HUMAN   0.63\n",
       "287354  MTR1B_HUMAN    EBP_HUMAN   0.63\n",
       "287355  FAKD3_HUMAN   RT29_HUMAN   0.63\n",
       "287356  MMGT1_HUMAN   COX2_HUMAN   0.63\n",
       "\n",
       "[287357 rows x 3 columns]"
      ]
     },
     "execution_count": 4,
     "metadata": {},
     "output_type": "execute_result"
    }
   ],
   "source": [
    "hippie_df = {'Protein_1' : hippie_df.loc[:][0],\n",
    "             'Protein_2' : hippie_df.loc[:][2],\n",
    "             'Score' : hippie_df.loc[:][4]}\n",
    "hippie_df = pd.DataFrame(hippie_df)\n",
    "hippie_df"
   ]
  },
  {
   "cell_type": "code",
   "execution_count": 5,
   "metadata": {},
   "outputs": [],
   "source": [
    "hippie_hq = hippie_df.loc[hippie_df['Score'] >= 0.73]\n",
    "hippie_lq = hippie_df.loc[hippie_df['Score'] < 0.73]"
   ]
  },
  {
   "cell_type": "code",
   "execution_count": 6,
   "metadata": {},
   "outputs": [
    {
     "data": {
      "text/plain": [
       "287357"
      ]
     },
     "execution_count": 6,
     "metadata": {},
     "output_type": "execute_result"
    }
   ],
   "source": [
    "len(hippie_lq) + len(hippie_hq)"
   ]
  },
  {
   "cell_type": "code",
   "execution_count": 7,
   "metadata": {},
   "outputs": [
    {
     "data": {
      "text/plain": [
       "45316"
      ]
     },
     "execution_count": 7,
     "metadata": {},
     "output_type": "execute_result"
    }
   ],
   "source": [
    "len(hippie_hq)"
   ]
  },
  {
   "cell_type": "code",
   "execution_count": 8,
   "metadata": {},
   "outputs": [
    {
     "data": {
      "text/plain": [
       "242041"
      ]
     },
     "execution_count": 8,
     "metadata": {},
     "output_type": "execute_result"
    }
   ],
   "source": [
    "len(hippie_lq)"
   ]
  },
  {
   "cell_type": "code",
   "execution_count": 9,
   "metadata": {},
   "outputs": [],
   "source": [
    "hippie_hq.to_pickle('HIPPIE_HQ.pkl')\n",
    "hippie_lq.to_pickle('HIPPIE_LQ.pkl')"
   ]
  }
 ],
 "metadata": {
  "kernelspec": {
   "display_name": "Python 3 (ipykernel)",
   "language": "python",
   "name": "python3"
  },
  "language_info": {
   "codemirror_mode": {
    "name": "ipython",
    "version": 3
   },
   "file_extension": ".py",
   "mimetype": "text/x-python",
   "name": "python",
   "nbconvert_exporter": "python",
   "pygments_lexer": "ipython3",
   "version": "3.8.5"
  }
 },
 "nbformat": 4,
 "nbformat_minor": 2
}
