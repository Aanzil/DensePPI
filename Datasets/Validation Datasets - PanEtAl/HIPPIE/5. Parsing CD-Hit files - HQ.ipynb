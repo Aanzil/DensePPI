{
 "cells": [
  {
   "cell_type": "code",
   "execution_count": 1,
   "metadata": {},
   "outputs": [],
   "source": [
    "import re\n",
    "import pandas as pd\n",
    "import pickle"
   ]
  },
  {
   "cell_type": "code",
   "execution_count": 2,
   "metadata": {},
   "outputs": [],
   "source": [
    "# HQ\n",
    "file1 = open('1651225716.result/1651225716.fas.1.clstr.sorted', 'r')\n",
    "Lines = file1.readlines()"
   ]
  },
  {
   "cell_type": "code",
   "execution_count": 3,
   "metadata": {},
   "outputs": [],
   "source": [
    "LineIndex = 0\n",
    "cd_hit_dict = {}\n",
    "while LineIndex < len(Lines):\n",
    "    FF = re.search(r'^(>Cluster.*)', Lines[LineIndex])\n",
    "    if FF != None:\n",
    "        LineIndex += 1\n",
    "        li = []\n",
    "        dkey = ''\n",
    "        while LineIndex < len(Lines):\n",
    "            KK = re.search(r'^(.*\\*)', Lines[LineIndex])\n",
    "            if KK != None:\n",
    "                dkey = KK.group()\n",
    "                dkey = re.sub(r'.*>','',dkey)\n",
    "                dkey = re.sub(r'\\.\\.\\. \\*','',dkey)\n",
    "            else:\n",
    "                KK = re.search(r'^(.*\\.\\.\\.)', Lines[LineIndex])\n",
    "                dval = KK.group()\n",
    "                dval = re.sub(r'.*>','',dval)\n",
    "                dval = re.sub(r'\\.\\.\\.','',dval)\n",
    "                li.append(dval)\n",
    "            if(LineIndex == len(Lines)-1):\n",
    "                break\n",
    "            FF = re.search(r'^(>Cluster.*)', Lines[LineIndex + 1])\n",
    "            if (FF == None):\n",
    "                LineIndex += 1\n",
    "            else:\n",
    "                break\n",
    "        cd_hit_dict.update({dkey: li})\n",
    "    LineIndex += 1"
   ]
  },
  {
   "cell_type": "code",
   "execution_count": 4,
   "metadata": {},
   "outputs": [
    {
     "data": {
      "text/plain": [
       "1025"
      ]
     },
     "execution_count": 4,
     "metadata": {},
     "output_type": "execute_result"
    }
   ],
   "source": [
    "hippiehq_li = []\n",
    "for k in cd_hit_dict.keys():\n",
    "    if(k.endswith('_HUMAN')):\n",
    "        if(not(cd_hit_dict[k])):\n",
    "            hippiehq_li.append(k)\n",
    "        elif(all(protein.endswith('_HUMAN') for protein in cd_hit_dict[k])):\n",
    "            hippiehq_li.append(k)\n",
    "            hippiehq_li.extend(cd_hit_dict[k])\n",
    "len(hippiehq_li)"
   ]
  },
  {
   "cell_type": "code",
   "execution_count": 5,
   "metadata": {},
   "outputs": [],
   "source": [
    "with open('hippiehqgr_int_and_dict.pkl', 'rb') as f:\n",
    "    hippie_interactions, seq_dict = pickle.load(f)\n",
    "\n",
    "hippie_selected = {x : seq_dict[x] for x in hippiehq_li}"
   ]
  },
  {
   "cell_type": "code",
   "execution_count": 6,
   "metadata": {},
   "outputs": [],
   "source": [
    "p1 = []\n",
    "p2 = []\n",
    "for i in range(len(hippie_interactions)):\n",
    "    if ((hippie_interactions.loc[i][0] in hippie_selected) or (hippie_interactions.loc[i][1] in hippie_selected)):\n",
    "        p1.append(hippie_interactions.loc[i][0])\n",
    "        p2.append(hippie_interactions.loc[i][1])\n",
    "\n",
    "final_hippie_interactions_selected = pd.DataFrame({'Protein A': p1, 'Protein B': p2})"
   ]
  },
  {
   "cell_type": "code",
   "execution_count": 7,
   "metadata": {},
   "outputs": [
    {
     "data": {
      "text/html": [
       "<div>\n",
       "<style scoped>\n",
       "    .dataframe tbody tr th:only-of-type {\n",
       "        vertical-align: middle;\n",
       "    }\n",
       "\n",
       "    .dataframe tbody tr th {\n",
       "        vertical-align: top;\n",
       "    }\n",
       "\n",
       "    .dataframe thead th {\n",
       "        text-align: right;\n",
       "    }\n",
       "</style>\n",
       "<table border=\"1\" class=\"dataframe\">\n",
       "  <thead>\n",
       "    <tr style=\"text-align: right;\">\n",
       "      <th></th>\n",
       "      <th>Protein A</th>\n",
       "      <th>Protein B</th>\n",
       "    </tr>\n",
       "  </thead>\n",
       "  <tbody>\n",
       "    <tr>\n",
       "      <th>0</th>\n",
       "      <td>PICK1_HUMAN</td>\n",
       "      <td>BNC1_HUMAN</td>\n",
       "    </tr>\n",
       "    <tr>\n",
       "      <th>1</th>\n",
       "      <td>CD36_HUMAN</td>\n",
       "      <td>DHI1_HUMAN</td>\n",
       "    </tr>\n",
       "    <tr>\n",
       "      <th>2</th>\n",
       "      <td>RL10_HUMAN</td>\n",
       "      <td>RL27A_HUMAN</td>\n",
       "    </tr>\n",
       "    <tr>\n",
       "      <th>3</th>\n",
       "      <td>RL10_HUMAN</td>\n",
       "      <td>RL19_HUMAN</td>\n",
       "    </tr>\n",
       "    <tr>\n",
       "      <th>4</th>\n",
       "      <td>RL10_HUMAN</td>\n",
       "      <td>RS24_HUMAN</td>\n",
       "    </tr>\n",
       "    <tr>\n",
       "      <th>...</th>\n",
       "      <td>...</td>\n",
       "      <td>...</td>\n",
       "    </tr>\n",
       "    <tr>\n",
       "      <th>2722</th>\n",
       "      <td>KR109_HUMAN</td>\n",
       "      <td>LCE3E_HUMAN</td>\n",
       "    </tr>\n",
       "    <tr>\n",
       "      <th>2723</th>\n",
       "      <td>5HT3B_HUMAN</td>\n",
       "      <td>5HT3A_HUMAN</td>\n",
       "    </tr>\n",
       "    <tr>\n",
       "      <th>2724</th>\n",
       "      <td>5HT3A_HUMAN</td>\n",
       "      <td>5HT3E_HUMAN</td>\n",
       "    </tr>\n",
       "    <tr>\n",
       "      <th>2725</th>\n",
       "      <td>5HT3A_HUMAN</td>\n",
       "      <td>5HT3C_HUMAN</td>\n",
       "    </tr>\n",
       "    <tr>\n",
       "      <th>2726</th>\n",
       "      <td>5HT3A_HUMAN</td>\n",
       "      <td>5HT3D_HUMAN</td>\n",
       "    </tr>\n",
       "  </tbody>\n",
       "</table>\n",
       "<p>2727 rows × 2 columns</p>\n",
       "</div>"
      ],
      "text/plain": [
       "        Protein A    Protein B\n",
       "0     PICK1_HUMAN   BNC1_HUMAN\n",
       "1      CD36_HUMAN   DHI1_HUMAN\n",
       "2      RL10_HUMAN  RL27A_HUMAN\n",
       "3      RL10_HUMAN   RL19_HUMAN\n",
       "4      RL10_HUMAN   RS24_HUMAN\n",
       "...           ...          ...\n",
       "2722  KR109_HUMAN  LCE3E_HUMAN\n",
       "2723  5HT3B_HUMAN  5HT3A_HUMAN\n",
       "2724  5HT3A_HUMAN  5HT3E_HUMAN\n",
       "2725  5HT3A_HUMAN  5HT3C_HUMAN\n",
       "2726  5HT3A_HUMAN  5HT3D_HUMAN\n",
       "\n",
       "[2727 rows x 2 columns]"
      ]
     },
     "execution_count": 7,
     "metadata": {},
     "output_type": "execute_result"
    }
   ],
   "source": [
    "final_hippie_interactions_selected"
   ]
  },
  {
   "cell_type": "code",
   "execution_count": 8,
   "metadata": {},
   "outputs": [],
   "source": [
    "with open('hippiehqlr.pkl', 'wb') as f:\n",
    "    pickle.dump([final_hippie_interactions_selected, seq_dict], f)"
   ]
  },
  {
   "cell_type": "code",
   "execution_count": 9,
   "metadata": {},
   "outputs": [
    {
     "data": {
      "text/html": [
       "<div>\n",
       "<style scoped>\n",
       "    .dataframe tbody tr th:only-of-type {\n",
       "        vertical-align: middle;\n",
       "    }\n",
       "\n",
       "    .dataframe tbody tr th {\n",
       "        vertical-align: top;\n",
       "    }\n",
       "\n",
       "    .dataframe thead th {\n",
       "        text-align: right;\n",
       "    }\n",
       "</style>\n",
       "<table border=\"1\" class=\"dataframe\">\n",
       "  <thead>\n",
       "    <tr style=\"text-align: right;\">\n",
       "      <th></th>\n",
       "      <th>source</th>\n",
       "      <th>target</th>\n",
       "    </tr>\n",
       "  </thead>\n",
       "  <tbody>\n",
       "    <tr>\n",
       "      <th>0</th>\n",
       "      <td>ITA7_HUMAN</td>\n",
       "      <td>ACHA_HUMAN</td>\n",
       "    </tr>\n",
       "    <tr>\n",
       "      <th>1</th>\n",
       "      <td>ITA7_HUMAN</td>\n",
       "      <td>FHL2_HUMAN</td>\n",
       "    </tr>\n",
       "    <tr>\n",
       "      <th>2</th>\n",
       "      <td>ITA7_HUMAN</td>\n",
       "      <td>FHL3_HUMAN</td>\n",
       "    </tr>\n",
       "    <tr>\n",
       "      <th>3</th>\n",
       "      <td>ITA7_HUMAN</td>\n",
       "      <td>ITB1_HUMAN</td>\n",
       "    </tr>\n",
       "    <tr>\n",
       "      <th>4</th>\n",
       "      <td>ACHA_HUMAN</td>\n",
       "      <td>ACHE_HUMAN</td>\n",
       "    </tr>\n",
       "    <tr>\n",
       "      <th>...</th>\n",
       "      <td>...</td>\n",
       "      <td>...</td>\n",
       "    </tr>\n",
       "    <tr>\n",
       "      <th>31075</th>\n",
       "      <td>KR109_HUMAN</td>\n",
       "      <td>LCE3E_HUMAN</td>\n",
       "    </tr>\n",
       "    <tr>\n",
       "      <th>31076</th>\n",
       "      <td>5HT3B_HUMAN</td>\n",
       "      <td>5HT3A_HUMAN</td>\n",
       "    </tr>\n",
       "    <tr>\n",
       "      <th>31077</th>\n",
       "      <td>5HT3A_HUMAN</td>\n",
       "      <td>5HT3E_HUMAN</td>\n",
       "    </tr>\n",
       "    <tr>\n",
       "      <th>31078</th>\n",
       "      <td>5HT3A_HUMAN</td>\n",
       "      <td>5HT3C_HUMAN</td>\n",
       "    </tr>\n",
       "    <tr>\n",
       "      <th>31079</th>\n",
       "      <td>5HT3A_HUMAN</td>\n",
       "      <td>5HT3D_HUMAN</td>\n",
       "    </tr>\n",
       "  </tbody>\n",
       "</table>\n",
       "<p>31080 rows × 2 columns</p>\n",
       "</div>"
      ],
      "text/plain": [
       "            source       target\n",
       "0       ITA7_HUMAN   ACHA_HUMAN\n",
       "1       ITA7_HUMAN   FHL2_HUMAN\n",
       "2       ITA7_HUMAN   FHL3_HUMAN\n",
       "3       ITA7_HUMAN   ITB1_HUMAN\n",
       "4       ACHA_HUMAN   ACHE_HUMAN\n",
       "...            ...          ...\n",
       "31075  KR109_HUMAN  LCE3E_HUMAN\n",
       "31076  5HT3B_HUMAN  5HT3A_HUMAN\n",
       "31077  5HT3A_HUMAN  5HT3E_HUMAN\n",
       "31078  5HT3A_HUMAN  5HT3C_HUMAN\n",
       "31079  5HT3A_HUMAN  5HT3D_HUMAN\n",
       "\n",
       "[31080 rows x 2 columns]"
      ]
     },
     "execution_count": 9,
     "metadata": {},
     "output_type": "execute_result"
    }
   ],
   "source": [
    "hippie_interactions"
   ]
  },
  {
   "cell_type": "code",
   "execution_count": null,
   "metadata": {},
   "outputs": [],
   "source": []
  }
 ],
 "metadata": {
  "kernelspec": {
   "display_name": "Python 3 (ipykernel)",
   "language": "python",
   "name": "python3"
  },
  "language_info": {
   "codemirror_mode": {
    "name": "ipython",
    "version": 3
   },
   "file_extension": ".py",
   "mimetype": "text/x-python",
   "name": "python",
   "nbconvert_exporter": "python",
   "pygments_lexer": "ipython3",
   "version": "3.8.5"
  }
 },
 "nbformat": 4,
 "nbformat_minor": 2
}
