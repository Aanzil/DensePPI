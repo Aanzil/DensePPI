{
 "cells": [
  {
   "cell_type": "code",
   "execution_count": 1,
   "metadata": {},
   "outputs": [],
   "source": [
    "import json\n",
    "import pickle\n",
    "import networkx as nx"
   ]
  },
  {
   "cell_type": "code",
   "execution_count": 2,
   "metadata": {},
   "outputs": [],
   "source": [
    "f = open('hippie_sequences.json')\n",
    "d = json.load(f)"
   ]
  },
  {
   "cell_type": "code",
   "execution_count": 3,
   "metadata": {},
   "outputs": [],
   "source": [
    "final_seq_dict_hippie_le1200 = {k : d[k] for k in d.keys() if (len(d[k]) <= 1200 and len(d[k]) > 50)}"
   ]
  },
  {
   "cell_type": "code",
   "execution_count": 4,
   "metadata": {},
   "outputs": [
    {
     "data": {
      "text/plain": [
       "13663"
      ]
     },
     "execution_count": 4,
     "metadata": {},
     "output_type": "execute_result"
    }
   ],
   "source": [
    "len(final_seq_dict_hippie_le1200)"
   ]
  },
  {
   "cell_type": "code",
   "execution_count": 5,
   "metadata": {},
   "outputs": [],
   "source": [
    "f = open(\"HIPPIE_HQ.pkl\",'rb')\n",
    "hippie_hq = pickle.load(f)\n",
    "\n",
    "f = open(\"HIPPIE_LQ.pkl\",'rb')\n",
    "hippie_lq = pickle.load(f)"
   ]
  },
  {
   "cell_type": "code",
   "execution_count": 6,
   "metadata": {},
   "outputs": [],
   "source": [
    "hippiehqgr = nx.from_pandas_edgelist(hippie_hq, 'Protein_1', 'Protein_2')\n",
    "hippielqgr = nx.from_pandas_edgelist(hippie_lq, 'Protein_1', 'Protein_2')"
   ]
  },
  {
   "cell_type": "code",
   "execution_count": 7,
   "metadata": {},
   "outputs": [],
   "source": [
    "hippiehqgr.remove_edges_from(nx.selfloop_edges(hippiehqgr))\n",
    "hippielqgr.remove_edges_from(nx.selfloop_edges(hippielqgr))"
   ]
  },
  {
   "cell_type": "code",
   "execution_count": 8,
   "metadata": {},
   "outputs": [
    {
     "name": "stdout",
     "output_type": "stream",
     "text": [
      "41021\n",
      "9661\n",
      "228483\n",
      "17825\n"
     ]
    }
   ],
   "source": [
    "print(hippiehqgr.number_of_edges())\n",
    "print(hippiehqgr.number_of_nodes())\n",
    "print(hippielqgr.number_of_edges())\n",
    "print(hippielqgr.number_of_nodes())"
   ]
  },
  {
   "cell_type": "code",
   "execution_count": 9,
   "metadata": {},
   "outputs": [
    {
     "data": {
      "text/plain": [
       "True"
      ]
     },
     "execution_count": 9,
     "metadata": {},
     "output_type": "execute_result"
    }
   ],
   "source": [
    "not_including_list = list(set(list(hippiehqgr.nodes)) - set(final_seq_dict_hippie_le1200.keys()))\n",
    "all(proteins in list(hippiehqgr.nodes) for proteins in not_including_list)"
   ]
  },
  {
   "cell_type": "code",
   "execution_count": 10,
   "metadata": {},
   "outputs": [],
   "source": [
    "for i in range(len(not_including_list)):\n",
    "    hippiehqgr.remove_node(not_including_list[i])"
   ]
  },
  {
   "cell_type": "code",
   "execution_count": 11,
   "metadata": {},
   "outputs": [
    {
     "name": "stdout",
     "output_type": "stream",
     "text": [
      "31080\n",
      "8243\n"
     ]
    }
   ],
   "source": [
    "print(hippiehqgr.number_of_edges())\n",
    "print(hippiehqgr.number_of_nodes())"
   ]
  },
  {
   "cell_type": "code",
   "execution_count": 12,
   "metadata": {},
   "outputs": [
    {
     "data": {
      "text/plain": [
       "True"
      ]
     },
     "execution_count": 12,
     "metadata": {},
     "output_type": "execute_result"
    }
   ],
   "source": [
    "not_including_list = list(set(list(hippielqgr.nodes)) - set(final_seq_dict_hippie_le1200.keys()))\n",
    "all(proteins in list(hippielqgr.nodes) for proteins in not_including_list)"
   ]
  },
  {
   "cell_type": "code",
   "execution_count": 13,
   "metadata": {},
   "outputs": [],
   "source": [
    "for i in range(len(not_including_list)):\n",
    "    hippielqgr.remove_node(not_including_list[i])"
   ]
  },
  {
   "cell_type": "code",
   "execution_count": 14,
   "metadata": {},
   "outputs": [
    {
     "name": "stdout",
     "output_type": "stream",
     "text": [
      "167421\n",
      "13515\n"
     ]
    }
   ],
   "source": [
    "print(hippielqgr.number_of_edges())\n",
    "print(hippielqgr.number_of_nodes())"
   ]
  },
  {
   "cell_type": "code",
   "execution_count": 15,
   "metadata": {},
   "outputs": [],
   "source": [
    "seq_dict = {x : final_seq_dict_hippie_le1200[x] for x in list(hippiehqgr.nodes)}\n",
    "with open('hippiehqgr_int_and_dict.pkl', 'wb') as f:\n",
    "    pickle.dump([nx.to_pandas_edgelist(hippiehqgr), seq_dict], f)\n",
    "    \n",
    "seq_dict = {x : final_seq_dict_hippie_le1200[x] for x in list(hippielqgr.nodes)}\n",
    "with open('hippielqgr_int_and_dict.pkl', 'wb') as f:\n",
    "    pickle.dump([nx.to_pandas_edgelist(hippielqgr), seq_dict], f)"
   ]
  },
  {
   "cell_type": "code",
   "execution_count": null,
   "metadata": {},
   "outputs": [],
   "source": []
  }
 ],
 "metadata": {
  "kernelspec": {
   "display_name": "Python 3 (ipykernel)",
   "language": "python",
   "name": "python3"
  },
  "language_info": {
   "codemirror_mode": {
    "name": "ipython",
    "version": 3
   },
   "file_extension": ".py",
   "mimetype": "text/x-python",
   "name": "python",
   "nbconvert_exporter": "python",
   "pygments_lexer": "ipython3",
   "version": "3.8.5"
  }
 },
 "nbformat": 4,
 "nbformat_minor": 2
}
