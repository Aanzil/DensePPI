{
 "cells": [
  {
   "cell_type": "code",
   "execution_count": 1,
   "metadata": {},
   "outputs": [],
   "source": [
    "import re\n",
    "import pandas as pd\n",
    "import pickle"
   ]
  },
  {
   "cell_type": "code",
   "execution_count": 2,
   "metadata": {},
   "outputs": [],
   "source": [
    "# LQ\n",
    "file1 = open('1651225759.result/1651225759.fas.1.clstr.sorted', 'r')\n",
    "Lines = file1.readlines()"
   ]
  },
  {
   "cell_type": "code",
   "execution_count": 3,
   "metadata": {},
   "outputs": [],
   "source": [
    "LineIndex = 0\n",
    "cd_hit_dict = {}\n",
    "while LineIndex < len(Lines):\n",
    "    FF = re.search(r'^(>Cluster.*)', Lines[LineIndex])\n",
    "    if FF != None:\n",
    "        LineIndex += 1\n",
    "        li = []\n",
    "        dkey = ''\n",
    "        while LineIndex < len(Lines):\n",
    "            KK = re.search(r'^(.*\\*)', Lines[LineIndex])\n",
    "            if KK != None:\n",
    "                dkey = KK.group()\n",
    "                dkey = re.sub(r'.*>','',dkey)\n",
    "                dkey = re.sub(r'\\.\\.\\. \\*','',dkey)\n",
    "            else:\n",
    "                KK = re.search(r'^(.*\\.\\.\\.)', Lines[LineIndex])\n",
    "                dval = KK.group()\n",
    "                dval = re.sub(r'.*>','',dval)\n",
    "                dval = re.sub(r'\\.\\.\\.','',dval)\n",
    "                li.append(dval)\n",
    "            if(LineIndex == len(Lines)-1):\n",
    "                break\n",
    "            FF = re.search(r'^(>Cluster.*)', Lines[LineIndex + 1])\n",
    "            if (FF == None):\n",
    "                LineIndex += 1\n",
    "            else:\n",
    "                break\n",
    "        cd_hit_dict.update({dkey: li})\n",
    "    LineIndex += 1"
   ]
  },
  {
   "cell_type": "code",
   "execution_count": 4,
   "metadata": {},
   "outputs": [
    {
     "data": {
      "text/plain": [
       "3767"
      ]
     },
     "execution_count": 4,
     "metadata": {},
     "output_type": "execute_result"
    }
   ],
   "source": [
    "hippielq_li = []\n",
    "for k in cd_hit_dict.keys():\n",
    "    if(k.endswith('_HUMAN')):\n",
    "        if(not(cd_hit_dict[k])):\n",
    "            hippielq_li.append(k)\n",
    "        elif(all(protein.endswith('_HUMAN') for protein in cd_hit_dict[k])):\n",
    "            hippielq_li.append(k)\n",
    "            hippielq_li.extend(cd_hit_dict[k])\n",
    "len(hippielq_li)"
   ]
  },
  {
   "cell_type": "code",
   "execution_count": 5,
   "metadata": {},
   "outputs": [],
   "source": [
    "with open('hippielqgr_int_and_dict.pkl', 'rb') as f:\n",
    "    hippie_interactions, seq_dict = pickle.load(f)\n",
    "\n",
    "hippie_selected = {x : seq_dict[x] for x in hippielq_li}"
   ]
  },
  {
   "cell_type": "code",
   "execution_count": 6,
   "metadata": {},
   "outputs": [],
   "source": [
    "p1 = []\n",
    "p2 = []\n",
    "for i in range(len(hippie_interactions)):\n",
    "    if ((hippie_interactions.loc[i][0] in hippie_selected) or (hippie_interactions.loc[i][1] in hippie_selected)):\n",
    "        p1.append(hippie_interactions.loc[i][0])\n",
    "        p2.append(hippie_interactions.loc[i][1])\n",
    "\n",
    "final_hippie_interactions_selected = pd.DataFrame({'Protein A': p1, 'Protein B': p2})"
   ]
  },
  {
   "cell_type": "code",
   "execution_count": 7,
   "metadata": {},
   "outputs": [
    {
     "data": {
      "text/html": [
       "<div>\n",
       "<style scoped>\n",
       "    .dataframe tbody tr th:only-of-type {\n",
       "        vertical-align: middle;\n",
       "    }\n",
       "\n",
       "    .dataframe tbody tr th {\n",
       "        vertical-align: top;\n",
       "    }\n",
       "\n",
       "    .dataframe thead th {\n",
       "        text-align: right;\n",
       "    }\n",
       "</style>\n",
       "<table border=\"1\" class=\"dataframe\">\n",
       "  <thead>\n",
       "    <tr style=\"text-align: right;\">\n",
       "      <th></th>\n",
       "      <th>Protein A</th>\n",
       "      <th>Protein B</th>\n",
       "    </tr>\n",
       "  </thead>\n",
       "  <tbody>\n",
       "    <tr>\n",
       "      <th>0</th>\n",
       "      <td>NEB1_HUMAN</td>\n",
       "      <td>CCDC8_HUMAN</td>\n",
       "    </tr>\n",
       "    <tr>\n",
       "      <th>1</th>\n",
       "      <td>NEB1_HUMAN</td>\n",
       "      <td>MYO19_HUMAN</td>\n",
       "    </tr>\n",
       "    <tr>\n",
       "      <th>2</th>\n",
       "      <td>NEB1_HUMAN</td>\n",
       "      <td>APC15_HUMAN</td>\n",
       "    </tr>\n",
       "    <tr>\n",
       "      <th>3</th>\n",
       "      <td>ACTG_HUMAN</td>\n",
       "      <td>MEPCE_HUMAN</td>\n",
       "    </tr>\n",
       "    <tr>\n",
       "      <th>4</th>\n",
       "      <td>ACTG_HUMAN</td>\n",
       "      <td>UBL4A_HUMAN</td>\n",
       "    </tr>\n",
       "    <tr>\n",
       "      <th>...</th>\n",
       "      <td>...</td>\n",
       "      <td>...</td>\n",
       "    </tr>\n",
       "    <tr>\n",
       "      <th>37622</th>\n",
       "      <td>JERKL_HUMAN</td>\n",
       "      <td>TIGD2_HUMAN</td>\n",
       "    </tr>\n",
       "    <tr>\n",
       "      <th>37623</th>\n",
       "      <td>PCDBF_HUMAN</td>\n",
       "      <td>RHG39_HUMAN</td>\n",
       "    </tr>\n",
       "    <tr>\n",
       "      <th>37624</th>\n",
       "      <td>CCD61_HUMAN</td>\n",
       "      <td>CCD13_HUMAN</td>\n",
       "    </tr>\n",
       "    <tr>\n",
       "      <th>37625</th>\n",
       "      <td>TIGD6_HUMAN</td>\n",
       "      <td>S18L2_HUMAN</td>\n",
       "    </tr>\n",
       "    <tr>\n",
       "      <th>37626</th>\n",
       "      <td>C1QT6_HUMAN</td>\n",
       "      <td>APC15_HUMAN</td>\n",
       "    </tr>\n",
       "  </tbody>\n",
       "</table>\n",
       "<p>37627 rows × 2 columns</p>\n",
       "</div>"
      ],
      "text/plain": [
       "         Protein A    Protein B\n",
       "0       NEB1_HUMAN  CCDC8_HUMAN\n",
       "1       NEB1_HUMAN  MYO19_HUMAN\n",
       "2       NEB1_HUMAN  APC15_HUMAN\n",
       "3       ACTG_HUMAN  MEPCE_HUMAN\n",
       "4       ACTG_HUMAN  UBL4A_HUMAN\n",
       "...            ...          ...\n",
       "37622  JERKL_HUMAN  TIGD2_HUMAN\n",
       "37623  PCDBF_HUMAN  RHG39_HUMAN\n",
       "37624  CCD61_HUMAN  CCD13_HUMAN\n",
       "37625  TIGD6_HUMAN  S18L2_HUMAN\n",
       "37626  C1QT6_HUMAN  APC15_HUMAN\n",
       "\n",
       "[37627 rows x 2 columns]"
      ]
     },
     "execution_count": 7,
     "metadata": {},
     "output_type": "execute_result"
    }
   ],
   "source": [
    "final_hippie_interactions_selected"
   ]
  },
  {
   "cell_type": "code",
   "execution_count": 8,
   "metadata": {},
   "outputs": [],
   "source": [
    "with open('hippielqlr.pkl', 'wb') as f:\n",
    "    pickle.dump([final_hippie_interactions_selected, seq_dict], f)"
   ]
  },
  {
   "cell_type": "code",
   "execution_count": 9,
   "metadata": {},
   "outputs": [
    {
     "data": {
      "text/html": [
       "<div>\n",
       "<style scoped>\n",
       "    .dataframe tbody tr th:only-of-type {\n",
       "        vertical-align: middle;\n",
       "    }\n",
       "\n",
       "    .dataframe tbody tr th {\n",
       "        vertical-align: top;\n",
       "    }\n",
       "\n",
       "    .dataframe thead th {\n",
       "        text-align: right;\n",
       "    }\n",
       "</style>\n",
       "<table border=\"1\" class=\"dataframe\">\n",
       "  <thead>\n",
       "    <tr style=\"text-align: right;\">\n",
       "      <th></th>\n",
       "      <th>source</th>\n",
       "      <th>target</th>\n",
       "    </tr>\n",
       "  </thead>\n",
       "  <tbody>\n",
       "    <tr>\n",
       "      <th>0</th>\n",
       "      <td>NEB1_HUMAN</td>\n",
       "      <td>ACTG_HUMAN</td>\n",
       "    </tr>\n",
       "    <tr>\n",
       "      <th>1</th>\n",
       "      <td>NEB1_HUMAN</td>\n",
       "      <td>KAP1_HUMAN</td>\n",
       "    </tr>\n",
       "    <tr>\n",
       "      <th>2</th>\n",
       "      <td>NEB1_HUMAN</td>\n",
       "      <td>IPP2_HUMAN</td>\n",
       "    </tr>\n",
       "    <tr>\n",
       "      <th>3</th>\n",
       "      <td>NEB1_HUMAN</td>\n",
       "      <td>TGON2_HUMAN</td>\n",
       "    </tr>\n",
       "    <tr>\n",
       "      <th>4</th>\n",
       "      <td>NEB1_HUMAN</td>\n",
       "      <td>LARP1_HUMAN</td>\n",
       "    </tr>\n",
       "    <tr>\n",
       "      <th>...</th>\n",
       "      <td>...</td>\n",
       "      <td>...</td>\n",
       "    </tr>\n",
       "    <tr>\n",
       "      <th>167416</th>\n",
       "      <td>CCD61_HUMAN</td>\n",
       "      <td>CCD13_HUMAN</td>\n",
       "    </tr>\n",
       "    <tr>\n",
       "      <th>167417</th>\n",
       "      <td>TIGD6_HUMAN</td>\n",
       "      <td>S18L2_HUMAN</td>\n",
       "    </tr>\n",
       "    <tr>\n",
       "      <th>167418</th>\n",
       "      <td>FOXD4_HUMAN</td>\n",
       "      <td>FOXD1_HUMAN</td>\n",
       "    </tr>\n",
       "    <tr>\n",
       "      <th>167419</th>\n",
       "      <td>FOXD4_HUMAN</td>\n",
       "      <td>FX4L1_HUMAN</td>\n",
       "    </tr>\n",
       "    <tr>\n",
       "      <th>167420</th>\n",
       "      <td>C1QT6_HUMAN</td>\n",
       "      <td>APC15_HUMAN</td>\n",
       "    </tr>\n",
       "  </tbody>\n",
       "</table>\n",
       "<p>167421 rows × 2 columns</p>\n",
       "</div>"
      ],
      "text/plain": [
       "             source       target\n",
       "0        NEB1_HUMAN   ACTG_HUMAN\n",
       "1        NEB1_HUMAN   KAP1_HUMAN\n",
       "2        NEB1_HUMAN   IPP2_HUMAN\n",
       "3        NEB1_HUMAN  TGON2_HUMAN\n",
       "4        NEB1_HUMAN  LARP1_HUMAN\n",
       "...             ...          ...\n",
       "167416  CCD61_HUMAN  CCD13_HUMAN\n",
       "167417  TIGD6_HUMAN  S18L2_HUMAN\n",
       "167418  FOXD4_HUMAN  FOXD1_HUMAN\n",
       "167419  FOXD4_HUMAN  FX4L1_HUMAN\n",
       "167420  C1QT6_HUMAN  APC15_HUMAN\n",
       "\n",
       "[167421 rows x 2 columns]"
      ]
     },
     "execution_count": 9,
     "metadata": {},
     "output_type": "execute_result"
    }
   ],
   "source": [
    "hippie_interactions"
   ]
  },
  {
   "cell_type": "code",
   "execution_count": null,
   "metadata": {},
   "outputs": [],
   "source": []
  }
 ],
 "metadata": {
  "kernelspec": {
   "display_name": "Python 3 (ipykernel)",
   "language": "python",
   "name": "python3"
  },
  "language_info": {
   "codemirror_mode": {
    "name": "ipython",
    "version": 3
   },
   "file_extension": ".py",
   "mimetype": "text/x-python",
   "name": "python",
   "nbconvert_exporter": "python",
   "pygments_lexer": "ipython3",
   "version": "3.8.5"
  }
 },
 "nbformat": 4,
 "nbformat_minor": 2
}
