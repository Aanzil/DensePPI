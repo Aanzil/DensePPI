{
 "cells": [
  {
   "cell_type": "code",
   "execution_count": 1,
   "metadata": {},
   "outputs": [],
   "source": [
    "import json\n",
    "import pickle\n",
    "import networkx as nx"
   ]
  },
  {
   "cell_type": "code",
   "execution_count": 2,
   "metadata": {},
   "outputs": [],
   "source": [
    "f = open('ii_sequences.json')\n",
    "d = json.load(f)"
   ]
  },
  {
   "cell_type": "code",
   "execution_count": 9,
   "metadata": {},
   "outputs": [],
   "source": [
    "final_seq_dict_ii_le1200 = {k : d[k] for k in d.keys() if (len(d[k]) <= 1200 and len(d[k]) > 50)}"
   ]
  },
  {
   "cell_type": "code",
   "execution_count": 4,
   "metadata": {},
   "outputs": [
    {
     "data": {
      "text/plain": [
       "15498"
      ]
     },
     "execution_count": 4,
     "metadata": {},
     "output_type": "execute_result"
    }
   ],
   "source": [
    "len(final_seq_dict_hippie_le1200)"
   ]
  },
  {
   "cell_type": "code",
   "execution_count": 5,
   "metadata": {},
   "outputs": [],
   "source": [
    "f = open(\"inWeb_inbiomap_hq.pkl\",'rb')\n",
    "ii_hq = pickle.load(f)\n",
    "\n",
    "f = open(\"inWeb_inbiomap_lq.pkl\",'rb')\n",
    "ii_lq = pickle.load(f)"
   ]
  },
  {
   "cell_type": "code",
   "execution_count": 6,
   "metadata": {},
   "outputs": [],
   "source": [
    "iihqgr = nx.from_pandas_edgelist(ii_hq, 'Protein_1', 'Protein_2')\n",
    "iilqgr = nx.from_pandas_edgelist(ii_lq, 'Protein_1', 'Protein_2')"
   ]
  },
  {
   "cell_type": "code",
   "execution_count": 7,
   "metadata": {},
   "outputs": [],
   "source": [
    "iihqgr.remove_edges_from(nx.selfloop_edges(iihqgr))\n",
    "iilqgr.remove_edges_from(nx.selfloop_edges(iilqgr))"
   ]
  },
  {
   "cell_type": "code",
   "execution_count": 8,
   "metadata": {},
   "outputs": [
    {
     "name": "stdout",
     "output_type": "stream",
     "text": [
      "166033\n",
      "9652\n",
      "459608\n",
      "16916\n"
     ]
    }
   ],
   "source": [
    "print(iihqgr.number_of_edges())\n",
    "print(iihqgr.number_of_nodes())\n",
    "print(iilqgr.number_of_edges())\n",
    "print(iilqgr.number_of_nodes())"
   ]
  },
  {
   "cell_type": "code",
   "execution_count": 10,
   "metadata": {},
   "outputs": [
    {
     "data": {
      "text/plain": [
       "True"
      ]
     },
     "execution_count": 10,
     "metadata": {},
     "output_type": "execute_result"
    }
   ],
   "source": [
    "not_including_list = list(set(list(iihqgr.nodes)) - set(final_seq_dict_ii_le1200.keys()))\n",
    "all(proteins in list(iihqgr.nodes) for proteins in not_including_list)"
   ]
  },
  {
   "cell_type": "code",
   "execution_count": 11,
   "metadata": {},
   "outputs": [],
   "source": [
    "for i in range(len(not_including_list)):\n",
    "    iihqgr.remove_node(not_including_list[i])"
   ]
  },
  {
   "cell_type": "code",
   "execution_count": 12,
   "metadata": {},
   "outputs": [
    {
     "name": "stdout",
     "output_type": "stream",
     "text": [
      "125436\n",
      "8456\n"
     ]
    }
   ],
   "source": [
    "print(iihqgr.number_of_edges())\n",
    "print(iihqgr.number_of_nodes())"
   ]
  },
  {
   "cell_type": "code",
   "execution_count": 13,
   "metadata": {},
   "outputs": [
    {
     "data": {
      "text/plain": [
       "True"
      ]
     },
     "execution_count": 13,
     "metadata": {},
     "output_type": "execute_result"
    }
   ],
   "source": [
    "not_including_list = list(set(list(iilqgr.nodes)) - set(final_seq_dict_ii_le1200.keys()))\n",
    "all(proteins in list(iilqgr.nodes) for proteins in not_including_list)"
   ]
  },
  {
   "cell_type": "code",
   "execution_count": 14,
   "metadata": {},
   "outputs": [],
   "source": [
    "for i in range(len(not_including_list)):\n",
    "    iilqgr.remove_node(not_including_list[i])"
   ]
  },
  {
   "cell_type": "code",
   "execution_count": 15,
   "metadata": {},
   "outputs": [
    {
     "name": "stdout",
     "output_type": "stream",
     "text": [
      "368212\n",
      "14874\n"
     ]
    }
   ],
   "source": [
    "print(iilqgr.number_of_edges())\n",
    "print(iilqgr.number_of_nodes())"
   ]
  },
  {
   "cell_type": "code",
   "execution_count": 16,
   "metadata": {},
   "outputs": [],
   "source": [
    "seq_dict = {x : final_seq_dict_ii_le1200[x] for x in list(iihqgr.nodes)}\n",
    "with open('hippiehqgr_int_and_dict.pkl', 'wb') as f:\n",
    "    pickle.dump([nx.to_pandas_edgelist(iihqgr), seq_dict], f)\n",
    "    \n",
    "seq_dict = {x : final_seq_dict_ii_le1200[x] for x in list(iilqgr.nodes)}\n",
    "with open('hippielqgr_int_and_dict.pkl', 'wb') as f:\n",
    "    pickle.dump([nx.to_pandas_edgelist(iilqgr), seq_dict], f)"
   ]
  },
  {
   "cell_type": "code",
   "execution_count": null,
   "metadata": {},
   "outputs": [],
   "source": []
  }
 ],
 "metadata": {
  "kernelspec": {
   "display_name": "Python 3 (ipykernel)",
   "language": "python",
   "name": "python3"
  },
  "language_info": {
   "codemirror_mode": {
    "name": "ipython",
    "version": 3
   },
   "file_extension": ".py",
   "mimetype": "text/x-python",
   "name": "python",
   "nbconvert_exporter": "python",
   "pygments_lexer": "ipython3",
   "version": "3.8.5"
  }
 },
 "nbformat": 4,
 "nbformat_minor": 2
}
