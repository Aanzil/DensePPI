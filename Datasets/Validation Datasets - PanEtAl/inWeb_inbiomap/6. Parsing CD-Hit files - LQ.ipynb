{
 "cells": [
  {
   "cell_type": "code",
   "execution_count": 1,
   "metadata": {},
   "outputs": [],
   "source": [
    "import re\n",
    "import pandas as pd\n",
    "import pickle"
   ]
  },
  {
   "cell_type": "code",
   "execution_count": 2,
   "metadata": {},
   "outputs": [],
   "source": [
    "# HQ\n",
    "file1 = open('1645601574.result/1645601574.fas.1.clstr.sorted', 'r')\n",
    "Lines = file1.readlines()"
   ]
  },
  {
   "cell_type": "code",
   "execution_count": 3,
   "metadata": {},
   "outputs": [],
   "source": [
    "LineIndex = 0\n",
    "cd_hit_dict = {}\n",
    "while LineIndex < len(Lines):\n",
    "    FF = re.search(r'^(>Cluster.*)', Lines[LineIndex])\n",
    "    if FF != None:\n",
    "        LineIndex += 1\n",
    "        li = []\n",
    "        dkey = ''\n",
    "        while LineIndex < len(Lines):\n",
    "            KK = re.search(r'^(.*\\*)', Lines[LineIndex])\n",
    "            if KK != None:\n",
    "                dkey = KK.group()\n",
    "                dkey = re.sub(r'.*>','',dkey)\n",
    "                dkey = re.sub(r'\\.\\.\\. \\*','',dkey)\n",
    "            else:\n",
    "                KK = re.search(r'^(.*\\.\\.\\.)', Lines[LineIndex])\n",
    "                dval = KK.group()\n",
    "                dval = re.sub(r'.*>','',dval)\n",
    "                dval = re.sub(r'\\.\\.\\.','',dval)\n",
    "                li.append(dval)\n",
    "            if(LineIndex == len(Lines)-1):\n",
    "                break\n",
    "            FF = re.search(r'^(>Cluster.*)', Lines[LineIndex + 1])\n",
    "            if (FF == None):\n",
    "                LineIndex += 1\n",
    "            else:\n",
    "                break\n",
    "        cd_hit_dict.update({dkey: li})\n",
    "    LineIndex += 1"
   ]
  },
  {
   "cell_type": "code",
   "execution_count": 4,
   "metadata": {},
   "outputs": [
    {
     "data": {
      "text/plain": [
       "4616"
      ]
     },
     "execution_count": 4,
     "metadata": {},
     "output_type": "execute_result"
    }
   ],
   "source": [
    "iilq_li = []\n",
    "for k in cd_hit_dict.keys():\n",
    "    if(k.endswith('_HUMAN')):\n",
    "        if(not(cd_hit_dict[k])):\n",
    "            iilq_li.append(k)\n",
    "        elif(all(protein.endswith('_HUMAN') for protein in cd_hit_dict[k])):\n",
    "            iilq_li.append(k)\n",
    "            iilq_li.extend(cd_hit_dict[k])\n",
    "len(iilq_li)"
   ]
  },
  {
   "cell_type": "code",
   "execution_count": 5,
   "metadata": {},
   "outputs": [],
   "source": [
    "with open('iilqgr_int_and_dict.pkl', 'rb') as f:\n",
    "    ii_interactions, seq_dict = pickle.load(f)\n",
    "\n",
    "ii_selected = {x : seq_dict[x] for x in iilq_li}"
   ]
  },
  {
   "cell_type": "code",
   "execution_count": 6,
   "metadata": {},
   "outputs": [],
   "source": [
    "p1 = []\n",
    "p2 = []\n",
    "for i in range(len(ii_interactions)):\n",
    "    if ((ii_interactions.loc[i][0] in ii_selected) or (ii_interactions.loc[i][1] in ii_selected)):\n",
    "        p1.append(ii_interactions.loc[i][0])\n",
    "        p2.append(ii_interactions.loc[i][1])\n",
    "\n",
    "final_ii_interactions_selected = pd.DataFrame({'Protein A': p1, 'Protein B': p2})"
   ]
  },
  {
   "cell_type": "code",
   "execution_count": 7,
   "metadata": {},
   "outputs": [
    {
     "data": {
      "text/html": [
       "<div>\n",
       "<style scoped>\n",
       "    .dataframe tbody tr th:only-of-type {\n",
       "        vertical-align: middle;\n",
       "    }\n",
       "\n",
       "    .dataframe tbody tr th {\n",
       "        vertical-align: top;\n",
       "    }\n",
       "\n",
       "    .dataframe thead th {\n",
       "        text-align: right;\n",
       "    }\n",
       "</style>\n",
       "<table border=\"1\" class=\"dataframe\">\n",
       "  <thead>\n",
       "    <tr style=\"text-align: right;\">\n",
       "      <th></th>\n",
       "      <th>Protein A</th>\n",
       "      <th>Protein B</th>\n",
       "    </tr>\n",
       "  </thead>\n",
       "  <tbody>\n",
       "    <tr>\n",
       "      <th>0</th>\n",
       "      <td>KAL1L_HUMAN</td>\n",
       "      <td>OPTN_HUMAN</td>\n",
       "    </tr>\n",
       "    <tr>\n",
       "      <th>1</th>\n",
       "      <td>OPTN_HUMAN</td>\n",
       "      <td>GNAS3_HUMAN</td>\n",
       "    </tr>\n",
       "    <tr>\n",
       "      <th>2</th>\n",
       "      <td>OPTN_HUMAN</td>\n",
       "      <td>ALEX_HUMAN</td>\n",
       "    </tr>\n",
       "    <tr>\n",
       "      <th>3</th>\n",
       "      <td>OPTN_HUMAN</td>\n",
       "      <td>SLMAP_HUMAN</td>\n",
       "    </tr>\n",
       "    <tr>\n",
       "      <th>4</th>\n",
       "      <td>OPTN_HUMAN</td>\n",
       "      <td>SLF2_HUMAN</td>\n",
       "    </tr>\n",
       "    <tr>\n",
       "      <th>...</th>\n",
       "      <td>...</td>\n",
       "      <td>...</td>\n",
       "    </tr>\n",
       "    <tr>\n",
       "      <th>78348</th>\n",
       "      <td>PCDAD_HUMAN</td>\n",
       "      <td>PCDGD_HUMAN</td>\n",
       "    </tr>\n",
       "    <tr>\n",
       "      <th>78349</th>\n",
       "      <td>IGFL1_HUMAN</td>\n",
       "      <td>IGFR1_HUMAN</td>\n",
       "    </tr>\n",
       "    <tr>\n",
       "      <th>78350</th>\n",
       "      <td>IGFR1_HUMAN</td>\n",
       "      <td>IGFL2_HUMAN</td>\n",
       "    </tr>\n",
       "    <tr>\n",
       "      <th>78351</th>\n",
       "      <td>IGFR1_HUMAN</td>\n",
       "      <td>IGFL3_HUMAN</td>\n",
       "    </tr>\n",
       "    <tr>\n",
       "      <th>78352</th>\n",
       "      <td>DAND5_HUMAN</td>\n",
       "      <td>NODAL_HUMAN</td>\n",
       "    </tr>\n",
       "  </tbody>\n",
       "</table>\n",
       "<p>78353 rows × 2 columns</p>\n",
       "</div>"
      ],
      "text/plain": [
       "         Protein A    Protein B\n",
       "0      KAL1L_HUMAN   OPTN_HUMAN\n",
       "1       OPTN_HUMAN  GNAS3_HUMAN\n",
       "2       OPTN_HUMAN   ALEX_HUMAN\n",
       "3       OPTN_HUMAN  SLMAP_HUMAN\n",
       "4       OPTN_HUMAN   SLF2_HUMAN\n",
       "...            ...          ...\n",
       "78348  PCDAD_HUMAN  PCDGD_HUMAN\n",
       "78349  IGFL1_HUMAN  IGFR1_HUMAN\n",
       "78350  IGFR1_HUMAN  IGFL2_HUMAN\n",
       "78351  IGFR1_HUMAN  IGFL3_HUMAN\n",
       "78352  DAND5_HUMAN  NODAL_HUMAN\n",
       "\n",
       "[78353 rows x 2 columns]"
      ]
     },
     "execution_count": 7,
     "metadata": {},
     "output_type": "execute_result"
    }
   ],
   "source": [
    "final_ii_interactions_selected"
   ]
  },
  {
   "cell_type": "code",
   "execution_count": 8,
   "metadata": {},
   "outputs": [],
   "source": [
    "with open('iilqlr.pkl', 'wb') as f:\n",
    "    pickle.dump([final_ii_interactions_selected, seq_dict], f)"
   ]
  },
  {
   "cell_type": "code",
   "execution_count": 9,
   "metadata": {},
   "outputs": [
    {
     "data": {
      "text/html": [
       "<div>\n",
       "<style scoped>\n",
       "    .dataframe tbody tr th:only-of-type {\n",
       "        vertical-align: middle;\n",
       "    }\n",
       "\n",
       "    .dataframe tbody tr th {\n",
       "        vertical-align: top;\n",
       "    }\n",
       "\n",
       "    .dataframe thead th {\n",
       "        text-align: right;\n",
       "    }\n",
       "</style>\n",
       "<table border=\"1\" class=\"dataframe\">\n",
       "  <thead>\n",
       "    <tr style=\"text-align: right;\">\n",
       "      <th></th>\n",
       "      <th>source</th>\n",
       "      <th>target</th>\n",
       "    </tr>\n",
       "  </thead>\n",
       "  <tbody>\n",
       "    <tr>\n",
       "      <th>0</th>\n",
       "      <td>KAL1L_HUMAN</td>\n",
       "      <td>OPTN_HUMAN</td>\n",
       "    </tr>\n",
       "    <tr>\n",
       "      <th>1</th>\n",
       "      <td>OPTN_HUMAN</td>\n",
       "      <td>IKKB_HUMAN</td>\n",
       "    </tr>\n",
       "    <tr>\n",
       "      <th>2</th>\n",
       "      <td>OPTN_HUMAN</td>\n",
       "      <td>QCR8_HUMAN</td>\n",
       "    </tr>\n",
       "    <tr>\n",
       "      <th>3</th>\n",
       "      <td>OPTN_HUMAN</td>\n",
       "      <td>UBP2_HUMAN</td>\n",
       "    </tr>\n",
       "    <tr>\n",
       "      <th>4</th>\n",
       "      <td>OPTN_HUMAN</td>\n",
       "      <td>GBRAP_HUMAN</td>\n",
       "    </tr>\n",
       "    <tr>\n",
       "      <th>...</th>\n",
       "      <td>...</td>\n",
       "      <td>...</td>\n",
       "    </tr>\n",
       "    <tr>\n",
       "      <th>368207</th>\n",
       "      <td>IGFL1_HUMAN</td>\n",
       "      <td>IGFR1_HUMAN</td>\n",
       "    </tr>\n",
       "    <tr>\n",
       "      <th>368208</th>\n",
       "      <td>IGFR1_HUMAN</td>\n",
       "      <td>IGFL2_HUMAN</td>\n",
       "    </tr>\n",
       "    <tr>\n",
       "      <th>368209</th>\n",
       "      <td>IGFR1_HUMAN</td>\n",
       "      <td>IGFL3_HUMAN</td>\n",
       "    </tr>\n",
       "    <tr>\n",
       "      <th>368210</th>\n",
       "      <td>DAND5_HUMAN</td>\n",
       "      <td>NODAL_HUMAN</td>\n",
       "    </tr>\n",
       "    <tr>\n",
       "      <th>368211</th>\n",
       "      <td>LRC4C_HUMAN</td>\n",
       "      <td>NTNG1_HUMAN</td>\n",
       "    </tr>\n",
       "  </tbody>\n",
       "</table>\n",
       "<p>368212 rows × 2 columns</p>\n",
       "</div>"
      ],
      "text/plain": [
       "             source       target\n",
       "0       KAL1L_HUMAN   OPTN_HUMAN\n",
       "1        OPTN_HUMAN   IKKB_HUMAN\n",
       "2        OPTN_HUMAN   QCR8_HUMAN\n",
       "3        OPTN_HUMAN   UBP2_HUMAN\n",
       "4        OPTN_HUMAN  GBRAP_HUMAN\n",
       "...             ...          ...\n",
       "368207  IGFL1_HUMAN  IGFR1_HUMAN\n",
       "368208  IGFR1_HUMAN  IGFL2_HUMAN\n",
       "368209  IGFR1_HUMAN  IGFL3_HUMAN\n",
       "368210  DAND5_HUMAN  NODAL_HUMAN\n",
       "368211  LRC4C_HUMAN  NTNG1_HUMAN\n",
       "\n",
       "[368212 rows x 2 columns]"
      ]
     },
     "execution_count": 9,
     "metadata": {},
     "output_type": "execute_result"
    }
   ],
   "source": [
    "ii_interactions"
   ]
  },
  {
   "cell_type": "code",
   "execution_count": null,
   "metadata": {},
   "outputs": [],
   "source": []
  }
 ],
 "metadata": {
  "kernelspec": {
   "display_name": "Python 3 (ipykernel)",
   "language": "python",
   "name": "python3"
  },
  "language_info": {
   "codemirror_mode": {
    "name": "ipython",
    "version": 3
   },
   "file_extension": ".py",
   "mimetype": "text/x-python",
   "name": "python",
   "nbconvert_exporter": "python",
   "pygments_lexer": "ipython3",
   "version": "3.8.5"
  }
 },
 "nbformat": 4,
 "nbformat_minor": 2
}
