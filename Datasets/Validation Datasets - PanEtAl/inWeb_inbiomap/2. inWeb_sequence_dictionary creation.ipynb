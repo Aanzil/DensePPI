{
 "cells": [
  {
   "cell_type": "code",
   "execution_count": 1,
   "metadata": {},
   "outputs": [],
   "source": [
    "from pyfaidx import Fasta\n",
    "import pandas as pd\n",
    "import json\n",
    "import pickle\n",
    "import numpy as np"
   ]
  },
  {
   "cell_type": "code",
   "execution_count": 2,
   "metadata": {},
   "outputs": [],
   "source": [
    "def extract_id1(header):\n",
    "    return header.split('|')[1]\n",
    "def extract_id2(header):\n",
    "    return header.split('|')[2]\n",
    "\n",
    "#    Extract the .gz file from the following link:\n",
    "#https://ftp.uniprot.org/pub/databases/uniprot/current_release/knowledgebase/complete/uniprot_sprot.fasta.gz\n",
    "#https://www.uniprot.org/downloads\n",
    "#https://stackoverflow.com/questions/52569622/protein-sequence-from-uniprot-protein-id-python\n",
    "\n",
    "sequences1 = Fasta('uniprot_sprot.fasta', key_function=extract_id1)\n",
    "sequences2 = Fasta('uniprot_sprot.fasta', key_function=extract_id2)"
   ]
  },
  {
   "cell_type": "code",
   "execution_count": 3,
   "metadata": {},
   "outputs": [],
   "source": [
    "with open('inWeb_inbiomap_hq.pkl', 'rb') as f:\n",
    "    iihq_interactions = pickle.load(f)\n",
    "    \n",
    "with open('inWeb_inbiomap_lq.pkl', 'rb') as f:\n",
    "    iilq_interactions = pickle.load(f)"
   ]
  },
  {
   "cell_type": "code",
   "execution_count": 4,
   "metadata": {},
   "outputs": [
    {
     "data": {
      "text/html": [
       "<div>\n",
       "<style scoped>\n",
       "    .dataframe tbody tr th:only-of-type {\n",
       "        vertical-align: middle;\n",
       "    }\n",
       "\n",
       "    .dataframe tbody tr th {\n",
       "        vertical-align: top;\n",
       "    }\n",
       "\n",
       "    .dataframe thead th {\n",
       "        text-align: right;\n",
       "    }\n",
       "</style>\n",
       "<table border=\"1\" class=\"dataframe\">\n",
       "  <thead>\n",
       "    <tr style=\"text-align: right;\">\n",
       "      <th></th>\n",
       "      <th>Protein_1</th>\n",
       "      <th>Protein_2</th>\n",
       "    </tr>\n",
       "  </thead>\n",
       "  <tbody>\n",
       "    <tr>\n",
       "      <th>11</th>\n",
       "      <td>IFT56_HUMAN</td>\n",
       "      <td>KIF3C_HUMAN</td>\n",
       "    </tr>\n",
       "    <tr>\n",
       "      <th>13</th>\n",
       "      <td>IFT56_HUMAN</td>\n",
       "      <td>KIF3B_HUMAN</td>\n",
       "    </tr>\n",
       "    <tr>\n",
       "      <th>19</th>\n",
       "      <td>IFT56_HUMAN</td>\n",
       "      <td>DYL1_HUMAN</td>\n",
       "    </tr>\n",
       "    <tr>\n",
       "      <th>20</th>\n",
       "      <td>IFT56_HUMAN</td>\n",
       "      <td>IFT88_HUMAN</td>\n",
       "    </tr>\n",
       "    <tr>\n",
       "      <th>22</th>\n",
       "      <td>IFT56_HUMAN</td>\n",
       "      <td>TT21B_HUMAN</td>\n",
       "    </tr>\n",
       "    <tr>\n",
       "      <th>...</th>\n",
       "      <td>...</td>\n",
       "      <td>...</td>\n",
       "    </tr>\n",
       "    <tr>\n",
       "      <th>625615</th>\n",
       "      <td>HS3S4_HUMAN</td>\n",
       "      <td>HS3SA_HUMAN</td>\n",
       "    </tr>\n",
       "    <tr>\n",
       "      <th>625616</th>\n",
       "      <td>HS3SB_HUMAN</td>\n",
       "      <td>HS3SA_HUMAN</td>\n",
       "    </tr>\n",
       "    <tr>\n",
       "      <th>625619</th>\n",
       "      <td>RT18B_HUMAN</td>\n",
       "      <td>RM42_HUMAN</td>\n",
       "    </tr>\n",
       "    <tr>\n",
       "      <th>625626</th>\n",
       "      <td>SAR1B_HUMAN</td>\n",
       "      <td>S23IP_HUMAN</td>\n",
       "    </tr>\n",
       "    <tr>\n",
       "      <th>625634</th>\n",
       "      <td>NEMO_HUMAN</td>\n",
       "      <td>LY96_HUMAN</td>\n",
       "    </tr>\n",
       "  </tbody>\n",
       "</table>\n",
       "<p>166033 rows × 2 columns</p>\n",
       "</div>"
      ],
      "text/plain": [
       "          Protein_1    Protein_2\n",
       "11      IFT56_HUMAN  KIF3C_HUMAN\n",
       "13      IFT56_HUMAN  KIF3B_HUMAN\n",
       "19      IFT56_HUMAN   DYL1_HUMAN\n",
       "20      IFT56_HUMAN  IFT88_HUMAN\n",
       "22      IFT56_HUMAN  TT21B_HUMAN\n",
       "...             ...          ...\n",
       "625615  HS3S4_HUMAN  HS3SA_HUMAN\n",
       "625616  HS3SB_HUMAN  HS3SA_HUMAN\n",
       "625619  RT18B_HUMAN   RM42_HUMAN\n",
       "625626  SAR1B_HUMAN  S23IP_HUMAN\n",
       "625634   NEMO_HUMAN   LY96_HUMAN\n",
       "\n",
       "[166033 rows x 2 columns]"
      ]
     },
     "execution_count": 4,
     "metadata": {},
     "output_type": "execute_result"
    }
   ],
   "source": [
    "iihq_interactions[['Protein_1', 'Protein_2']]"
   ]
  },
  {
   "cell_type": "code",
   "execution_count": 5,
   "metadata": {},
   "outputs": [
    {
     "data": {
      "text/plain": [
       "17653"
      ]
     },
     "execution_count": 5,
     "metadata": {},
     "output_type": "execute_result"
    }
   ],
   "source": [
    "len(set(iihq_interactions.Protein_1) | set(iihq_interactions.Protein_2) | set(iilq_interactions.Protein_1) | set(iilq_interactions.Protein_2))"
   ]
  },
  {
   "cell_type": "code",
   "execution_count": 6,
   "metadata": {},
   "outputs": [],
   "source": [
    "ii_proteins = list(set(iihq_interactions.Protein_1) | set(iihq_interactions.Protein_2) | set(iilq_interactions.Protein_1) | set(iilq_interactions.Protein_2))"
   ]
  },
  {
   "cell_type": "code",
   "execution_count": 7,
   "metadata": {},
   "outputs": [
    {
     "data": {
      "text/plain": [
       "'MAAPSLLNWRRVSSFTGPVPRARHGHRAVAIRELMIIFGGGNEGIADELHVYNTATNQWFLPAVRGDIPPGCAAHGFVCDGTRILVFGGMVEYGRYSNELYELQASRWLWKKVKPHPPPSGLPPCPRLGHSFSLYGNKCYLFGGLANESEDSNNNVPRYLNDFYELELQHGSGVVGWSIPVTKGVVPSPRESHTAVIYCKKDSGSPKMYVFGGMCGARLDDLWQLDLETMSWSKPETKGTVPLPRSLHTASVIGNKMYIFGGWVPHKGENTETSPHDCEWRCTSSFSYLNLDTTEWTTLVSDSQEDKKNSRPRPRAGHCAVAIGTRLYFWSGRDGYKKALNSQVCCKDLWYLDTEKPPAPSQVQLIKATTNSFHVKWDEVSTVEGYLLQLSTDLPYQAASSDSSAAPNMQGVRMDPHRQGSNNIVPNSINDTINSTKTEQPATKETSMKNKPDFKALTDSNAILYPSLASNASNHNSHVVDMLRKNEGPHTSANVGVLSSCLDVRTVIPETSVSSTVSSTQTMVTQQTIKTESSSTNGAVVKDETSLTTFSTKSEVDETYALPATKISRVETHATATPFSKETPSNPVATVKAGERQWCDVGIFKNNTALVSQFYLLPKGKQSISKVGNADVPDYSLLKKQDLVPGTGYRFRVAAINGCGIGPFSKISEFKTCIPGFPGAPSAVRISKNVEGIHLSWEPPTSPSGNILEYSAYLAIRTAQIQDNPSQLVFMRIYCGLKTSCIVTAGQLANAHIDYTSRPAIVFRISAKNEKGYGPATQVRWLQGNNKKAPLN'"
      ]
     },
     "execution_count": 7,
     "metadata": {},
     "output_type": "execute_result"
    }
   ],
   "source": [
    "str(sequences2[ii_proteins[0]])"
   ]
  },
  {
   "cell_type": "code",
   "execution_count": 8,
   "metadata": {},
   "outputs": [],
   "source": [
    "inweb_dict = {}\n",
    "not_found_seq = []\n",
    "for protid in ii_proteins:\n",
    "    if(protid in sequences1):\n",
    "        inweb_dict[protid] = str(sequences1[protid])\n",
    "    elif(protid in sequences2):\n",
    "        inweb_dict[protid] = str(sequences2[protid])\n",
    "    else:\n",
    "        not_found_seq.append(protid)"
   ]
  },
  {
   "cell_type": "code",
   "execution_count": 9,
   "metadata": {},
   "outputs": [
    {
     "data": {
      "text/plain": [
       "663"
      ]
     },
     "execution_count": 9,
     "metadata": {},
     "output_type": "execute_result"
    }
   ],
   "source": [
    "len(not_found_seq)"
   ]
  },
  {
   "cell_type": "code",
   "execution_count": 10,
   "metadata": {},
   "outputs": [
    {
     "data": {
      "text/plain": [
       "16990"
      ]
     },
     "execution_count": 10,
     "metadata": {},
     "output_type": "execute_result"
    }
   ],
   "source": [
    "len(inweb_dict)"
   ]
  },
  {
   "cell_type": "code",
   "execution_count": 11,
   "metadata": {},
   "outputs": [],
   "source": [
    "with open(\"ii_sequences.json\", \"w\") as outfile:\n",
    "    json.dump(inweb_dict, outfile)"
   ]
  },
  {
   "cell_type": "code",
   "execution_count": 12,
   "metadata": {},
   "outputs": [],
   "source": [
    "f = open('ii_sequences.json')\n",
    "d = json.load(f)"
   ]
  },
  {
   "cell_type": "code",
   "execution_count": 13,
   "metadata": {},
   "outputs": [
    {
     "data": {
      "text/plain": [
       "16990"
      ]
     },
     "execution_count": 13,
     "metadata": {},
     "output_type": "execute_result"
    }
   ],
   "source": [
    "len(d)"
   ]
  },
  {
   "cell_type": "code",
   "execution_count": null,
   "metadata": {},
   "outputs": [],
   "source": []
  }
 ],
 "metadata": {
  "kernelspec": {
   "display_name": "Python 3 (ipykernel)",
   "language": "python",
   "name": "python3"
  },
  "language_info": {
   "codemirror_mode": {
    "name": "ipython",
    "version": 3
   },
   "file_extension": ".py",
   "mimetype": "text/x-python",
   "name": "python",
   "nbconvert_exporter": "python",
   "pygments_lexer": "ipython3",
   "version": "3.8.5"
  }
 },
 "nbformat": 4,
 "nbformat_minor": 2
}
