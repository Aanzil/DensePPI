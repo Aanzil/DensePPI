{
 "cells": [
  {
   "cell_type": "code",
   "execution_count": 1,
   "metadata": {},
   "outputs": [],
   "source": [
    "# HQ, Confidence value = 1\n",
    "# LQ, Confidence value = REST\n",
    "import pandas as pd\n",
    "import re"
   ]
  },
  {
   "cell_type": "code",
   "execution_count": 2,
   "metadata": {},
   "outputs": [],
   "source": [
    "df = pd.read_csv(\"core.psimitab\", sep = \"\\t\", header = None)"
   ]
  },
  {
   "cell_type": "code",
   "execution_count": 3,
   "metadata": {},
   "outputs": [],
   "source": [
    "p1 = []\n",
    "p2 = []\n",
    "score = []\n",
    "for i in range(len(df)):\n",
    "    p1.append(re.search('uniprotkb:.+_HUMAN', df.loc[i][2]).group().split(':')[1])\n",
    "    p2.append(re.search('uniprotkb:.+_HUMAN', df.loc[i][3]).group().split(':')[1])\n",
    "    score.append(df.loc[i][14].split(\"|\")[0])"
   ]
  },
  {
   "cell_type": "code",
   "execution_count": 4,
   "metadata": {},
   "outputs": [
    {
     "data": {
      "text/html": [
       "<div>\n",
       "<style scoped>\n",
       "    .dataframe tbody tr th:only-of-type {\n",
       "        vertical-align: middle;\n",
       "    }\n",
       "\n",
       "    .dataframe tbody tr th {\n",
       "        vertical-align: top;\n",
       "    }\n",
       "\n",
       "    .dataframe thead th {\n",
       "        text-align: right;\n",
       "    }\n",
       "</style>\n",
       "<table border=\"1\" class=\"dataframe\">\n",
       "  <thead>\n",
       "    <tr style=\"text-align: right;\">\n",
       "      <th></th>\n",
       "      <th>Protein_1</th>\n",
       "      <th>Protein_2</th>\n",
       "      <th>Score</th>\n",
       "    </tr>\n",
       "  </thead>\n",
       "  <tbody>\n",
       "    <tr>\n",
       "      <th>0</th>\n",
       "      <td>TRBC2_HUMAN</td>\n",
       "      <td>1A02_HUMAN</td>\n",
       "      <td>0.417</td>\n",
       "    </tr>\n",
       "    <tr>\n",
       "      <th>1</th>\n",
       "      <td>KAL1L_HUMAN</td>\n",
       "      <td>OPTN_HUMAN</td>\n",
       "      <td>0.155</td>\n",
       "    </tr>\n",
       "    <tr>\n",
       "      <th>2</th>\n",
       "      <td>S12A8_HUMAN</td>\n",
       "      <td>CDK2_HUMAN</td>\n",
       "      <td>0.156</td>\n",
       "    </tr>\n",
       "    <tr>\n",
       "      <th>3</th>\n",
       "      <td>S12A8_HUMAN</td>\n",
       "      <td>CDK3_HUMAN</td>\n",
       "      <td>0.157</td>\n",
       "    </tr>\n",
       "    <tr>\n",
       "      <th>4</th>\n",
       "      <td>RBM47_HUMAN</td>\n",
       "      <td>UBC_HUMAN</td>\n",
       "      <td>0.144</td>\n",
       "    </tr>\n",
       "    <tr>\n",
       "      <th>...</th>\n",
       "      <td>...</td>\n",
       "      <td>...</td>\n",
       "      <td>...</td>\n",
       "    </tr>\n",
       "    <tr>\n",
       "      <th>625636</th>\n",
       "      <td>S4A7_HUMAN</td>\n",
       "      <td>USH1C_HUMAN</td>\n",
       "      <td>0.397</td>\n",
       "    </tr>\n",
       "    <tr>\n",
       "      <th>625637</th>\n",
       "      <td>ZFP37_HUMAN</td>\n",
       "      <td>Z780B_HUMAN</td>\n",
       "      <td>0.148</td>\n",
       "    </tr>\n",
       "    <tr>\n",
       "      <th>625638</th>\n",
       "      <td>ZFP37_HUMAN</td>\n",
       "      <td>NS1BP_HUMAN</td>\n",
       "      <td>0.146</td>\n",
       "    </tr>\n",
       "    <tr>\n",
       "      <th>625639</th>\n",
       "      <td>NCOA3_HUMAN</td>\n",
       "      <td>MORC2_HUMAN</td>\n",
       "      <td>0.156</td>\n",
       "    </tr>\n",
       "    <tr>\n",
       "      <th>625640</th>\n",
       "      <td>Z780B_HUMAN</td>\n",
       "      <td>NS1BP_HUMAN</td>\n",
       "      <td>0.146</td>\n",
       "    </tr>\n",
       "  </tbody>\n",
       "</table>\n",
       "<p>625641 rows × 3 columns</p>\n",
       "</div>"
      ],
      "text/plain": [
       "          Protein_1    Protein_2  Score\n",
       "0       TRBC2_HUMAN   1A02_HUMAN  0.417\n",
       "1       KAL1L_HUMAN   OPTN_HUMAN  0.155\n",
       "2       S12A8_HUMAN   CDK2_HUMAN  0.156\n",
       "3       S12A8_HUMAN   CDK3_HUMAN  0.157\n",
       "4       RBM47_HUMAN    UBC_HUMAN  0.144\n",
       "...             ...          ...    ...\n",
       "625636   S4A7_HUMAN  USH1C_HUMAN  0.397\n",
       "625637  ZFP37_HUMAN  Z780B_HUMAN  0.148\n",
       "625638  ZFP37_HUMAN  NS1BP_HUMAN  0.146\n",
       "625639  NCOA3_HUMAN  MORC2_HUMAN  0.156\n",
       "625640  Z780B_HUMAN  NS1BP_HUMAN  0.146\n",
       "\n",
       "[625641 rows x 3 columns]"
      ]
     },
     "execution_count": 4,
     "metadata": {},
     "output_type": "execute_result"
    }
   ],
   "source": [
    "inWeb_inbiomap = {'Protein_1' : p1,\n",
    "                  'Protein_2' : p2, \n",
    "                  'Score' : score}\n",
    "inWeb_inbiomap = pd.DataFrame(inWeb_inbiomap)\n",
    "inWeb_inbiomap"
   ]
  },
  {
   "cell_type": "code",
   "execution_count": 5,
   "metadata": {},
   "outputs": [],
   "source": [
    "inWeb_inbiomap_hq = inWeb_inbiomap.loc[inWeb_inbiomap['Score'] == '1']\n",
    "inWeb_inbiomap_lq = inWeb_inbiomap.loc[inWeb_inbiomap['Score'] != '1']"
   ]
  },
  {
   "cell_type": "code",
   "execution_count": 6,
   "metadata": {},
   "outputs": [
    {
     "data": {
      "text/plain": [
       "625641"
      ]
     },
     "execution_count": 6,
     "metadata": {},
     "output_type": "execute_result"
    }
   ],
   "source": [
    "len(inWeb_inbiomap_hq) + len(inWeb_inbiomap_lq)"
   ]
  },
  {
   "cell_type": "code",
   "execution_count": 7,
   "metadata": {},
   "outputs": [
    {
     "data": {
      "text/plain": [
       "166033"
      ]
     },
     "execution_count": 7,
     "metadata": {},
     "output_type": "execute_result"
    }
   ],
   "source": [
    "len(inWeb_inbiomap_hq)"
   ]
  },
  {
   "cell_type": "code",
   "execution_count": 8,
   "metadata": {},
   "outputs": [
    {
     "data": {
      "text/plain": [
       "459608"
      ]
     },
     "execution_count": 8,
     "metadata": {},
     "output_type": "execute_result"
    }
   ],
   "source": [
    "len(inWeb_inbiomap_lq)"
   ]
  },
  {
   "cell_type": "code",
   "execution_count": 9,
   "metadata": {},
   "outputs": [],
   "source": [
    "inWeb_inbiomap_hq.to_pickle('inWeb_inbiomap_hq.pkl')\n",
    "inWeb_inbiomap_lq.to_pickle('inWeb_inbiomap_lq.pkl')"
   ]
  },
  {
   "cell_type": "code",
   "execution_count": null,
   "metadata": {},
   "outputs": [],
   "source": []
  }
 ],
 "metadata": {
  "kernelspec": {
   "display_name": "Python 3 (ipykernel)",
   "language": "python",
   "name": "python3"
  },
  "language_info": {
   "codemirror_mode": {
    "name": "ipython",
    "version": 3
   },
   "file_extension": ".py",
   "mimetype": "text/x-python",
   "name": "python",
   "nbconvert_exporter": "python",
   "pygments_lexer": "ipython3",
   "version": "3.8.5"
  }
 },
 "nbformat": 4,
 "nbformat_minor": 2
}
