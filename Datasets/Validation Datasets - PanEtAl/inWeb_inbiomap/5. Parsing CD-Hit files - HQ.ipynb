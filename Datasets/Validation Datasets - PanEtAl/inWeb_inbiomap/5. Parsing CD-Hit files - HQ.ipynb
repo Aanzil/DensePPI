{
 "cells": [
  {
   "cell_type": "code",
   "execution_count": 4,
   "metadata": {},
   "outputs": [],
   "source": [
    "import re\n",
    "import pandas as pd\n",
    "import pickle"
   ]
  },
  {
   "cell_type": "code",
   "execution_count": 5,
   "metadata": {},
   "outputs": [],
   "source": [
    "# HQ\n",
    "file1 = open('1645601391.result/1645601391.fas.1.clstr.sorted', 'r')\n",
    "Lines = file1.readlines()"
   ]
  },
  {
   "cell_type": "code",
   "execution_count": 6,
   "metadata": {},
   "outputs": [],
   "source": [
    "LineIndex = 0\n",
    "cd_hit_dict = {}\n",
    "while LineIndex < len(Lines):\n",
    "    FF = re.search(r'^(>Cluster.*)', Lines[LineIndex])\n",
    "    if FF != None:\n",
    "        LineIndex += 1\n",
    "        li = []\n",
    "        dkey = ''\n",
    "        while LineIndex < len(Lines):\n",
    "            KK = re.search(r'^(.*\\*)', Lines[LineIndex])\n",
    "            if KK != None:\n",
    "                dkey = KK.group()\n",
    "                dkey = re.sub(r'.*>','',dkey)\n",
    "                dkey = re.sub(r'\\.\\.\\. \\*','',dkey)\n",
    "            else:\n",
    "                KK = re.search(r'^(.*\\.\\.\\.)', Lines[LineIndex])\n",
    "                dval = KK.group()\n",
    "                dval = re.sub(r'.*>','',dval)\n",
    "                dval = re.sub(r'\\.\\.\\.','',dval)\n",
    "                li.append(dval)\n",
    "            if(LineIndex == len(Lines)-1):\n",
    "                break\n",
    "            FF = re.search(r'^(>Cluster.*)', Lines[LineIndex + 1])\n",
    "            if (FF == None):\n",
    "                LineIndex += 1\n",
    "            else:\n",
    "                break\n",
    "        cd_hit_dict.update({dkey: li})\n",
    "    LineIndex += 1"
   ]
  },
  {
   "cell_type": "code",
   "execution_count": 7,
   "metadata": {},
   "outputs": [
    {
     "data": {
      "text/plain": [
       "1804"
      ]
     },
     "execution_count": 7,
     "metadata": {},
     "output_type": "execute_result"
    }
   ],
   "source": [
    "iihq_li = []\n",
    "for k in cd_hit_dict.keys():\n",
    "    if(k.endswith('_HUMAN')):\n",
    "        if(not(cd_hit_dict[k])):\n",
    "            iihq_li.append(k)\n",
    "        elif(all(protein.endswith('_HUMAN') for protein in cd_hit_dict[k])):\n",
    "            iihq_li.append(k)\n",
    "            iihq_li.extend(cd_hit_dict[k])\n",
    "len(iihq_li)"
   ]
  },
  {
   "cell_type": "code",
   "execution_count": 8,
   "metadata": {},
   "outputs": [],
   "source": [
    "with open('iihqgr_int_and_dict.pkl', 'rb') as f:\n",
    "    ii_interactions, seq_dict = pickle.load(f)\n",
    "\n",
    "ii_selected = {x : seq_dict[x] for x in iihq_li}"
   ]
  },
  {
   "cell_type": "code",
   "execution_count": 9,
   "metadata": {},
   "outputs": [],
   "source": [
    "p1 = []\n",
    "p2 = []\n",
    "for i in range(len(ii_interactions)):\n",
    "    if ((ii_interactions.loc[i][0] in ii_selected) or (ii_interactions.loc[i][1] in ii_selected)):\n",
    "        p1.append(ii_interactions.loc[i][0])\n",
    "        p2.append(ii_interactions.loc[i][1])\n",
    "\n",
    "final_ii_interactions_selected = pd.DataFrame({'Protein A': p1, 'Protein B': p2})"
   ]
  },
  {
   "cell_type": "code",
   "execution_count": 10,
   "metadata": {},
   "outputs": [
    {
     "data": {
      "text/html": [
       "<div>\n",
       "<style scoped>\n",
       "    .dataframe tbody tr th:only-of-type {\n",
       "        vertical-align: middle;\n",
       "    }\n",
       "\n",
       "    .dataframe tbody tr th {\n",
       "        vertical-align: top;\n",
       "    }\n",
       "\n",
       "    .dataframe thead th {\n",
       "        text-align: right;\n",
       "    }\n",
       "</style>\n",
       "<table border=\"1\" class=\"dataframe\">\n",
       "  <thead>\n",
       "    <tr style=\"text-align: right;\">\n",
       "      <th></th>\n",
       "      <th>Protein A</th>\n",
       "      <th>Protein B</th>\n",
       "    </tr>\n",
       "  </thead>\n",
       "  <tbody>\n",
       "    <tr>\n",
       "      <th>0</th>\n",
       "      <td>IFT56_HUMAN</td>\n",
       "      <td>KIF3C_HUMAN</td>\n",
       "    </tr>\n",
       "    <tr>\n",
       "      <th>1</th>\n",
       "      <td>IFT56_HUMAN</td>\n",
       "      <td>KIF3B_HUMAN</td>\n",
       "    </tr>\n",
       "    <tr>\n",
       "      <th>2</th>\n",
       "      <td>IFT56_HUMAN</td>\n",
       "      <td>DYL1_HUMAN</td>\n",
       "    </tr>\n",
       "    <tr>\n",
       "      <th>3</th>\n",
       "      <td>IFT56_HUMAN</td>\n",
       "      <td>IFT88_HUMAN</td>\n",
       "    </tr>\n",
       "    <tr>\n",
       "      <th>4</th>\n",
       "      <td>IFT56_HUMAN</td>\n",
       "      <td>IFT20_HUMAN</td>\n",
       "    </tr>\n",
       "    <tr>\n",
       "      <th>...</th>\n",
       "      <td>...</td>\n",
       "      <td>...</td>\n",
       "    </tr>\n",
       "    <tr>\n",
       "      <th>32783</th>\n",
       "      <td>PANX2_HUMAN</td>\n",
       "      <td>PANX1_HUMAN</td>\n",
       "    </tr>\n",
       "    <tr>\n",
       "      <th>32784</th>\n",
       "      <td>MMAD_HUMAN</td>\n",
       "      <td>MMAC_HUMAN</td>\n",
       "    </tr>\n",
       "    <tr>\n",
       "      <th>32785</th>\n",
       "      <td>ILRL2_HUMAN</td>\n",
       "      <td>IL36B_HUMAN</td>\n",
       "    </tr>\n",
       "    <tr>\n",
       "      <th>32786</th>\n",
       "      <td>ILRL2_HUMAN</td>\n",
       "      <td>IL36G_HUMAN</td>\n",
       "    </tr>\n",
       "    <tr>\n",
       "      <th>32787</th>\n",
       "      <td>ILRL2_HUMAN</td>\n",
       "      <td>IL36A_HUMAN</td>\n",
       "    </tr>\n",
       "  </tbody>\n",
       "</table>\n",
       "<p>32788 rows × 2 columns</p>\n",
       "</div>"
      ],
      "text/plain": [
       "         Protein A    Protein B\n",
       "0      IFT56_HUMAN  KIF3C_HUMAN\n",
       "1      IFT56_HUMAN  KIF3B_HUMAN\n",
       "2      IFT56_HUMAN   DYL1_HUMAN\n",
       "3      IFT56_HUMAN  IFT88_HUMAN\n",
       "4      IFT56_HUMAN  IFT20_HUMAN\n",
       "...            ...          ...\n",
       "32783  PANX2_HUMAN  PANX1_HUMAN\n",
       "32784   MMAD_HUMAN   MMAC_HUMAN\n",
       "32785  ILRL2_HUMAN  IL36B_HUMAN\n",
       "32786  ILRL2_HUMAN  IL36G_HUMAN\n",
       "32787  ILRL2_HUMAN  IL36A_HUMAN\n",
       "\n",
       "[32788 rows x 2 columns]"
      ]
     },
     "execution_count": 10,
     "metadata": {},
     "output_type": "execute_result"
    }
   ],
   "source": [
    "final_ii_interactions_selected"
   ]
  },
  {
   "cell_type": "code",
   "execution_count": 11,
   "metadata": {},
   "outputs": [],
   "source": [
    "with open('iihqlr.pkl', 'wb') as f:\n",
    "    pickle.dump([final_ii_interactions_selected, seq_dict], f)"
   ]
  },
  {
   "cell_type": "code",
   "execution_count": 12,
   "metadata": {},
   "outputs": [
    {
     "data": {
      "text/html": [
       "<div>\n",
       "<style scoped>\n",
       "    .dataframe tbody tr th:only-of-type {\n",
       "        vertical-align: middle;\n",
       "    }\n",
       "\n",
       "    .dataframe tbody tr th {\n",
       "        vertical-align: top;\n",
       "    }\n",
       "\n",
       "    .dataframe thead th {\n",
       "        text-align: right;\n",
       "    }\n",
       "</style>\n",
       "<table border=\"1\" class=\"dataframe\">\n",
       "  <thead>\n",
       "    <tr style=\"text-align: right;\">\n",
       "      <th></th>\n",
       "      <th>source</th>\n",
       "      <th>target</th>\n",
       "    </tr>\n",
       "  </thead>\n",
       "  <tbody>\n",
       "    <tr>\n",
       "      <th>0</th>\n",
       "      <td>IFT56_HUMAN</td>\n",
       "      <td>KIF3C_HUMAN</td>\n",
       "    </tr>\n",
       "    <tr>\n",
       "      <th>1</th>\n",
       "      <td>IFT56_HUMAN</td>\n",
       "      <td>KIF3B_HUMAN</td>\n",
       "    </tr>\n",
       "    <tr>\n",
       "      <th>2</th>\n",
       "      <td>IFT56_HUMAN</td>\n",
       "      <td>DYL1_HUMAN</td>\n",
       "    </tr>\n",
       "    <tr>\n",
       "      <th>3</th>\n",
       "      <td>IFT56_HUMAN</td>\n",
       "      <td>IFT88_HUMAN</td>\n",
       "    </tr>\n",
       "    <tr>\n",
       "      <th>4</th>\n",
       "      <td>IFT56_HUMAN</td>\n",
       "      <td>IFT20_HUMAN</td>\n",
       "    </tr>\n",
       "    <tr>\n",
       "      <th>...</th>\n",
       "      <td>...</td>\n",
       "      <td>...</td>\n",
       "    </tr>\n",
       "    <tr>\n",
       "      <th>125431</th>\n",
       "      <td>MLXIP_HUMAN</td>\n",
       "      <td>MLX_HUMAN</td>\n",
       "    </tr>\n",
       "    <tr>\n",
       "      <th>125432</th>\n",
       "      <td>ILRL2_HUMAN</td>\n",
       "      <td>IL36B_HUMAN</td>\n",
       "    </tr>\n",
       "    <tr>\n",
       "      <th>125433</th>\n",
       "      <td>ILRL2_HUMAN</td>\n",
       "      <td>IL36G_HUMAN</td>\n",
       "    </tr>\n",
       "    <tr>\n",
       "      <th>125434</th>\n",
       "      <td>ILRL2_HUMAN</td>\n",
       "      <td>IL36A_HUMAN</td>\n",
       "    </tr>\n",
       "    <tr>\n",
       "      <th>125435</th>\n",
       "      <td>TNF18_HUMAN</td>\n",
       "      <td>TNR18_HUMAN</td>\n",
       "    </tr>\n",
       "  </tbody>\n",
       "</table>\n",
       "<p>125436 rows × 2 columns</p>\n",
       "</div>"
      ],
      "text/plain": [
       "             source       target\n",
       "0       IFT56_HUMAN  KIF3C_HUMAN\n",
       "1       IFT56_HUMAN  KIF3B_HUMAN\n",
       "2       IFT56_HUMAN   DYL1_HUMAN\n",
       "3       IFT56_HUMAN  IFT88_HUMAN\n",
       "4       IFT56_HUMAN  IFT20_HUMAN\n",
       "...             ...          ...\n",
       "125431  MLXIP_HUMAN    MLX_HUMAN\n",
       "125432  ILRL2_HUMAN  IL36B_HUMAN\n",
       "125433  ILRL2_HUMAN  IL36G_HUMAN\n",
       "125434  ILRL2_HUMAN  IL36A_HUMAN\n",
       "125435  TNF18_HUMAN  TNR18_HUMAN\n",
       "\n",
       "[125436 rows x 2 columns]"
      ]
     },
     "execution_count": 12,
     "metadata": {},
     "output_type": "execute_result"
    }
   ],
   "source": [
    "ii_interactions"
   ]
  },
  {
   "cell_type": "code",
   "execution_count": null,
   "metadata": {},
   "outputs": [],
   "source": []
  }
 ],
 "metadata": {
  "kernelspec": {
   "display_name": "Python 3 (ipykernel)",
   "language": "python",
   "name": "python3"
  },
  "language_info": {
   "codemirror_mode": {
    "name": "ipython",
    "version": 3
   },
   "file_extension": ".py",
   "mimetype": "text/x-python",
   "name": "python",
   "nbconvert_exporter": "python",
   "pygments_lexer": "ipython3",
   "version": "3.8.5"
  }
 },
 "nbformat": 4,
 "nbformat_minor": 2
}
