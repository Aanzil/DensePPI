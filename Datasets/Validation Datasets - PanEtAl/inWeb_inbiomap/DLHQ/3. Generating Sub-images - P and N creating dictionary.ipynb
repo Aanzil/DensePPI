{
 "cells": [
  {
   "cell_type": "code",
   "execution_count": 1,
   "metadata": {},
   "outputs": [],
   "source": [
    "import pandas as pd\n",
    "import numpy as np\n",
    "import os\n",
    "import matplotlib.pyplot as plt\n",
    "from pathlib import Path\n",
    "from PIL import Image\n",
    "import multiprocessing"
   ]
  },
  {
   "cell_type": "code",
   "execution_count": 2,
   "metadata": {},
   "outputs": [],
   "source": [
    "pimagepath = os.getcwd() + \"/sub/pos_sub/\"\n",
    "os.makedirs(pimagepath, exist_ok=True)"
   ]
  },
  {
   "cell_type": "code",
   "execution_count": 3,
   "metadata": {},
   "outputs": [
    {
     "name": "stdout",
     "output_type": "stream",
     "text": [
      "Total: POS=32788\n"
     ]
    }
   ],
   "source": [
    "POSL=os.listdir(\"{}/positiveLR/\".format(os.getcwd()))\n",
    " \n",
    "print(\"Total: POS={}\".format(len(POSL)))"
   ]
  },
  {
   "cell_type": "code",
   "execution_count": 4,
   "metadata": {},
   "outputs": [],
   "source": [
    "def sliding_window(image, stride, imgSize):\n",
    "    height, width, _ = image.shape\n",
    "    img = []\n",
    "    a1 = list(range(0, height-imgSize+stride, stride))\n",
    "    a2 = list(range(0, width-imgSize+stride, stride))\n",
    "    if (a1[-1]+imgSize != height):\n",
    "        a1[-1] = height-imgSize\n",
    "    if (a2[-1]+imgSize != width):\n",
    "        a2[-1] = width-imgSize\n",
    "    for y in a1:\n",
    "        for x in a2:\n",
    "            im1 = image[y:y+imgSize, x:x+imgSize, :]\n",
    "            img.append(np.array(im1))\n",
    "    return img"
   ]
  },
  {
   "cell_type": "code",
   "execution_count": 5,
   "metadata": {},
   "outputs": [],
   "source": [
    "def handle_one_image(path, sType):\n",
    "    image_data = []\n",
    "    im = Image.open(path)\n",
    "    im = np.array(im)\n",
    "    if (im.shape[0] >= SIZE and im.shape[1] >= SIZE):\n",
    "        img = sliding_window(im, STRIDE, SIZE)\n",
    "        for i in range(len(img)):\n",
    "            if(img[i].shape[2] >=3):\n",
    "                image_data.append(1)\n",
    "        return image_data, sType\n",
    "    else:\n",
    "        # indicate that no images are available\n",
    "        return [], sType"
   ]
  },
  {
   "cell_type": "code",
   "execution_count": 6,
   "metadata": {},
   "outputs": [],
   "source": [
    "SIZE = 128\n",
    "STRIDE = 64\n",
    "pimage_dict = {}\n",
    "nimage_dict = {}\n",
    "psubimage_counter = 0\n",
    "pimage_counter = 0\n",
    "nsubimage_counter = 0\n",
    "nimage_counter = 0"
   ]
  },
  {
   "cell_type": "code",
   "execution_count": 7,
   "metadata": {},
   "outputs": [],
   "source": [
    "def gen_sub_img(posl):\n",
    "    global pimage_dict\n",
    "    global nimage_dict\n",
    "    global psubimage_counter\n",
    "    global pimage_counter\n",
    "    global nsubimage_counter\n",
    "    global nimage_counter\n",
    "    print(\"Creating Sub images and generating dictionary\")\n",
    "    # Create a list of tuples consisting of the file path, and the class\n",
    "    # dictionary info for each of the cl arguments\n",
    "    args = []\n",
    "    for img in posl:\n",
    "        path = os.getcwd() + \"/positiveLR/\" + img\n",
    "        args.append((path, \"PS_\"))\n",
    "            \n",
    "    num_workers = multiprocessing.cpu_count()  \n",
    "\n",
    "    with multiprocessing.Pool(processes = num_workers) as pool:   # or however many processes\n",
    "        image_counter = 0\n",
    "        \n",
    "        # Use multiprocessing to call handle_on_image(pathname, info)\n",
    "        # and return the results in order\n",
    "        for images, sType in pool.starmap(handle_one_image, args):\n",
    "            image_list = []\n",
    "            # Images is a list of returned images.  info is the class_dictionary info that we passed\n",
    "            if(sType == \"PS_\"):\n",
    "                for image in images:\n",
    "                    image_list.append(psubimage_counter)\n",
    "                    psubimage_counter += 1\n",
    "                pimage_dict[pimage_counter] = image_list\n",
    "                pimage_counter += 1\n",
    "            else:\n",
    "                for image in images:\n",
    "                    image_list.append(nsubimage_counter)\n",
    "                    nsubimage_counter += 1\n",
    "                nimage_dict[nimage_counter] = image_list\n",
    "                nimage_counter += 1\n",
    "    print(\"Sliding window process finished\")"
   ]
  },
  {
   "cell_type": "code",
   "execution_count": 8,
   "metadata": {},
   "outputs": [
    {
     "name": "stdout",
     "output_type": "stream",
     "text": [
      "Creating Sub images and generating dictionary\n",
      "Sliding window process finished\n",
      "Sub-image generation finished for data part -> 1\n",
      "Creating Sub images and generating dictionary\n",
      "Sliding window process finished\n",
      "Sub-image generation finished for data part -> 2\n",
      "Creating Sub images and generating dictionary\n",
      "Sliding window process finished\n",
      "Sub-image generation finished for data part -> 3\n",
      "Creating Sub images and generating dictionary\n",
      "Sliding window process finished\n",
      "Sub-image generation finished for data part -> 4\n",
      "Creating Sub images and generating dictionary\n",
      "Sliding window process finished\n",
      "Sub-image generation finished for data part -> 5\n",
      "Creating Sub images and generating dictionary\n",
      "Sliding window process finished\n",
      "Sub-image generation finished for data part -> 6\n",
      "Creating Sub images and generating dictionary\n",
      "Sliding window process finished\n",
      "Sub-image generation finished for data part -> 7\n",
      "Creating Sub images and generating dictionary\n",
      "Sliding window process finished\n",
      "Sub-image generation finished for data part -> 8\n",
      "Creating Sub images and generating dictionary\n",
      "Sliding window process finished\n",
      "Sub-image generation finished for data part -> 9\n",
      "Creating Sub images and generating dictionary\n",
      "Sliding window process finished\n",
      "Sub-image generation finished for data part -> 10\n"
     ]
    }
   ],
   "source": [
    "data_partition = 10\n",
    "divp = int(len(POSL)/data_partition)\n",
    "fromidx = 0\n",
    "toidx = 0\n",
    "for i in range(data_partition):\n",
    "    fromidx, toidx = i*divp, (i+1)*divp\n",
    "    P = POSL[fromidx : toidx]\n",
    "    gen_sub_img(P)\n",
    "    print(\"Sub-image generation finished for data part -> {}\".format(i+1))"
   ]
  },
  {
   "cell_type": "code",
   "execution_count": 9,
   "metadata": {},
   "outputs": [
    {
     "data": {
      "text/plain": [
       "0"
      ]
     },
     "execution_count": 9,
     "metadata": {},
     "output_type": "execute_result"
    }
   ],
   "source": [
    "len(nimage_dict.keys())"
   ]
  },
  {
   "cell_type": "code",
   "execution_count": 10,
   "metadata": {},
   "outputs": [],
   "source": [
    "pli = [len(pimage_dict[k]) for k in pimage_dict.keys()]"
   ]
  },
  {
   "cell_type": "code",
   "execution_count": 11,
   "metadata": {},
   "outputs": [],
   "source": [
    "pli = [len(pimage_dict[k]) for k in pimage_dict.keys() if len(pimage_dict[k]) != 0]"
   ]
  },
  {
   "cell_type": "code",
   "execution_count": 12,
   "metadata": {},
   "outputs": [
    {
     "data": {
      "text/plain": [
       "40.689469696969695"
      ]
     },
     "execution_count": 12,
     "metadata": {},
     "output_type": "execute_result"
    }
   ],
   "source": [
    "np.mean(pli)"
   ]
  },
  {
   "cell_type": "code",
   "execution_count": 13,
   "metadata": {},
   "outputs": [
    {
     "name": "stdout",
     "output_type": "stream",
     "text": [
      "Mean : positive -> 40.689469696969695 ;\n",
      "SD : positive -> 38.84435446704196 ;\n",
      "MAX : positive -> 324 ;\n",
      "MIN : positive -> 1 ;\n"
     ]
    }
   ],
   "source": [
    "print(\"Mean : positive -> {} ;\".format(np.mean(pli)))\n",
    "print(\"SD : positive -> {} ;\".format(np.std(pli)))\n",
    "print(\"MAX : positive -> {} ;\".format(np.max(pli)))\n",
    "print(\"MIN : positive -> {} ;\".format(np.min(pli)))"
   ]
  },
  {
   "cell_type": "code",
   "execution_count": 14,
   "metadata": {},
   "outputs": [],
   "source": [
    "import json\n",
    "with open(\"pimage_dict.json\", \"w\") as outfile:\n",
    "    json.dump(pimage_dict, outfile) "
   ]
  },
  {
   "cell_type": "code",
   "execution_count": null,
   "metadata": {},
   "outputs": [],
   "source": []
  }
 ],
 "metadata": {
  "kernelspec": {
   "display_name": "Python 3 (ipykernel)",
   "language": "python",
   "name": "python3"
  },
  "language_info": {
   "codemirror_mode": {
    "name": "ipython",
    "version": 3
   },
   "file_extension": ".py",
   "mimetype": "text/x-python",
   "name": "python",
   "nbconvert_exporter": "python",
   "pygments_lexer": "ipython3",
   "version": "3.8.5"
  }
 },
 "nbformat": 4,
 "nbformat_minor": 2
}
