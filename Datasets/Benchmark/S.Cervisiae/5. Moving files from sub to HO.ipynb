{
 "cells": [
  {
   "cell_type": "code",
   "execution_count": 32,
   "metadata": {},
   "outputs": [],
   "source": [
    "import os\n",
    "import pickle\n",
    "import json\n",
    "import random\n",
    "import shutil\n",
    "import pickle\n",
    "\n",
    "f = open(\"pimage_dict.json\")\n",
    "p_data = json.load(f)\n",
    "f.close()\n",
    "\n",
    "f = open(\"nimage_dict.json\")\n",
    "n_data = json.load(f)\n",
    "f.close()\n",
    "\n",
    "with open(\"equal_all.pkl\", \"rb\") as input_file:\n",
    "    image_keys_p, image_keys_n, sub_p, sub_n = pickle.load(input_file)"
   ]
  },
  {
   "cell_type": "code",
   "execution_count": 23,
   "metadata": {},
   "outputs": [],
   "source": [
    "test_ratio = 0.1"
   ]
  },
  {
   "cell_type": "code",
   "execution_count": 24,
   "metadata": {},
   "outputs": [],
   "source": [
    "p_ho_idx = random.sample([*p_data], int(test_ratio*len(p_data)))\n",
    "n_ho_idx = random.sample([*n_data], int(test_ratio*len(n_data)))\n",
    "p_tr_idx = [x for x in [*p_data] if x not in p_ho_idx]\n",
    "n_tr_idx = [x for x in [*n_data] if x not in n_ho_idx]"
   ]
  },
  {
   "cell_type": "code",
   "execution_count": 25,
   "metadata": {},
   "outputs": [],
   "source": [
    "pimagepath = os.getcwd() + \"/HO/pos_sub/\"\n",
    "os.makedirs(pimagepath, exist_ok=True)\n",
    "nimagepath = os.getcwd() + \"/HO/neg_sub/\"\n",
    "os.makedirs(nimagepath, exist_ok=True)"
   ]
  },
  {
   "cell_type": "code",
   "execution_count": 26,
   "metadata": {},
   "outputs": [
    {
     "data": {
      "text/plain": [
       "1725"
      ]
     },
     "execution_count": 26,
     "metadata": {},
     "output_type": "execute_result"
    }
   ],
   "source": [
    "len(p_ho_idx)"
   ]
  },
  {
   "cell_type": "code",
   "execution_count": 29,
   "metadata": {},
   "outputs": [],
   "source": [
    "for key in p_ho_idx:\n",
    "    for subimages in p_data[key]:\n",
    "        src = \"sub/pos_sub/PS_\" + str(subimages) + \".png\"\n",
    "        dst = \"HO/pos_sub/PS_\" + str(subimages) + \".png\"\n",
    "        shutil.move(src, dst)"
   ]
  },
  {
   "cell_type": "code",
   "execution_count": 31,
   "metadata": {},
   "outputs": [],
   "source": [
    "for key in n_ho_idx:\n",
    "    for subimages in n_data[key]:\n",
    "        src = \"sub/neg_sub/NS_\" + str(subimages) + \".png\"\n",
    "        dst = \"HO/neg_sub/NS_\" + str(subimages) + \".png\"\n",
    "        shutil.move(src, dst)"
   ]
  },
  {
   "cell_type": "code",
   "execution_count": 33,
   "metadata": {},
   "outputs": [],
   "source": [
    "with open('train_and_HO_idx.pkl', 'wb') as file:\n",
    "    pickle.dump([p_ho_idx, n_ho_idx, p_tr_idx, n_tr_idx], file)"
   ]
  },
  {
   "cell_type": "code",
   "execution_count": null,
   "metadata": {},
   "outputs": [],
   "source": []
  }
 ],
 "metadata": {
  "kernelspec": {
   "display_name": "Python 3 (ipykernel)",
   "language": "python",
   "name": "python3"
  },
  "language_info": {
   "codemirror_mode": {
    "name": "ipython",
    "version": 3
   },
   "file_extension": ".py",
   "mimetype": "text/x-python",
   "name": "python",
   "nbconvert_exporter": "python",
   "pygments_lexer": "ipython3",
   "version": "3.8.5"
  }
 },
 "nbformat": 4,
 "nbformat_minor": 2
}
