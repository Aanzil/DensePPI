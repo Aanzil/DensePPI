{
 "cells": [
  {
   "cell_type": "code",
   "execution_count": 1,
   "metadata": {},
   "outputs": [],
   "source": [
    "import os\n",
    "import shutil\n",
    "import pickle, json"
   ]
  },
  {
   "cell_type": "code",
   "execution_count": 2,
   "metadata": {},
   "outputs": [],
   "source": [
    "f = open(\"pimage_dict.json\")\n",
    "pimage_dict = json.load(f)\n",
    "f.close()\n",
    "\n",
    "f = open(\"nimage_dict.json\")\n",
    "nimage_dict = json.load(f)\n",
    "f.close()"
   ]
  },
  {
   "cell_type": "code",
   "execution_count": 3,
   "metadata": {},
   "outputs": [],
   "source": [
    "data_path = \"equal_all.pkl\"\n",
    "with open(data_path, 'rb') as file:\n",
    "    myvar = pickle.load(file)"
   ]
  },
  {
   "cell_type": "code",
   "execution_count": 4,
   "metadata": {},
   "outputs": [],
   "source": [
    "image_keys_p, image_keys_n, sub_p, sub_n = myvar"
   ]
  },
  {
   "cell_type": "code",
   "execution_count": 5,
   "metadata": {},
   "outputs": [
    {
     "name": "stdout",
     "output_type": "stream",
     "text": [
      "len sub_p = 1348570, len sub_n = 1346035\n"
     ]
    }
   ],
   "source": [
    "print(\"len sub_p = {}, len sub_n = {}\".format(len(sub_p), len(sub_n)))"
   ]
  },
  {
   "cell_type": "code",
   "execution_count": 6,
   "metadata": {},
   "outputs": [],
   "source": [
    "data_dir = os.getcwd() + \"/full/\""
   ]
  },
  {
   "cell_type": "code",
   "execution_count": 7,
   "metadata": {},
   "outputs": [
    {
     "name": "stdout",
     "output_type": "stream",
     "text": [
      "Total: POS=3320234,NEG=2207561\n"
     ]
    }
   ],
   "source": [
    "POSL=os.listdir(\"{}/full/pos_sub/\".format(os.getcwd()))\n",
    "NEGL=os.listdir(\"{}/full/neg_sub/\".format(os.getcwd()))\n",
    " \n",
    "print(\"Total: POS={},NEG={}\".format(len(POSL),len(NEGL)))"
   ]
  },
  {
   "cell_type": "code",
   "execution_count": 8,
   "metadata": {},
   "outputs": [],
   "source": [
    "P_sub_img_list = [\"PS_\"+ str(x) + \".png\" for x in sub_p]\n",
    "N_sub_img_list = [\"NS_\"+ str(x) + \".png\" for x in sub_n]"
   ]
  },
  {
   "cell_type": "code",
   "execution_count": 9,
   "metadata": {},
   "outputs": [],
   "source": [
    "pimagepath = os.getcwd() + \"/equal/pos_sub/\"\n",
    "os.makedirs(pimagepath, exist_ok=True)\n",
    "nimagepath = os.getcwd() + \"/equal/neg_sub/\"\n",
    "os.makedirs(nimagepath, exist_ok=True)"
   ]
  },
  {
   "cell_type": "code",
   "execution_count": 10,
   "metadata": {},
   "outputs": [],
   "source": [
    "psrc = \"{}/full/pos_sub/\".format(os.getcwd())\n",
    "nsrc = \"{}/full/neg_sub/\".format(os.getcwd())"
   ]
  },
  {
   "cell_type": "code",
   "execution_count": 11,
   "metadata": {},
   "outputs": [],
   "source": [
    "for img in P_sub_img_list:\n",
    "    full_file_name = os.path.join(psrc, img)\n",
    "    if os.path.isfile(full_file_name):\n",
    "        shutil.copy(full_file_name, pimagepath)"
   ]
  },
  {
   "cell_type": "code",
   "execution_count": 12,
   "metadata": {},
   "outputs": [
    {
     "name": "stdout",
     "output_type": "stream",
     "text": [
      "1348570\n"
     ]
    }
   ],
   "source": [
    "print(len(os.listdir(pimagepath)))"
   ]
  },
  {
   "cell_type": "code",
   "execution_count": 13,
   "metadata": {},
   "outputs": [],
   "source": [
    "for img in N_sub_img_list:\n",
    "    full_file_name = os.path.join(nsrc, img)\n",
    "    if os.path.isfile(full_file_name):\n",
    "        shutil.copy(full_file_name, nimagepath)"
   ]
  },
  {
   "cell_type": "code",
   "execution_count": 14,
   "metadata": {},
   "outputs": [
    {
     "name": "stdout",
     "output_type": "stream",
     "text": [
      "1346035\n"
     ]
    }
   ],
   "source": [
    "print(len(os.listdir(nimagepath)))"
   ]
  },
  {
   "cell_type": "code",
   "execution_count": null,
   "metadata": {},
   "outputs": [],
   "source": []
  }
 ],
 "metadata": {
  "kernelspec": {
   "display_name": "Python 3 (ipykernel)",
   "language": "python",
   "name": "python3"
  },
  "language_info": {
   "codemirror_mode": {
    "name": "ipython",
    "version": 3
   },
   "file_extension": ".py",
   "mimetype": "text/x-python",
   "name": "python",
   "nbconvert_exporter": "python",
   "pygments_lexer": "ipython3",
   "version": "3.8.5"
  }
 },
 "nbformat": 4,
 "nbformat_minor": 2
}
