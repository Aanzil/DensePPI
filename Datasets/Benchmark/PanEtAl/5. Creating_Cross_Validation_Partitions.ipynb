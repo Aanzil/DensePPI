{
 "cells": [
  {
   "cell_type": "code",
   "execution_count": 1,
   "metadata": {},
   "outputs": [
    {
     "data": {
      "text/plain": [
       "'/mnt/a8fe2bcf-9383-4903-9155-05f77b84ac2b/DEEP_Tapas_Aanzil'"
      ]
     },
     "execution_count": 1,
     "metadata": {},
     "output_type": "execute_result"
    }
   ],
   "source": [
    "import os\n",
    "import pickle\n",
    "import random\n",
    "os.getcwd()"
   ]
  },
  {
   "cell_type": "code",
   "execution_count": 2,
   "metadata": {},
   "outputs": [
    {
     "name": "stdout",
     "output_type": "stream",
     "text": [
      "Total: POS=36608,NEG=36480\n"
     ]
    }
   ],
   "source": [
    "data_path = os.getcwd() + \"/\"\n",
    "POSL=os.listdir(\"{}positive/\".format(data_path))\n",
    "NEGL=os.listdir(\"{}negative/\".format(data_path))\n",
    " \n",
    "print(\"Total: POS={},NEG={}\".format(len(POSL),len(NEGL)))"
   ]
  },
  {
   "cell_type": "code",
   "execution_count": 3,
   "metadata": {},
   "outputs": [],
   "source": [
    "P_sampled = random.sample(range(0, len(POSL)), len(POSL))\n",
    "N_sampled = random.sample(range(0, len(NEGL)), len(NEGL))"
   ]
  },
  {
   "cell_type": "code",
   "execution_count": 4,
   "metadata": {},
   "outputs": [],
   "source": [
    "HO_P_sampled = random.sample(range(0, len(POSL)), 4500)\n",
    "HO_N_sampled = random.sample(range(0, len(NEGL)), 4500)"
   ]
  },
  {
   "cell_type": "code",
   "execution_count": 5,
   "metadata": {},
   "outputs": [],
   "source": [
    "P_sampled = [x for x in P_sampled if x not in HO_P_sampled]\n",
    "N_sampled = [x for x in N_sampled if x not in HO_N_sampled]"
   ]
  },
  {
   "cell_type": "code",
   "execution_count": 6,
   "metadata": {},
   "outputs": [],
   "source": [
    "HO_P_sampled = [POSL[x] for x in HO_P_sampled]\n",
    "HO_N_sampled = [NEGL[x] for x in HO_N_sampled]"
   ]
  },
  {
   "cell_type": "code",
   "execution_count": 7,
   "metadata": {},
   "outputs": [
    {
     "name": "stdout",
     "output_type": "stream",
     "text": [
      "Each :: POSL = 3210, NEGL = 3198\n"
     ]
    }
   ],
   "source": [
    "P_length = int(len(P_sampled)/10) #length of each fold\n",
    "N_length = int(len(N_sampled)/10) #length of each fold\n",
    "print(\"Each :: POSL = {}, NEGL = {}\".format(P_length, N_length))"
   ]
  },
  {
   "cell_type": "code",
   "execution_count": 8,
   "metadata": {},
   "outputs": [],
   "source": [
    "P_list = []\n",
    "N_list = []\n",
    "for i in range(10):\n",
    "    temp = P_sampled[i*P_length : (i+1)*P_length]\n",
    "    temp = [POSL[x] for x in temp]\n",
    "    P_list.append(temp)\n",
    "    \n",
    "for i in range(10):\n",
    "    temp = N_sampled[i*N_length : (i+1)*N_length]\n",
    "    temp = [NEGL[x] for x in temp]\n",
    "    N_list.append(temp)"
   ]
  },
  {
   "cell_type": "code",
   "execution_count": 9,
   "metadata": {},
   "outputs": [],
   "source": [
    "with open('data_cv.pkl', 'wb') as file:\n",
    "    pickle.dump([P_list, N_list, HO_P_sampled, HO_N_sampled], file)"
   ]
  },
  {
   "cell_type": "code",
   "execution_count": null,
   "metadata": {},
   "outputs": [],
   "source": []
  }
 ],
 "metadata": {
  "kernelspec": {
   "display_name": "Python 3 (ipykernel)",
   "language": "python",
   "name": "python3"
  },
  "language_info": {
   "codemirror_mode": {
    "name": "ipython",
    "version": 3
   },
   "file_extension": ".py",
   "mimetype": "text/x-python",
   "name": "python",
   "nbconvert_exporter": "python",
   "pygments_lexer": "ipython3",
   "version": "3.8.5"
  }
 },
 "nbformat": 4,
 "nbformat_minor": 2
}
