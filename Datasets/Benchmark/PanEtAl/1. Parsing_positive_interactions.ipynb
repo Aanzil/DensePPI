{
 "cells": [
  {
   "cell_type": "code",
   "execution_count": 1,
   "metadata": {},
   "outputs": [],
   "source": [
    "import pandas as pd"
   ]
  },
  {
   "cell_type": "code",
   "execution_count": 2,
   "metadata": {},
   "outputs": [],
   "source": [
    "with open(\"Supp-A.txt\") as f:\n",
    "    lines = f.readlines()\n",
    "f.close()"
   ]
  },
  {
   "cell_type": "code",
   "execution_count": 3,
   "metadata": {},
   "outputs": [],
   "source": [
    "del lines[:4]\n",
    "df = pd.DataFrame(columns=['Index', 'Protein_1', 'Protein_2', \n",
    "                           'Protein_seq1', 'Protein_seq2'])"
   ]
  },
  {
   "cell_type": "code",
   "execution_count": 4,
   "metadata": {},
   "outputs": [],
   "source": [
    "i = 0\n",
    "count = 1\n",
    "\n",
    "while (i < len(lines)):\n",
    "    li = list()\n",
    "    li.append(count)\n",
    "    li.extend(lines[i][:-1].split()[1:]) #removing '\\n'\n",
    "    li.append(lines[i+2][:-1])\n",
    "    li.append(lines[i+4][:-1]) \n",
    "    df = df.append(pd.Series(li, index=df.columns), ignore_index=True)\n",
    "    count+=1\n",
    "    i+=5"
   ]
  },
  {
   "cell_type": "code",
   "execution_count": 5,
   "metadata": {},
   "outputs": [],
   "source": [
    "df.to_pickle('positive.pkl')"
   ]
  },
  {
   "cell_type": "code",
   "execution_count": null,
   "metadata": {},
   "outputs": [],
   "source": []
  }
 ],
 "metadata": {
  "kernelspec": {
   "display_name": "Python 3 (ipykernel)",
   "language": "python",
   "name": "python3"
  },
  "language_info": {
   "codemirror_mode": {
    "name": "ipython",
    "version": 3
   },
   "file_extension": ".py",
   "mimetype": "text/x-python",
   "name": "python",
   "nbconvert_exporter": "python",
   "pygments_lexer": "ipython3",
   "version": "3.8.5"
  }
 },
 "nbformat": 4,
 "nbformat_minor": 2
}
