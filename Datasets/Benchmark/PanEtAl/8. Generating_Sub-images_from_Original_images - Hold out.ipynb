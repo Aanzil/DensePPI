{
 "cells": [
  {
   "cell_type": "code",
   "execution_count": 1,
   "metadata": {},
   "outputs": [],
   "source": [
    "import pandas as pd\n",
    "import pickle\n",
    "import numpy as np\n",
    "import os\n",
    "import matplotlib.pyplot as plt\n",
    "from pathlib import Path\n",
    "from PIL import Image\n",
    "import multiprocessing"
   ]
  },
  {
   "cell_type": "code",
   "execution_count": 2,
   "metadata": {},
   "outputs": [],
   "source": [
    "pimagepath = os.getcwd() + \"/HO/pos_sub/\"\n",
    "os.makedirs(pimagepath, exist_ok=True)\n",
    "nimagepath = os.getcwd() + \"/HO/neg_sub/\"\n",
    "os.makedirs(nimagepath, exist_ok=True)"
   ]
  },
  {
   "cell_type": "code",
   "execution_count": 3,
   "metadata": {},
   "outputs": [],
   "source": [
    "data_path = os.path.dirname(os.getcwd()) + \"/data_cv.pkl\"\n",
    "with open(data_path, 'rb') as file:\n",
    "    myvar = pickle.load(file)\n",
    "\n",
    "HO_P_list = myvar[2]\n",
    "HO_N_list = myvar[3]"
   ]
  },
  {
   "cell_type": "code",
   "execution_count": 4,
   "metadata": {},
   "outputs": [],
   "source": [
    "def sliding_window(image, stride, imgSize):\n",
    "    height, width, _ = image.shape\n",
    "    img = []\n",
    "    a1 = list(range(0, height-imgSize+stride, stride))\n",
    "    a2 = list(range(0, width-imgSize+stride, stride))\n",
    "    if (a1[-1]+imgSize != height):\n",
    "        a1[-1] = height-imgSize\n",
    "    if (a2[-1]+imgSize != width):\n",
    "        a2[-1] = width-imgSize\n",
    "    for y in a1:\n",
    "        for x in a2:\n",
    "            im1 = image[y:y+imgSize, x:x+imgSize, :]\n",
    "            img.append(np.array(im1))\n",
    "    return img"
   ]
  },
  {
   "cell_type": "code",
   "execution_count": 5,
   "metadata": {},
   "outputs": [],
   "source": [
    "def handle_one_image(path, sType):\n",
    "    image_data = []\n",
    "    im = Image.open(path)\n",
    "    im = np.array(im)\n",
    "    if (im.shape[0] >= SIZE and im.shape[1] >= SIZE):\n",
    "        img = sliding_window(im, STRIDE, SIZE)\n",
    "        for i in range(len(img)):\n",
    "            if(img[i].shape[2] >=3):\n",
    "                image_data.append(img[i])\n",
    "        return image_data, sType\n",
    "    else:\n",
    "        # indicate that no images are available\n",
    "        return [], sType"
   ]
  },
  {
   "cell_type": "code",
   "execution_count": 6,
   "metadata": {},
   "outputs": [],
   "source": [
    "SIZE = 128\n",
    "STRIDE = 64\n",
    "pimage_dict = {}\n",
    "nimage_dict = {}\n",
    "psubimage_counter = 0\n",
    "pimage_counter = 0\n",
    "nsubimage_counter = 0\n",
    "nimage_counter = 0"
   ]
  },
  {
   "cell_type": "code",
   "execution_count": 7,
   "metadata": {},
   "outputs": [],
   "source": [
    "def gen_sub_img(posl, negl):\n",
    "    global pimage_dict\n",
    "    global nimage_dict\n",
    "    global psubimage_counter\n",
    "    global pimage_counter\n",
    "    global nsubimage_counter\n",
    "    global nimage_counter\n",
    "    print(\"Creating Sub images\")\n",
    "    # Create a list of tuples consisting of the file path, and the class\n",
    "    # dictionary info for each of the cl arguments\n",
    "    args = []\n",
    "    for img in posl:\n",
    "        path = os.getcwd() + \"/positive/\" + img\n",
    "        args.append((path, \"PS_\"))\n",
    "    for img in negl:\n",
    "        path = os.getcwd() + \"/negative/\" + img\n",
    "        args.append((path, \"NS_\"))\n",
    "            \n",
    "    num_workers = multiprocessing.cpu_count()  \n",
    "\n",
    "    with multiprocessing.Pool(processes = num_workers) as pool:   # or however many processes\n",
    "        image_counter = 0\n",
    "        \n",
    "        # Use multiprocessing to call handle_on_image(pathname, info)\n",
    "        # and return the results in order\n",
    "        for images, sType in pool.starmap(handle_one_image, args):\n",
    "            image_list = []\n",
    "            # Images is a list of returned images.  info is the class_dictionary info that we passed\n",
    "            if(sType == \"PS_\"):\n",
    "                for image in images:\n",
    "                    image_list.append(psubimage_counter)\n",
    "                    file_name = str(pimagepath + sType + str(psubimage_counter) + \".png\")\n",
    "                    plt.imsave(file_name, image)\n",
    "                    psubimage_counter += 1\n",
    "                pimage_dict[pimage_counter] = image_list\n",
    "                pimage_counter += 1\n",
    "            else:\n",
    "                for image in images:\n",
    "                    image_list.append(nsubimage_counter)\n",
    "                    file_name = str(nimagepath + sType + str(nsubimage_counter) + \".png\")\n",
    "                    plt.imsave(file_name, image)\n",
    "                    nsubimage_counter += 1\n",
    "                nimage_dict[nimage_counter] = image_list\n",
    "                nimage_counter += 1\n",
    "    print(\"Sliding window process finished\")"
   ]
  },
  {
   "cell_type": "code",
   "execution_count": 8,
   "metadata": {},
   "outputs": [
    {
     "name": "stdout",
     "output_type": "stream",
     "text": [
      "Creating Sub images\n",
      "Sliding window process finished\n",
      "Sub-image generation finished for data part -> 1\n",
      "Creating Sub images\n",
      "Sliding window process finished\n",
      "Sub-image generation finished for data part -> 2\n",
      "Creating Sub images\n",
      "Sliding window process finished\n",
      "Sub-image generation finished for data part -> 3\n",
      "Creating Sub images\n",
      "Sliding window process finished\n",
      "Sub-image generation finished for data part -> 4\n",
      "Creating Sub images\n",
      "Sliding window process finished\n",
      "Sub-image generation finished for data part -> 5\n",
      "Creating Sub images\n",
      "Sliding window process finished\n",
      "Sub-image generation finished for data part -> 6\n",
      "Creating Sub images\n",
      "Sliding window process finished\n",
      "Sub-image generation finished for data part -> 7\n",
      "Creating Sub images\n",
      "Sliding window process finished\n",
      "Sub-image generation finished for data part -> 8\n",
      "Creating Sub images\n",
      "Sliding window process finished\n",
      "Sub-image generation finished for data part -> 9\n",
      "Creating Sub images\n",
      "Sliding window process finished\n",
      "Sub-image generation finished for data part -> 10\n"
     ]
    }
   ],
   "source": [
    "data_partition = 10\n",
    "divp = int(len(HO_P_list)/data_partition)\n",
    "divn = int(len(HO_N_list)/data_partition)\n",
    "fromidx = 0\n",
    "toidx = 0\n",
    "for i in range(data_partition):\n",
    "    fromidx, toidx = i*divp, (i+1)*divp\n",
    "    P = HO_P_list[fromidx : toidx]\n",
    "    fromidx, toidx =  i*divn, (i+1)*divn\n",
    "    N = HO_N_list[fromidx : toidx]\n",
    "    gen_sub_img(P, N)\n",
    "    print(\"Sub-image generation finished for data part -> {}\".format(i+1))"
   ]
  },
  {
   "cell_type": "code",
   "execution_count": 9,
   "metadata": {},
   "outputs": [
    {
     "data": {
      "text/plain": [
       "4500"
      ]
     },
     "execution_count": 9,
     "metadata": {},
     "output_type": "execute_result"
    }
   ],
   "source": [
    "len(nimage_dict.keys())"
   ]
  },
  {
   "cell_type": "code",
   "execution_count": 10,
   "metadata": {},
   "outputs": [],
   "source": [
    "pli = [len(pimage_dict[k]) for k in pimage_dict.keys()]\n",
    "nli = [len(nimage_dict[k]) for k in nimage_dict.keys()]"
   ]
  },
  {
   "cell_type": "code",
   "execution_count": 11,
   "metadata": {},
   "outputs": [],
   "source": [
    "pli = [len(pimage_dict[k]) for k in pimage_dict.keys() if len(pimage_dict[k]) != 0]\n",
    "nli = [len(nimage_dict[k]) for k in nimage_dict.keys() if len(nimage_dict[k]) != 0]"
   ]
  },
  {
   "cell_type": "code",
   "execution_count": 12,
   "metadata": {},
   "outputs": [
    {
     "data": {
      "text/plain": [
       "109.04944405015377"
      ]
     },
     "execution_count": 12,
     "metadata": {},
     "output_type": "execute_result"
    }
   ],
   "source": [
    "np.mean(pli)"
   ]
  },
  {
   "cell_type": "code",
   "execution_count": 13,
   "metadata": {},
   "outputs": [
    {
     "data": {
      "text/plain": [
       "70.19310517112166"
      ]
     },
     "execution_count": 13,
     "metadata": {},
     "output_type": "execute_result"
    }
   ],
   "source": [
    "np.mean(nli)"
   ]
  },
  {
   "cell_type": "code",
   "execution_count": 14,
   "metadata": {},
   "outputs": [
    {
     "name": "stdout",
     "output_type": "stream",
     "text": [
      "Mean : positive -> 109.04944405015377 ; negative - > 70.19310517112166\n",
      "SD : positive -> 179.95671263153318 ; negative - > 142.99156615490338\n",
      "MAX : positive -> 3264 ; negative - > 6624\n",
      "MIN : positive -> 2 ; negative - > 2\n"
     ]
    }
   ],
   "source": [
    "print(\"Mean : positive -> {} ; negative - > {}\".format(np.mean(pli), np.mean(nli)))\n",
    "print(\"SD : positive -> {} ; negative - > {}\".format(np.std(pli), np.std(nli)))\n",
    "print(\"MAX : positive -> {} ; negative - > {}\".format(np.max(pli), np.max(nli)))\n",
    "print(\"MIN : positive -> {} ; negative - > {}\".format(np.min(pli), np.min(nli)))"
   ]
  },
  {
   "cell_type": "code",
   "execution_count": 15,
   "metadata": {},
   "outputs": [],
   "source": [
    "import json\n",
    "with open(\"pimage_dict_ho.json\", \"w\") as outfile:\n",
    "    json.dump(pimage_dict, outfile)\n",
    "    \n",
    "with open(\"nimage_dict_ho.json\", \"w\") as outfile:\n",
    "    json.dump(nimage_dict, outfile)    "
   ]
  },
  {
   "cell_type": "code",
   "execution_count": 16,
   "metadata": {},
   "outputs": [
    {
     "name": "stdout",
     "output_type": "stream",
     "text": [
      "4227\n",
      "4003\n",
      "460952\n",
      "280983\n"
     ]
    }
   ],
   "source": [
    "pli = [len(pimage_dict[k]) for k in pimage_dict.keys() if len(pimage_dict[k]) != 0]\n",
    "nli = [len(nimage_dict[k]) for k in nimage_dict.keys() if len(nimage_dict[k]) != 0]\n",
    "print(len(pli))\n",
    "print(len(nli))\n",
    "print(sum(pli))\n",
    "print(sum(nli))"
   ]
  },
  {
   "cell_type": "code",
   "execution_count": 17,
   "metadata": {},
   "outputs": [
    {
     "name": "stdout",
     "output_type": "stream",
     "text": [
      "3275\n",
      "3806\n",
      "127085\n",
      "125702\n"
     ]
    }
   ],
   "source": [
    "thresh = 100\n",
    "pli = [len(pimage_dict[k]) for k in pimage_dict.keys() if len(pimage_dict[k]) <= thresh]\n",
    "nli = [len(nimage_dict[k]) for k in nimage_dict.keys() if len(nimage_dict[k]) <= thresh]\n",
    "print(len(pli))\n",
    "print(len(nli))\n",
    "print(sum(pli))\n",
    "print(sum(nli))"
   ]
  },
  {
   "cell_type": "code",
   "execution_count": 18,
   "metadata": {},
   "outputs": [],
   "source": [
    "import sys\n",
    "import pickle"
   ]
  },
  {
   "cell_type": "code",
   "execution_count": 19,
   "metadata": {},
   "outputs": [
    {
     "name": "stdout",
     "output_type": "stream",
     "text": [
      "125385\n",
      "124902\n",
      "99\n"
     ]
    }
   ],
   "source": [
    "minDiff = sys.maxsize\n",
    "a = 0\n",
    "b = 0\n",
    "idx = 0 \n",
    "for i in range(0, 201, 1):\n",
    "    thresh = i\n",
    "    pli = [len(pimage_dict[k]) for k in pimage_dict.keys() if len(pimage_dict[k]) <= thresh]\n",
    "    nli = [len(nimage_dict[k]) for k in nimage_dict.keys() if len(nimage_dict[k]) <= thresh]\n",
    "    if (minDiff > (sum(pli) - sum(nli))):\n",
    "        minDiff = abs(sum(pli) - sum(nli))\n",
    "        idx, a, b = i, sum(pli), sum(nli)\n",
    "print(a)\n",
    "print(b)\n",
    "print(idx)"
   ]
  },
  {
   "cell_type": "code",
   "execution_count": 20,
   "metadata": {},
   "outputs": [
    {
     "name": "stdout",
     "output_type": "stream",
     "text": [
      "3208\n",
      "3772\n",
      "120456\n",
      "122342\n"
     ]
    }
   ],
   "source": [
    "thresh = 97\n",
    "pli = [len(pimage_dict[k]) for k in pimage_dict.keys() if len(pimage_dict[k]) <= thresh]\n",
    "nli = [len(nimage_dict[k]) for k in nimage_dict.keys() if len(nimage_dict[k]) <= thresh]\n",
    "print(len(pli))\n",
    "print(len(nli))\n",
    "print(sum(pli))\n",
    "print(sum(nli))"
   ]
  },
  {
   "cell_type": "code",
   "execution_count": 21,
   "metadata": {},
   "outputs": [],
   "source": [
    "image_keys_p = [k for k in pimage_dict.keys() if len(pimage_dict[k]) <= thresh]\n",
    "image_keys_n = [k for k in nimage_dict.keys() if len(nimage_dict[k]) <= thresh]\n",
    "sub_p = [pimage_dict[k] for k in pimage_dict.keys() if len(pimage_dict[k]) <= thresh]\n",
    "sub_n = [nimage_dict[k] for k in nimage_dict.keys() if len(nimage_dict[k]) <= thresh]"
   ]
  },
  {
   "cell_type": "code",
   "execution_count": 22,
   "metadata": {},
   "outputs": [],
   "source": [
    "sub_p = [item for sublist in sub_p for item in sublist]\n",
    "sub_n = [item for sublist in sub_n for item in sublist]"
   ]
  },
  {
   "cell_type": "code",
   "execution_count": 23,
   "metadata": {},
   "outputs": [],
   "source": [
    "with open('equal_all_ho.pkl', 'wb') as file:\n",
    "    pickle.dump([image_keys_p, image_keys_n, sub_p, sub_n], file)"
   ]
  },
  {
   "cell_type": "code",
   "execution_count": null,
   "metadata": {},
   "outputs": [],
   "source": []
  }
 ],
 "metadata": {
  "kernelspec": {
   "display_name": "Python 3 (ipykernel)",
   "language": "python",
   "name": "python3"
  },
  "language_info": {
   "codemirror_mode": {
    "name": "ipython",
    "version": 3
   },
   "file_extension": ".py",
   "mimetype": "text/x-python",
   "name": "python",
   "nbconvert_exporter": "python",
   "pygments_lexer": "ipython3",
   "version": "3.8.5"
  }
 },
 "nbformat": 4,
 "nbformat_minor": 2
}
