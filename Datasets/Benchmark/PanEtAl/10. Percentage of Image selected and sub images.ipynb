{
 "cells": [
  {
   "cell_type": "code",
   "execution_count": 4,
   "metadata": {},
   "outputs": [],
   "source": [
    "import pickle, os"
   ]
  },
  {
   "cell_type": "code",
   "execution_count": 5,
   "metadata": {},
   "outputs": [
    {
     "name": "stdout",
     "output_type": "stream",
     "text": [
      "Total: POS=36608,NEG=36480\n"
     ]
    }
   ],
   "source": [
    "POSL=os.listdir(\"{}/positive/\".format(os.getcwd()))\n",
    "NEGL=os.listdir(\"{}/negative/\".format(os.getcwd()))\n",
    " \n",
    "print(\"Total: POS={},NEG={}\".format(len(POSL),len(NEGL)))"
   ]
  },
  {
   "cell_type": "code",
   "execution_count": 6,
   "metadata": {},
   "outputs": [],
   "source": [
    "data_path = \"data_cv.pkl\"\n",
    "with open(data_path, 'rb') as file:\n",
    "    myvar = pickle.load(file)\n",
    "\n",
    "HO_P_list = myvar[2]\n",
    "HO_N_list = myvar[3]\n",
    "\n",
    "POSL = [x for x in POSL if x not in HO_P_list]\n",
    "NEGL = [x for x in NEGL if x not in HO_P_list]"
   ]
  },
  {
   "cell_type": "code",
   "execution_count": 8,
   "metadata": {},
   "outputs": [
    {
     "name": "stdout",
     "output_type": "stream",
     "text": [
      "Total percent of images selected :  91.35563072257537 %\n"
     ]
    }
   ],
   "source": [
    "from PIL import Image\n",
    "\n",
    "count = 0\n",
    "SIZE = 128\n",
    "\n",
    "for img_file in POSL:\n",
    "    path = \"{}/positive/\".format(os.getcwd())+img_file\n",
    "    im = Image.open(path)\n",
    "    width, height = im.size\n",
    "    if(width >= SIZE and height >= SIZE):\n",
    "        count+=1\n",
    "        \n",
    "for img_file in NEGL:\n",
    "    path = \"{}/negative/\".format(os.getcwd())+img_file\n",
    "    im = Image.open(path)\n",
    "    width, height = im.size\n",
    "    if(width >= SIZE and height >= SIZE):\n",
    "        count+=1\n",
    "        \n",
    "print(\"Total percent of images selected : \", count/(len(POSL)+len(NEGL))*100, \"%\")"
   ]
  },
  {
   "cell_type": "code",
   "execution_count": 9,
   "metadata": {},
   "outputs": [
    {
     "name": "stdout",
     "output_type": "stream",
     "text": [
      "Total percent of images selected :  91.44444444444444 %\n"
     ]
    }
   ],
   "source": [
    "count = 0\n",
    "\n",
    "for img_file in HO_P_list:\n",
    "    path = \"{}/positive/\".format(os.getcwd())+img_file\n",
    "    im = Image.open(path)\n",
    "    width, height = im.size\n",
    "    if(width >= SIZE and height >= SIZE):\n",
    "        count+=1\n",
    "        \n",
    "for img_file in HO_N_list:\n",
    "    path = \"{}/negative/\".format(os.getcwd())+img_file\n",
    "    im = Image.open(path)\n",
    "    width, height = im.size\n",
    "    if(width >= SIZE and height >= SIZE):\n",
    "        count+=1\n",
    "        \n",
    "print(\"Total percent of images selected : \", count/(len(HO_P_list)+len(HO_N_list))*100, \"%\")"
   ]
  },
  {
   "cell_type": "code",
   "execution_count": 10,
   "metadata": {},
   "outputs": [
    {
     "name": "stdout",
     "output_type": "stream",
     "text": [
      "Total: POS=3320234,NEG=2207561\n"
     ]
    }
   ],
   "source": [
    "POSLtr=os.listdir(\"{}/full/pos_sub/\".format(os.getcwd()))\n",
    "NEGLtr=os.listdir(\"{}/full/neg_sub/\".format(os.getcwd()))\n",
    " \n",
    "print(\"Total: POS={},NEG={}\".format(len(POSLtr),len(NEGLtr)))"
   ]
  },
  {
   "cell_type": "code",
   "execution_count": 11,
   "metadata": {},
   "outputs": [
    {
     "name": "stdout",
     "output_type": "stream",
     "text": [
      "Total: POS=460952,NEG=280983\n"
     ]
    }
   ],
   "source": [
    "POSLtr=os.listdir(\"{}/HO/pos_sub/\".format(os.getcwd()))\n",
    "NEGLtr=os.listdir(\"{}/HO/neg_sub/\".format(os.getcwd()))\n",
    " \n",
    "print(\"Total: POS={},NEG={}\".format(len(POSLtr),len(NEGLtr)))"
   ]
  },
  {
   "cell_type": "code",
   "execution_count": null,
   "metadata": {},
   "outputs": [],
   "source": []
  }
 ],
 "metadata": {
  "kernelspec": {
   "display_name": "Python 3 (ipykernel)",
   "language": "python",
   "name": "python3"
  },
  "language_info": {
   "codemirror_mode": {
    "name": "ipython",
    "version": 3
   },
   "file_extension": ".py",
   "mimetype": "text/x-python",
   "name": "python",
   "nbconvert_exporter": "python",
   "pygments_lexer": "ipython3",
   "version": "3.8.5"
  }
 },
 "nbformat": 4,
 "nbformat_minor": 2
}
